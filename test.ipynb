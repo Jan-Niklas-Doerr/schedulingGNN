{
 "cells": [
  {
   "cell_type": "code",
   "execution_count": 1,
   "metadata": {},
   "outputs": [],
   "source": [
    "from queue import PriorityQueue\n"
   ]
  },
  {
   "cell_type": "code",
   "execution_count": 24,
   "metadata": {},
   "outputs": [
    {
     "name": "stdout",
     "output_type": "stream",
     "text": [
      "(1, 'Aile', 2)\n",
      "(1, 'Mahmut')\n",
      "(2, 'Harry', 5)\n",
      "(3, 'Charles', 6)\n"
     ]
    }
   ],
   "source": [
    "customers = PriorityQueue() #we initialise the PQ class instead of using a function to operate upon a list. \n",
    "customers.put((2, \"Harry\",5))\n",
    "customers.put((3, \"Charles\",6))\n",
    "customers.put((1, \"Aile\",2))\n",
    "customers.put((1, \"Mahmut\"))\n",
    "\n",
    "while not customers.empty():\n",
    "    print(customers.get())"
   ]
  },
  {
   "cell_type": "code",
   "execution_count": 21,
   "metadata": {},
   "outputs": [
    {
     "name": "stdout",
     "output_type": "stream",
     "text": [
      "(1079.0, ['ORD_01', 'CEREAL_1'])\n",
      "(1079.0, ['ORD_02', 'CEREAL_1'])\n",
      "(1079.0, ['ORD_03', 'CEREAL_1'])\n",
      "(1079.0, ['ORD_04', 'CEREAL_1'])\n",
      "(1079.0, ['ORD_05', 'CEREAL_1'])\n",
      "(1079.0, ['ORD_06', 'CEREAL_2'])\n",
      "(1079.0, ['ORD_07', 'CEREAL_2'])\n",
      "(1079.0, ['ORD_08', 'CEREAL_2'])\n",
      "(1079.0, ['ORD_09', 'CEREAL_2'])\n",
      "(1079.0, ['ORD_10', 'CEREAL_2'])\n",
      "(1079.0, ['ORD_11', 'CEREAL_2'])\n",
      "(1079.0, ['ORD_12', 'CEREAL_3'])\n",
      "(1079.0, ['ORD_13', 'CEREAL_3'])\n",
      "(1079.0, ['ORD_14', 'CEREAL_3'])\n",
      "(2519.0, ['ORD_15', 'CEREAL_1'])\n",
      "(2519.0, ['ORD_16', 'CEREAL_1'])\n",
      "(2519.0, ['ORD_17', 'CEREAL_1'])\n",
      "(2519.0, ['ORD_18', 'CEREAL_1'])\n",
      "(2519.0, ['ORD_19', 'CEREAL_1'])\n",
      "(2519.0, ['ORD_20', 'CEREAL_2'])\n",
      "(2519.0, ['ORD_21', 'CEREAL_2'])\n",
      "(2519.0, ['ORD_22', 'CEREAL_2'])\n",
      "(2519.0, ['ORD_23', 'CEREAL_2'])\n",
      "(2519.0, ['ORD_24', 'CEREAL_2'])\n",
      "(2519.0, ['ORD_25', 'CEREAL_2'])\n",
      "(2519.0, ['ORD_26', 'CEREAL_2'])\n",
      "(2519.0, ['ORD_27', 'CEREAL_2'])\n",
      "(2519.0, ['ORD_28', 'CEREAL_3'])\n",
      "(2519.0, ['ORD_29', 'CEREAL_3'])\n",
      "(2519.0, ['ORD_30', 'CEREAL_3'])\n",
      "(3959.0, ['ORD_31', 'CEREAL_1'])\n",
      "(3959.0, ['ORD_32', 'CEREAL_1'])\n",
      "(3959.0, ['ORD_33', 'CEREAL_1'])\n",
      "(3959.0, ['ORD_34', 'CEREAL_1'])\n",
      "(3959.0, ['ORD_35', 'CEREAL_1'])\n",
      "(3959.0, ['ORD_36', 'CEREAL_2'])\n",
      "(3959.0, ['ORD_37', 'CEREAL_2'])\n",
      "(3959.0, ['ORD_38', 'CEREAL_2'])\n",
      "(3959.0, ['ORD_39', 'CEREAL_2'])\n",
      "(3959.0, ['ORD_40', 'CEREAL_2'])\n",
      "(3959.0, ['ORD_41', 'CEREAL_2'])\n",
      "(3959.0, ['ORD_42', 'CEREAL_2'])\n",
      "(3959.0, ['ORD_43', 'CEREAL_2'])\n",
      "(3959.0, ['ORD_44', 'CEREAL_2'])\n",
      "(3959.0, ['ORD_45', 'CEREAL_2'])\n",
      "(3959.0, ['ORD_46', 'CEREAL_3'])\n",
      "(3959.0, ['ORD_47', 'CEREAL_3'])\n",
      "(3959.0, ['ORD_48', 'CEREAL_3'])\n",
      "(3959.0, ['ORD_49', 'CEREAL_3'])\n",
      "(3959.0, ['ORD_50', 'CEREAL_3'])\n",
      "(3959.0, ['ORD_51', 'CEREAL_3'])\n",
      "(3959.0, ['ORD_52', 'CEREAL_3'])\n",
      "(3959.0, ['ORD_53', 'CEREAL_3'])\n",
      "(3959.0, ['ORD_54', 'CEREAL_3'])\n",
      "(3959.0, ['ORD_55', 'CEREAL_3'])\n"
     ]
    }
   ],
   "source": [
    "orders = {'ORD_36': {'due_date': 3959.0, 'product': 'CEREAL_2'}, 'ORD_05': {'due_date': 1079.0, 'product': 'CEREAL_1'}, 'ORD_03': {'due_date': 1079.0, 'product': 'CEREAL_1'}, 'ORD_25': {'due_date': 2519.0, 'product': 'CEREAL_2'}, 'ORD_20': {'due_date': 2519.0, 'product': 'CEREAL_2'}, 'ORD_39': {'due_date': 3959.0, 'product': 'CEREAL_2'}, 'ORD_23': {'due_date': 2519.0, 'product': 'CEREAL_2'}, 'ORD_11': {'due_date': 1079.0, 'product': 'CEREAL_2'}, 'ORD_32': {'due_date': 3959.0, 'product': 'CEREAL_1'}, 'ORD_30': {'due_date': 2519.0, 'product': 'CEREAL_3'}, 'ORD_07': {'due_date': 1079.0, 'product': 'CEREAL_2'}, 'ORD_44': {'due_date': 3959.0, 'product': 'CEREAL_2'}, 'ORD_28': {'due_date': 2519.0, 'product': 'CEREAL_3'}, 'ORD_02': {'due_date': 1079.0, 'product': 'CEREAL_1'}, 'ORD_14': {'due_date': 1079.0, 'product': 'CEREAL_3'}, 'ORD_53': {'due_date': 3959.0, 'product': 'CEREAL_3'}, 'ORD_42': {'due_date': 3959.0, 'product': 'CEREAL_2'}, 'ORD_16': {'due_date': 2519.0, 'product': 'CEREAL_1'}, 'ORD_35': {'due_date': 3959.0, 'product': 'CEREAL_1'}, 'ORD_33': {'due_date': 3959.0, 'product': 'CEREAL_1'}, 'ORD_41': {'due_date': 3959.0, 'product': 'CEREAL_2'}, 'ORD_31': {'due_date': 3959.0, 'product': 'CEREAL_1'}, 'ORD_09': {'due_date': 1079.0, 'product': 'CEREAL_2'}, 'ORD_10': {'due_date': 1079.0, 'product': 'CEREAL_2'}, 'ORD_22': {'due_date': 2519.0, 'product': 'CEREAL_2'}, 'ORD_27': {'due_date': 2519.0, 'product': 'CEREAL_2'}, 'ORD_45': {'due_date': 3959.0, 'product': 'CEREAL_2'}, 'ORD_50': {'due_date': 3959.0, 'product': 'CEREAL_3'}, 'ORD_15': {'due_date': 2519.0, 'product': 'CEREAL_1'}, 'ORD_49': {'due_date': 3959.0, 'product': 'CEREAL_3'}, 'ORD_08': {'due_date': 1079.0, 'product': 'CEREAL_2'}, 'ORD_51': {'due_date': 3959.0, 'product': 'CEREAL_3'}, 'ORD_43': {'due_date': 3959.0, 'product': 'CEREAL_2'}, 'ORD_52': {'due_date': 3959.0, 'product': 'CEREAL_3'}, 'ORD_54': {'due_date': 3959.0, 'product': 'CEREAL_3'}, 'ORD_34': {'due_date': 3959.0, 'product': 'CEREAL_1'}, 'ORD_12': {'due_date': 1079.0, 'product': 'CEREAL_3'}, 'ORD_17': {'due_date': 2519.0, 'product': 'CEREAL_1'}, 'ORD_13': {'due_date': 1079.0, 'product': 'CEREAL_3'}, 'ORD_18': {'due_date': 2519.0, 'product': 'CEREAL_1'}, 'ORD_29': {'due_date': 2519.0, 'product': 'CEREAL_3'}, 'ORD_38': {'due_date': 3959.0, 'product': 'CEREAL_2'}, 'ORD_47': {'due_date': 3959.0, 'product': 'CEREAL_3'}, 'ORD_48': {'due_date': 3959.0, 'product': 'CEREAL_3'}, 'ORD_19': {'due_date': 2519.0, 'product': 'CEREAL_1'}, 'ORD_04': {'due_date': 1079.0, 'product': 'CEREAL_1'}, 'ORD_01': {'due_date': 1079.0, 'product': 'CEREAL_1'}, 'ORD_37': {'due_date': 3959.0, 'product': 'CEREAL_2'}, 'ORD_46': {'due_date': 3959.0, 'product': 'CEREAL_3'}, 'ORD_06': {'due_date': 1079.0, 'product': 'CEREAL_2'}, 'ORD_21': {'due_date': 2519.0, 'product': 'CEREAL_2'}, 'ORD_40': {'due_date': 3959.0, 'product': 'CEREAL_2'}, 'ORD_24': {'due_date': 2519.0, 'product': 'CEREAL_2'}, 'ORD_26': {'due_date': 2519.0, 'product': 'CEREAL_2'}, 'ORD_55': {'due_date': 3959.0, 'product': 'CEREAL_3'}}\n",
    "ordered = PriorityQueue()\n",
    "for ord_name, args in orders.items():\n",
    "    ordered.put((args[\"due_date\"],[ord_name,args[\"product\"]]))\n",
    "while not ordered.empty():\n",
    "    print(ordered.get())"
   ]
  },
  {
   "cell_type": "code",
   "execution_count": 25,
   "metadata": {},
   "outputs": [],
   "source": [
    "class Product:\n",
    "\n",
    "\n",
    "    def __init__(self, ord_name, due_date, product_name, operation_dict = None ):\n",
    "        \n",
    "        self.ord_name = ord_name\n",
    "        self.due_date = due_date\n",
    "        self.product_name = product_name\n",
    "\n",
    "    def __lt__(self, obj):\n",
    "        return self.due_date < obj.due_date\n",
    "\n",
    "    def __le__(self, obj):\n",
    "        return self.due_date <= obj.due_date\n",
    "\n",
    "    def __eq__(self, obj):\n",
    "        return self.due_date == obj.due_date\n",
    "\n",
    "    def __ne__(self, obj):\n",
    "        return self.due_date != obj.due_date\n",
    "\n",
    "    def __gt__(self, obj):\n",
    "        return self.due_date > obj.due_date\n",
    "\n",
    "    def __ge__(self, obj):\n",
    "        return self.due_date >= obj.due_date"
   ]
  },
  {
   "cell_type": "code",
   "execution_count": 30,
   "metadata": {},
   "outputs": [
    {
     "name": "stdout",
     "output_type": "stream",
     "text": [
      "ord2\n",
      "ord3\n",
      "ord1\n",
      "ord4\n"
     ]
    }
   ],
   "source": [
    "orders = PriorityQueue() #we initialise the PQ class instead of using a function to operate upon a list. \n",
    "\n",
    "orders.put(Product(\"ord4\",5,\"pro1\"))\n",
    "orders.put(Product(\"ord2\",1,\"pro1\"))\n",
    "orders.put(Product(\"ord3\",1,\"pro1\"))\n",
    "orders.put(Product(\"ord1\",2,\"pro1\"))\n",
    "\n",
    "\n",
    "\n",
    "\n",
    "while not orders.empty():\n",
    "    print(orders.get().ord_name )"
   ]
  }
 ],
 "metadata": {
  "kernelspec": {
   "display_name": "Python 3",
   "language": "python",
   "name": "python3"
  },
  "language_info": {
   "codemirror_mode": {
    "name": "ipython",
    "version": 3
   },
   "file_extension": ".py",
   "mimetype": "text/x-python",
   "name": "python",
   "nbconvert_exporter": "python",
   "pygments_lexer": "ipython3",
   "version": "3.8.13"
  },
  "orig_nbformat": 4
 },
 "nbformat": 4,
 "nbformat_minor": 2
}
