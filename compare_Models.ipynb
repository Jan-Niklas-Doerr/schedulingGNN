{
 "cells": [
  {
   "cell_type": "code",
   "execution_count": 1,
   "id": "11c884f8-8f81-4477-88d3-71cd212c3a58",
   "metadata": {},
   "outputs": [],
   "source": [
    "from simulations  import sim_randomised, sim_constrained, sim_automated\n",
    "import random"
   ]
  },
  {
   "cell_type": "code",
   "execution_count": 3,
   "id": "81532ca0-e879-4796-9fac-2d508863ef8e",
   "metadata": {
    "scrolled": false
   },
   "outputs": [
    {
     "ename": "AttributeError",
     "evalue": "'Env' object has no attribute 'get_state'",
     "output_type": "error",
     "traceback": [
      "\u001b[0;31m---------------------------------------------------------------------------\u001b[0m",
      "\u001b[0;31mAttributeError\u001b[0m                            Traceback (most recent call last)",
      "\u001b[0;32m/var/folders/tp/g5d5jn1j0x3d60w7kqpbj6wm0000gn/T/ipykernel_81353/3878548259.py\u001b[0m in \u001b[0;36m<module>\u001b[0;34m\u001b[0m\n\u001b[1;32m     10\u001b[0m     \u001b[0;31m#print(\"Action is taken: \" , (action_order,action_resource))\u001b[0m\u001b[0;34m\u001b[0m\u001b[0;34m\u001b[0m\u001b[0m\n\u001b[1;32m     11\u001b[0m     \u001b[0;31m#print()\u001b[0m\u001b[0;34m\u001b[0m\u001b[0;34m\u001b[0m\u001b[0m\n\u001b[0;32m---> 12\u001b[0;31m     \u001b[0msimulation\u001b[0m\u001b[0;34m.\u001b[0m\u001b[0mstep\u001b[0m\u001b[0;34m(\u001b[0m\u001b[0;34m(\u001b[0m\u001b[0maction_order\u001b[0m\u001b[0;34m,\u001b[0m\u001b[0maction_resource\u001b[0m\u001b[0;34m)\u001b[0m\u001b[0;34m)\u001b[0m\u001b[0;34m\u001b[0m\u001b[0;34m\u001b[0m\u001b[0m\n\u001b[0m",
      "\u001b[0;32m~/Documents/Semester_3/idp/schedulingGNN/simulations/sim_randomised.py\u001b[0m in \u001b[0;36mstep\u001b[0;34m(self, action)\u001b[0m\n\u001b[1;32m    270\u001b[0m             \u001b[0mself\u001b[0m\u001b[0;34m.\u001b[0m\u001b[0mpossible_actions\u001b[0m\u001b[0;34m[\u001b[0m\u001b[0morder_name\u001b[0m\u001b[0;34m]\u001b[0m \u001b[0;34m=\u001b[0m \u001b[0mself\u001b[0m\u001b[0;34m.\u001b[0m\u001b[0mproducts\u001b[0m\u001b[0;34m[\u001b[0m\u001b[0morder\u001b[0m\u001b[0;34m.\u001b[0m\u001b[0mproduct_name\u001b[0m\u001b[0;34m]\u001b[0m\u001b[0;34m[\u001b[0m\u001b[0morder\u001b[0m\u001b[0;34m.\u001b[0m\u001b[0mcurrent_stage\u001b[0m\u001b[0;34m]\u001b[0m\u001b[0;34m[\u001b[0m\u001b[0;36m0\u001b[0m\u001b[0;34m]\u001b[0m\u001b[0;34m[\u001b[0m\u001b[0;36m1\u001b[0m\u001b[0;34m]\u001b[0m\u001b[0;34m\u001b[0m\u001b[0;34m\u001b[0m\u001b[0m\n\u001b[1;32m    271\u001b[0m \u001b[0;34m\u001b[0m\u001b[0m\n\u001b[0;32m--> 272\u001b[0;31m         \u001b[0mstate\u001b[0m \u001b[0;34m=\u001b[0m \u001b[0mself\u001b[0m\u001b[0;34m.\u001b[0m\u001b[0mget_state\u001b[0m\u001b[0;34m(\u001b[0m\u001b[0;34m)\u001b[0m\u001b[0;34m\u001b[0m\u001b[0;34m\u001b[0m\u001b[0m\n\u001b[0m\u001b[1;32m    273\u001b[0m         \u001b[0mreward\u001b[0m \u001b[0;34m=\u001b[0m  \u001b[0;34m-\u001b[0m\u001b[0;36m1\u001b[0m \u001b[0;34m*\u001b[0m \u001b[0mself\u001b[0m\u001b[0;34m.\u001b[0m\u001b[0mremaining_orders\u001b[0m\u001b[0;34m\u001b[0m\u001b[0;34m\u001b[0m\u001b[0m\n\u001b[1;32m    274\u001b[0m         \u001b[0mdone\u001b[0m \u001b[0;34m=\u001b[0m \u001b[0;32mnot\u001b[0m \u001b[0mself\u001b[0m\u001b[0;34m.\u001b[0m\u001b[0malive\u001b[0m\u001b[0;34m\u001b[0m\u001b[0;34m\u001b[0m\u001b[0m\n",
      "\u001b[0;31mAttributeError\u001b[0m: 'Env' object has no attribute 'get_state'"
     ]
    }
   ],
   "source": [
    "simulation = sim_randomised.Env(visualise=True, verbose=False)\n",
    "\n",
    "while simulation.alive:\n",
    "    \n",
    "    #print(list(simulation.possible_actions.items()))\n",
    "\n",
    "    action_order = random.choice(list(simulation.possible_actions.keys()))\n",
    "    action_resource = random.choice(simulation.possible_actions[action_order])\n",
    "    \n",
    "    #print(\"Action is taken: \" , (action_order,action_resource))\n",
    "    #print()\n",
    "    simulation.step((action_order,action_resource))"
   ]
  },
  {
   "cell_type": "code",
   "execution_count": 7,
   "id": "3b84977b",
   "metadata": {},
   "outputs": [
    {
     "name": "stdout",
     "output_type": "stream",
     "text": [
      "All products are produced at time:  8360.0\n",
      "From total  55  order,  15  was before their due dates. Success rate is:  27.27 %\n"
     ]
    },
    {
     "data": {
      "application/vnd.plotly.v1+json": {
       "config": {
        "plotlyServerURL": "https://plot.ly"
       },
       "data": [
        {
         "fill": "toself",
         "fillcolor": "rgb(255, 127, 14)",
         "hoverinfo": "name",
         "legendgroup": "rgb(255, 127, 14)",
         "mode": "none",
         "name": "CEREAL_2",
         "showlegend": true,
         "type": "scatter",
         "x": [
          0,
          190,
          190,
          0,
          0,
          190,
          380,
          380,
          190,
          190,
          190,
          235,
          235,
          190,
          190,
          380,
          570,
          570,
          380,
          380,
          380,
          595,
          595,
          380,
          380,
          460,
          685,
          685,
          460,
          460,
          490,
          880,
          880,
          490,
          490,
          595,
          785,
          785,
          595,
          595,
          685,
          730,
          730,
          685,
          685,
          785,
          975,
          975,
          785,
          785,
          975,
          1165,
          1165,
          975,
          975,
          1470,
          1695,
          1695,
          1470,
          1470,
          1480,
          1870,
          1870,
          1480,
          1480,
          1760,
          1975,
          1975,
          1760,
          1760,
          1870,
          2080,
          2080,
          1870,
          1870,
          1965,
          2190,
          2190,
          1965,
          1965,
          1975,
          2165,
          2165,
          1975,
          1975,
          2005,
          2465,
          2465,
          2005,
          2005,
          2165,
          2355,
          2355,
          2165,
          2165,
          2190,
          2235,
          2235,
          2190,
          2190,
          2355,
          2545,
          2545,
          2355,
          2355,
          2460,
          2685,
          2685,
          2460,
          2460,
          2540,
          2930,
          2930,
          2540,
          2540,
          2545,
          2735,
          2735,
          2545,
          2545,
          2685,
          2730,
          2730,
          2685,
          2685,
          2735,
          2925,
          2925,
          2735,
          2735,
          3140,
          3355,
          3355,
          3140,
          3140,
          3330,
          3555,
          3555,
          3330,
          3330,
          3355,
          3545,
          3545,
          3355,
          3355,
          3555,
          3600,
          3600,
          3555,
          3555,
          3600,
          3645,
          3645,
          3600,
          3600,
          3615,
          4075,
          4075,
          3615,
          3615,
          3645,
          3690,
          3690,
          3645,
          3645,
          3740,
          4130,
          4130,
          3740,
          3740,
          3950,
          4165,
          4165,
          3950,
          3950,
          4085,
          4310,
          4310,
          4085,
          4085,
          4165,
          4355,
          4355,
          4165,
          4165,
          4550,
          4775,
          4775,
          4550,
          4550,
          5260,
          5485,
          5485,
          5260,
          5260,
          5485,
          5530,
          5530,
          5485,
          5485,
          5530,
          5575,
          5575,
          5530,
          5530,
          5970,
          6195,
          6195,
          5970,
          5970,
          6195,
          6240,
          6240,
          6195,
          6195,
          7355,
          7580,
          7580,
          7355,
          7355,
          7580,
          7625,
          7625,
          7580,
          7580,
          7625,
          7670,
          7670,
          7625,
          7625,
          7670,
          7715,
          7715,
          7670,
          7670,
          7925,
          8150,
          8150,
          7925
         ],
         "y": [
          0.6,
          0.6,
          1.4,
          1.4,
          null,
          0.6,
          0.6,
          1.4,
          1.4,
          null,
          -0.4,
          -0.4,
          0.4,
          0.4,
          null,
          0.6,
          0.6,
          1.4,
          1.4,
          null,
          2.6,
          2.6,
          3.4,
          3.4,
          null,
          -0.4,
          -0.4,
          0.4,
          0.4,
          null,
          1.6,
          1.6,
          2.4,
          2.4,
          null,
          2.6,
          2.6,
          3.4,
          3.4,
          null,
          -0.4,
          -0.4,
          0.4,
          0.4,
          null,
          2.6,
          2.6,
          3.4,
          3.4,
          null,
          2.6,
          2.6,
          3.4,
          3.4,
          null,
          -0.4,
          -0.4,
          0.4,
          0.4,
          null,
          1.6,
          1.6,
          2.4,
          2.4,
          null,
          2.6,
          2.6,
          3.4,
          3.4,
          null,
          1.6,
          1.6,
          2.4,
          2.4,
          null,
          -0.4,
          -0.4,
          0.4,
          0.4,
          null,
          2.6,
          2.6,
          3.4,
          3.4,
          null,
          0.6,
          0.6,
          1.4,
          1.4,
          null,
          2.6,
          2.6,
          3.4,
          3.4,
          null,
          -0.4,
          -0.4,
          0.4,
          0.4,
          null,
          2.6,
          2.6,
          3.4,
          3.4,
          null,
          -0.4,
          -0.4,
          0.4,
          0.4,
          null,
          1.6,
          1.6,
          2.4,
          2.4,
          null,
          2.6,
          2.6,
          3.4,
          3.4,
          null,
          -0.4,
          -0.4,
          0.4,
          0.4,
          null,
          2.6,
          2.6,
          3.4,
          3.4,
          null,
          2.6,
          2.6,
          3.4,
          3.4,
          null,
          -0.4,
          -0.4,
          0.4,
          0.4,
          null,
          2.6,
          2.6,
          3.4,
          3.4,
          null,
          -0.4,
          -0.4,
          0.4,
          0.4,
          null,
          -0.4,
          -0.4,
          0.4,
          0.4,
          null,
          0.6,
          0.6,
          1.4,
          1.4,
          null,
          -0.4,
          -0.4,
          0.4,
          0.4,
          null,
          1.6,
          1.6,
          2.4,
          2.4,
          null,
          2.6,
          2.6,
          3.4,
          3.4,
          null,
          -0.4,
          -0.4,
          0.4,
          0.4,
          null,
          2.6,
          2.6,
          3.4,
          3.4,
          null,
          -0.4,
          -0.4,
          0.4,
          0.4,
          null,
          -0.4,
          -0.4,
          0.4,
          0.4,
          null,
          -0.4,
          -0.4,
          0.4,
          0.4,
          null,
          -0.4,
          -0.4,
          0.4,
          0.4,
          null,
          -0.4,
          -0.4,
          0.4,
          0.4,
          null,
          -0.4,
          -0.4,
          0.4,
          0.4,
          null,
          -0.4,
          -0.4,
          0.4,
          0.4,
          null,
          -0.4,
          -0.4,
          0.4,
          0.4,
          null,
          -0.4,
          -0.4,
          0.4,
          0.4,
          null,
          -0.4,
          -0.4,
          0.4,
          0.4,
          null,
          -0.4,
          -0.4,
          0.4,
          0.4
         ]
        },
        {
         "fill": "toself",
         "fillcolor": "rgb(31, 119, 180)",
         "hoverinfo": "name",
         "legendgroup": "rgb(31, 119, 180)",
         "mode": "none",
         "name": "CEREAL_1",
         "showlegend": true,
         "type": "scatter",
         "x": [
          210,
          490,
          490,
          210,
          210,
          570,
          960,
          960,
          570,
          570,
          955,
          1125,
          1125,
          955,
          955,
          960,
          1080,
          1080,
          960,
          960,
          1125,
          1155,
          1155,
          1125,
          1125,
          1675,
          2005,
          2005,
          1675,
          1675,
          2080,
          2400,
          2400,
          2080,
          2080,
          2400,
          2540,
          2540,
          2400,
          2400,
          2730,
          2940,
          2940,
          2730,
          2730,
          2925,
          3255,
          3255,
          2925,
          2925,
          2940,
          2970,
          2970,
          2940,
          2940,
          3255,
          3375,
          3375,
          3255,
          3255,
          3375,
          3495,
          3495,
          3375,
          3375,
          3495,
          3615,
          3615,
          3495,
          3495,
          3915,
          4085,
          4085,
          3915,
          3915,
          4075,
          4465,
          4465,
          4075,
          4075,
          4130,
          4450,
          4450,
          4130,
          4130,
          4310,
          4520,
          4520,
          4310,
          4310,
          4450,
          4590,
          4590,
          4450,
          4450,
          4465,
          4585,
          4585,
          4465,
          4465,
          4520,
          4550,
          4550,
          4520,
          4520,
          4585,
          4705,
          4705,
          4585,
          4585,
          5090,
          5260,
          5260,
          5090,
          5090,
          5800,
          5970,
          5970,
          5800,
          5800,
          6240,
          6450,
          6450,
          6240,
          6240,
          6450,
          6480,
          6480,
          6450,
          6450,
          6795,
          6965,
          6965,
          6795,
          6795,
          6965,
          6995,
          6995,
          6965,
          6965,
          7715,
          7925,
          7925,
          7715,
          7715,
          8150,
          8360,
          8360,
          8150
         ],
         "y": [
          1.6,
          1.6,
          2.4,
          2.4,
          null,
          0.6,
          0.6,
          1.4,
          1.4,
          null,
          -0.4,
          -0.4,
          0.4,
          0.4,
          null,
          0.6,
          0.6,
          1.4,
          1.4,
          null,
          -0.4,
          -0.4,
          0.4,
          0.4,
          null,
          0.6,
          0.6,
          1.4,
          1.4,
          null,
          1.6,
          1.6,
          2.4,
          2.4,
          null,
          1.6,
          1.6,
          2.4,
          2.4,
          null,
          -0.4,
          -0.4,
          0.4,
          0.4,
          null,
          0.6,
          0.6,
          1.4,
          1.4,
          null,
          -0.4,
          -0.4,
          0.4,
          0.4,
          null,
          0.6,
          0.6,
          1.4,
          1.4,
          null,
          0.6,
          0.6,
          1.4,
          1.4,
          null,
          0.6,
          0.6,
          1.4,
          1.4,
          null,
          -0.4,
          -0.4,
          0.4,
          0.4,
          null,
          0.6,
          0.6,
          1.4,
          1.4,
          null,
          1.6,
          1.6,
          2.4,
          2.4,
          null,
          -0.4,
          -0.4,
          0.4,
          0.4,
          null,
          1.6,
          1.6,
          2.4,
          2.4,
          null,
          0.6,
          0.6,
          1.4,
          1.4,
          null,
          -0.4,
          -0.4,
          0.4,
          0.4,
          null,
          0.6,
          0.6,
          1.4,
          1.4,
          null,
          -0.4,
          -0.4,
          0.4,
          0.4,
          null,
          -0.4,
          -0.4,
          0.4,
          0.4,
          null,
          -0.4,
          -0.4,
          0.4,
          0.4,
          null,
          -0.4,
          -0.4,
          0.4,
          0.4,
          null,
          -0.4,
          -0.4,
          0.4,
          0.4,
          null,
          -0.4,
          -0.4,
          0.4,
          0.4,
          null,
          -0.4,
          -0.4,
          0.4,
          0.4,
          null,
          -0.4,
          -0.4,
          0.4,
          0.4
         ]
        },
        {
         "fill": "toself",
         "fillcolor": "rgb(44, 160, 44)",
         "hoverinfo": "name",
         "legendgroup": "rgb(44, 160, 44)",
         "mode": "none",
         "name": "CEREAL_3",
         "showlegend": true,
         "type": "scatter",
         "x": [
          0,
          190,
          190,
          0,
          0,
          0,
          210,
          210,
          0,
          0,
          190,
          380,
          380,
          190,
          190,
          235,
          460,
          460,
          235,
          235,
          730,
          955,
          955,
          730,
          730,
          880,
          1270,
          1270,
          880,
          880,
          1080,
          1675,
          1675,
          1080,
          1080,
          1155,
          1470,
          1470,
          1155,
          1155,
          1165,
          1380,
          1380,
          1165,
          1165,
          1270,
          1480,
          1480,
          1270,
          1270,
          1380,
          1570,
          1570,
          1380,
          1380,
          1570,
          1760,
          1760,
          1570,
          1570,
          1695,
          1920,
          1920,
          1695,
          1695,
          1920,
          1965,
          1965,
          1920,
          1920,
          2235,
          2460,
          2460,
          2235,
          2235,
          2465,
          2925,
          2925,
          2465,
          2465,
          2925,
          3140,
          3140,
          2925,
          2925,
          2930,
          3320,
          3320,
          2930,
          2930,
          2970,
          3285,
          3285,
          2970,
          2970,
          3285,
          3330,
          3330,
          3285,
          3285,
          3320,
          3530,
          3530,
          3320,
          3320,
          3530,
          3740,
          3740,
          3530,
          3530,
          3545,
          3760,
          3760,
          3545,
          3545,
          3690,
          3915,
          3915,
          3690,
          3690,
          3760,
          3950,
          3950,
          3760,
          3760,
          4775,
          5000,
          5000,
          4775,
          4775,
          5000,
          5045,
          5045,
          5000,
          5000,
          5045,
          5090,
          5090,
          5045,
          5045,
          5575,
          5800,
          5800,
          5575,
          5575,
          6480,
          6795,
          6795,
          6480,
          6480,
          6995,
          7310,
          7310,
          6995,
          6995,
          7310,
          7355,
          7355,
          7310
         ],
         "y": [
          2.6,
          2.6,
          3.4,
          3.4,
          null,
          1.6,
          1.6,
          2.4,
          2.4,
          null,
          2.6,
          2.6,
          3.4,
          3.4,
          null,
          -0.4,
          -0.4,
          0.4,
          0.4,
          null,
          -0.4,
          -0.4,
          0.4,
          0.4,
          null,
          1.6,
          1.6,
          2.4,
          2.4,
          null,
          0.6,
          0.6,
          1.4,
          1.4,
          null,
          -0.4,
          -0.4,
          0.4,
          0.4,
          null,
          2.6,
          2.6,
          3.4,
          3.4,
          null,
          1.6,
          1.6,
          2.4,
          2.4,
          null,
          2.6,
          2.6,
          3.4,
          3.4,
          null,
          2.6,
          2.6,
          3.4,
          3.4,
          null,
          -0.4,
          -0.4,
          0.4,
          0.4,
          null,
          -0.4,
          -0.4,
          0.4,
          0.4,
          null,
          -0.4,
          -0.4,
          0.4,
          0.4,
          null,
          0.6,
          0.6,
          1.4,
          1.4,
          null,
          2.6,
          2.6,
          3.4,
          3.4,
          null,
          1.6,
          1.6,
          2.4,
          2.4,
          null,
          -0.4,
          -0.4,
          0.4,
          0.4,
          null,
          -0.4,
          -0.4,
          0.4,
          0.4,
          null,
          1.6,
          1.6,
          2.4,
          2.4,
          null,
          1.6,
          1.6,
          2.4,
          2.4,
          null,
          2.6,
          2.6,
          3.4,
          3.4,
          null,
          -0.4,
          -0.4,
          0.4,
          0.4,
          null,
          2.6,
          2.6,
          3.4,
          3.4,
          null,
          -0.4,
          -0.4,
          0.4,
          0.4,
          null,
          -0.4,
          -0.4,
          0.4,
          0.4,
          null,
          -0.4,
          -0.4,
          0.4,
          0.4,
          null,
          -0.4,
          -0.4,
          0.4,
          0.4,
          null,
          -0.4,
          -0.4,
          0.4,
          0.4,
          null,
          -0.4,
          -0.4,
          0.4,
          0.4,
          null,
          -0.4,
          -0.4,
          0.4,
          0.4
         ]
        },
        {
         "legendgroup": "rgb(255, 127, 14)",
         "marker": {
          "color": "rgb(255, 127, 14)",
          "opacity": 0,
          "size": 1
         },
         "mode": "markers",
         "name": "",
         "showlegend": false,
         "text": [
          null,
          null,
          null,
          null,
          null,
          null,
          null,
          null,
          null,
          null,
          null,
          null,
          null,
          null,
          null,
          null,
          null,
          null,
          null,
          null,
          null,
          null,
          null,
          null,
          null,
          null,
          null,
          null,
          null,
          null,
          null,
          null,
          null,
          null,
          null,
          null,
          null,
          null,
          null,
          null,
          null,
          null,
          null,
          null,
          null,
          null,
          null,
          null,
          null,
          null,
          null,
          null,
          null,
          null,
          null,
          null,
          null,
          null,
          null,
          null,
          null,
          null,
          null,
          null,
          null,
          null,
          null,
          null,
          null,
          null,
          null,
          null,
          null,
          null,
          null,
          null,
          null,
          null,
          null,
          null,
          null,
          null,
          null,
          null,
          null,
          null,
          null,
          null,
          null,
          null,
          null,
          null,
          null,
          null,
          null,
          null
         ],
         "type": "scatter",
         "x": [
          0,
          190,
          190,
          380,
          190,
          235,
          380,
          570,
          380,
          595,
          460,
          685,
          490,
          880,
          595,
          785,
          685,
          730,
          785,
          975,
          975,
          1165,
          1470,
          1695,
          1480,
          1870,
          1760,
          1975,
          1870,
          2080,
          1965,
          2190,
          1975,
          2165,
          2005,
          2465,
          2165,
          2355,
          2190,
          2235,
          2355,
          2545,
          2460,
          2685,
          2540,
          2930,
          2545,
          2735,
          2685,
          2730,
          2735,
          2925,
          3140,
          3355,
          3330,
          3555,
          3355,
          3545,
          3555,
          3600,
          3600,
          3645,
          3615,
          4075,
          3645,
          3690,
          3740,
          4130,
          3950,
          4165,
          4085,
          4310,
          4165,
          4355,
          4550,
          4775,
          5260,
          5485,
          5485,
          5530,
          5530,
          5575,
          5970,
          6195,
          6195,
          6240,
          7355,
          7580,
          7580,
          7625,
          7625,
          7670,
          7670,
          7715,
          7925,
          8150
         ],
         "y": [
          1,
          1,
          1,
          1,
          0,
          0,
          1,
          1,
          3,
          3,
          0,
          0,
          2,
          2,
          3,
          3,
          0,
          0,
          3,
          3,
          3,
          3,
          0,
          0,
          2,
          2,
          3,
          3,
          2,
          2,
          0,
          0,
          3,
          3,
          1,
          1,
          3,
          3,
          0,
          0,
          3,
          3,
          0,
          0,
          2,
          2,
          3,
          3,
          0,
          0,
          3,
          3,
          3,
          3,
          0,
          0,
          3,
          3,
          0,
          0,
          0,
          0,
          1,
          1,
          0,
          0,
          2,
          2,
          3,
          3,
          0,
          0,
          3,
          3,
          0,
          0,
          0,
          0,
          0,
          0,
          0,
          0,
          0,
          0,
          0,
          0,
          0,
          0,
          0,
          0,
          0,
          0,
          0,
          0,
          0,
          0
         ]
        },
        {
         "legendgroup": "rgb(31, 119, 180)",
         "marker": {
          "color": "rgb(31, 119, 180)",
          "opacity": 0,
          "size": 1
         },
         "mode": "markers",
         "name": "",
         "showlegend": false,
         "text": [
          null,
          null,
          null,
          null,
          null,
          null,
          null,
          null,
          null,
          null,
          null,
          null,
          null,
          null,
          null,
          null,
          null,
          null,
          null,
          null,
          null,
          null,
          null,
          null,
          null,
          null,
          null,
          null,
          null,
          null,
          null,
          null,
          null,
          null,
          null,
          null,
          null,
          null,
          null,
          null,
          null,
          null,
          null,
          null,
          null,
          null,
          null,
          null,
          null,
          null,
          null,
          null,
          null,
          null,
          null,
          null,
          null,
          null,
          null,
          null
         ],
         "type": "scatter",
         "x": [
          210,
          490,
          570,
          960,
          955,
          1125,
          960,
          1080,
          1125,
          1155,
          1675,
          2005,
          2080,
          2400,
          2400,
          2540,
          2730,
          2940,
          2925,
          3255,
          2940,
          2970,
          3255,
          3375,
          3375,
          3495,
          3495,
          3615,
          3915,
          4085,
          4075,
          4465,
          4130,
          4450,
          4310,
          4520,
          4450,
          4590,
          4465,
          4585,
          4520,
          4550,
          4585,
          4705,
          5090,
          5260,
          5800,
          5970,
          6240,
          6450,
          6450,
          6480,
          6795,
          6965,
          6965,
          6995,
          7715,
          7925,
          8150,
          8360
         ],
         "y": [
          2,
          2,
          1,
          1,
          0,
          0,
          1,
          1,
          0,
          0,
          1,
          1,
          2,
          2,
          2,
          2,
          0,
          0,
          1,
          1,
          0,
          0,
          1,
          1,
          1,
          1,
          1,
          1,
          0,
          0,
          1,
          1,
          2,
          2,
          0,
          0,
          2,
          2,
          1,
          1,
          0,
          0,
          1,
          1,
          0,
          0,
          0,
          0,
          0,
          0,
          0,
          0,
          0,
          0,
          0,
          0,
          0,
          0,
          0,
          0
         ]
        },
        {
         "legendgroup": "rgb(44, 160, 44)",
         "marker": {
          "color": "rgb(44, 160, 44)",
          "opacity": 0,
          "size": 1
         },
         "mode": "markers",
         "name": "",
         "showlegend": false,
         "text": [
          null,
          null,
          null,
          null,
          null,
          null,
          null,
          null,
          null,
          null,
          null,
          null,
          null,
          null,
          null,
          null,
          null,
          null,
          null,
          null,
          null,
          null,
          null,
          null,
          null,
          null,
          null,
          null,
          null,
          null,
          null,
          null,
          null,
          null,
          null,
          null,
          null,
          null,
          null,
          null,
          null,
          null,
          null,
          null,
          null,
          null,
          null,
          null,
          null,
          null,
          null,
          null,
          null,
          null,
          null,
          null,
          null,
          null,
          null,
          null,
          null,
          null,
          null,
          null
         ],
         "type": "scatter",
         "x": [
          0,
          190,
          0,
          210,
          190,
          380,
          235,
          460,
          730,
          955,
          880,
          1270,
          1080,
          1675,
          1155,
          1470,
          1165,
          1380,
          1270,
          1480,
          1380,
          1570,
          1570,
          1760,
          1695,
          1920,
          1920,
          1965,
          2235,
          2460,
          2465,
          2925,
          2925,
          3140,
          2930,
          3320,
          2970,
          3285,
          3285,
          3330,
          3320,
          3530,
          3530,
          3740,
          3545,
          3760,
          3690,
          3915,
          3760,
          3950,
          4775,
          5000,
          5000,
          5045,
          5045,
          5090,
          5575,
          5800,
          6480,
          6795,
          6995,
          7310,
          7310,
          7355
         ],
         "y": [
          3,
          3,
          2,
          2,
          3,
          3,
          0,
          0,
          0,
          0,
          2,
          2,
          1,
          1,
          0,
          0,
          3,
          3,
          2,
          2,
          3,
          3,
          3,
          3,
          0,
          0,
          0,
          0,
          0,
          0,
          1,
          1,
          3,
          3,
          2,
          2,
          0,
          0,
          0,
          0,
          2,
          2,
          2,
          2,
          3,
          3,
          0,
          0,
          3,
          3,
          0,
          0,
          0,
          0,
          0,
          0,
          0,
          0,
          0,
          0,
          0,
          0,
          0,
          0
         ]
        }
       ],
       "layout": {
        "autosize": false,
        "height": 400,
        "hovermode": "closest",
        "showlegend": true,
        "template": {
         "data": {
          "bar": [
           {
            "error_x": {
             "color": "#2a3f5f"
            },
            "error_y": {
             "color": "#2a3f5f"
            },
            "marker": {
             "line": {
              "color": "#E5ECF6",
              "width": 0.5
             },
             "pattern": {
              "fillmode": "overlay",
              "size": 10,
              "solidity": 0.2
             }
            },
            "type": "bar"
           }
          ],
          "barpolar": [
           {
            "marker": {
             "line": {
              "color": "#E5ECF6",
              "width": 0.5
             },
             "pattern": {
              "fillmode": "overlay",
              "size": 10,
              "solidity": 0.2
             }
            },
            "type": "barpolar"
           }
          ],
          "carpet": [
           {
            "aaxis": {
             "endlinecolor": "#2a3f5f",
             "gridcolor": "white",
             "linecolor": "white",
             "minorgridcolor": "white",
             "startlinecolor": "#2a3f5f"
            },
            "baxis": {
             "endlinecolor": "#2a3f5f",
             "gridcolor": "white",
             "linecolor": "white",
             "minorgridcolor": "white",
             "startlinecolor": "#2a3f5f"
            },
            "type": "carpet"
           }
          ],
          "choropleth": [
           {
            "colorbar": {
             "outlinewidth": 0,
             "ticks": ""
            },
            "type": "choropleth"
           }
          ],
          "contour": [
           {
            "colorbar": {
             "outlinewidth": 0,
             "ticks": ""
            },
            "colorscale": [
             [
              0,
              "#0d0887"
             ],
             [
              0.1111111111111111,
              "#46039f"
             ],
             [
              0.2222222222222222,
              "#7201a8"
             ],
             [
              0.3333333333333333,
              "#9c179e"
             ],
             [
              0.4444444444444444,
              "#bd3786"
             ],
             [
              0.5555555555555556,
              "#d8576b"
             ],
             [
              0.6666666666666666,
              "#ed7953"
             ],
             [
              0.7777777777777778,
              "#fb9f3a"
             ],
             [
              0.8888888888888888,
              "#fdca26"
             ],
             [
              1,
              "#f0f921"
             ]
            ],
            "type": "contour"
           }
          ],
          "contourcarpet": [
           {
            "colorbar": {
             "outlinewidth": 0,
             "ticks": ""
            },
            "type": "contourcarpet"
           }
          ],
          "heatmap": [
           {
            "colorbar": {
             "outlinewidth": 0,
             "ticks": ""
            },
            "colorscale": [
             [
              0,
              "#0d0887"
             ],
             [
              0.1111111111111111,
              "#46039f"
             ],
             [
              0.2222222222222222,
              "#7201a8"
             ],
             [
              0.3333333333333333,
              "#9c179e"
             ],
             [
              0.4444444444444444,
              "#bd3786"
             ],
             [
              0.5555555555555556,
              "#d8576b"
             ],
             [
              0.6666666666666666,
              "#ed7953"
             ],
             [
              0.7777777777777778,
              "#fb9f3a"
             ],
             [
              0.8888888888888888,
              "#fdca26"
             ],
             [
              1,
              "#f0f921"
             ]
            ],
            "type": "heatmap"
           }
          ],
          "heatmapgl": [
           {
            "colorbar": {
             "outlinewidth": 0,
             "ticks": ""
            },
            "colorscale": [
             [
              0,
              "#0d0887"
             ],
             [
              0.1111111111111111,
              "#46039f"
             ],
             [
              0.2222222222222222,
              "#7201a8"
             ],
             [
              0.3333333333333333,
              "#9c179e"
             ],
             [
              0.4444444444444444,
              "#bd3786"
             ],
             [
              0.5555555555555556,
              "#d8576b"
             ],
             [
              0.6666666666666666,
              "#ed7953"
             ],
             [
              0.7777777777777778,
              "#fb9f3a"
             ],
             [
              0.8888888888888888,
              "#fdca26"
             ],
             [
              1,
              "#f0f921"
             ]
            ],
            "type": "heatmapgl"
           }
          ],
          "histogram": [
           {
            "marker": {
             "pattern": {
              "fillmode": "overlay",
              "size": 10,
              "solidity": 0.2
             }
            },
            "type": "histogram"
           }
          ],
          "histogram2d": [
           {
            "colorbar": {
             "outlinewidth": 0,
             "ticks": ""
            },
            "colorscale": [
             [
              0,
              "#0d0887"
             ],
             [
              0.1111111111111111,
              "#46039f"
             ],
             [
              0.2222222222222222,
              "#7201a8"
             ],
             [
              0.3333333333333333,
              "#9c179e"
             ],
             [
              0.4444444444444444,
              "#bd3786"
             ],
             [
              0.5555555555555556,
              "#d8576b"
             ],
             [
              0.6666666666666666,
              "#ed7953"
             ],
             [
              0.7777777777777778,
              "#fb9f3a"
             ],
             [
              0.8888888888888888,
              "#fdca26"
             ],
             [
              1,
              "#f0f921"
             ]
            ],
            "type": "histogram2d"
           }
          ],
          "histogram2dcontour": [
           {
            "colorbar": {
             "outlinewidth": 0,
             "ticks": ""
            },
            "colorscale": [
             [
              0,
              "#0d0887"
             ],
             [
              0.1111111111111111,
              "#46039f"
             ],
             [
              0.2222222222222222,
              "#7201a8"
             ],
             [
              0.3333333333333333,
              "#9c179e"
             ],
             [
              0.4444444444444444,
              "#bd3786"
             ],
             [
              0.5555555555555556,
              "#d8576b"
             ],
             [
              0.6666666666666666,
              "#ed7953"
             ],
             [
              0.7777777777777778,
              "#fb9f3a"
             ],
             [
              0.8888888888888888,
              "#fdca26"
             ],
             [
              1,
              "#f0f921"
             ]
            ],
            "type": "histogram2dcontour"
           }
          ],
          "mesh3d": [
           {
            "colorbar": {
             "outlinewidth": 0,
             "ticks": ""
            },
            "type": "mesh3d"
           }
          ],
          "parcoords": [
           {
            "line": {
             "colorbar": {
              "outlinewidth": 0,
              "ticks": ""
             }
            },
            "type": "parcoords"
           }
          ],
          "pie": [
           {
            "automargin": true,
            "type": "pie"
           }
          ],
          "scatter": [
           {
            "fillpattern": {
             "fillmode": "overlay",
             "size": 10,
             "solidity": 0.2
            },
            "type": "scatter"
           }
          ],
          "scatter3d": [
           {
            "line": {
             "colorbar": {
              "outlinewidth": 0,
              "ticks": ""
             }
            },
            "marker": {
             "colorbar": {
              "outlinewidth": 0,
              "ticks": ""
             }
            },
            "type": "scatter3d"
           }
          ],
          "scattercarpet": [
           {
            "marker": {
             "colorbar": {
              "outlinewidth": 0,
              "ticks": ""
             }
            },
            "type": "scattercarpet"
           }
          ],
          "scattergeo": [
           {
            "marker": {
             "colorbar": {
              "outlinewidth": 0,
              "ticks": ""
             }
            },
            "type": "scattergeo"
           }
          ],
          "scattergl": [
           {
            "marker": {
             "colorbar": {
              "outlinewidth": 0,
              "ticks": ""
             }
            },
            "type": "scattergl"
           }
          ],
          "scattermapbox": [
           {
            "marker": {
             "colorbar": {
              "outlinewidth": 0,
              "ticks": ""
             }
            },
            "type": "scattermapbox"
           }
          ],
          "scatterpolar": [
           {
            "marker": {
             "colorbar": {
              "outlinewidth": 0,
              "ticks": ""
             }
            },
            "type": "scatterpolar"
           }
          ],
          "scatterpolargl": [
           {
            "marker": {
             "colorbar": {
              "outlinewidth": 0,
              "ticks": ""
             }
            },
            "type": "scatterpolargl"
           }
          ],
          "scatterternary": [
           {
            "marker": {
             "colorbar": {
              "outlinewidth": 0,
              "ticks": ""
             }
            },
            "type": "scatterternary"
           }
          ],
          "surface": [
           {
            "colorbar": {
             "outlinewidth": 0,
             "ticks": ""
            },
            "colorscale": [
             [
              0,
              "#0d0887"
             ],
             [
              0.1111111111111111,
              "#46039f"
             ],
             [
              0.2222222222222222,
              "#7201a8"
             ],
             [
              0.3333333333333333,
              "#9c179e"
             ],
             [
              0.4444444444444444,
              "#bd3786"
             ],
             [
              0.5555555555555556,
              "#d8576b"
             ],
             [
              0.6666666666666666,
              "#ed7953"
             ],
             [
              0.7777777777777778,
              "#fb9f3a"
             ],
             [
              0.8888888888888888,
              "#fdca26"
             ],
             [
              1,
              "#f0f921"
             ]
            ],
            "type": "surface"
           }
          ],
          "table": [
           {
            "cells": {
             "fill": {
              "color": "#EBF0F8"
             },
             "line": {
              "color": "white"
             }
            },
            "header": {
             "fill": {
              "color": "#C8D4E3"
             },
             "line": {
              "color": "white"
             }
            },
            "type": "table"
           }
          ]
         },
         "layout": {
          "annotationdefaults": {
           "arrowcolor": "#2a3f5f",
           "arrowhead": 0,
           "arrowwidth": 1
          },
          "autotypenumbers": "strict",
          "coloraxis": {
           "colorbar": {
            "outlinewidth": 0,
            "ticks": ""
           }
          },
          "colorscale": {
           "diverging": [
            [
             0,
             "#8e0152"
            ],
            [
             0.1,
             "#c51b7d"
            ],
            [
             0.2,
             "#de77ae"
            ],
            [
             0.3,
             "#f1b6da"
            ],
            [
             0.4,
             "#fde0ef"
            ],
            [
             0.5,
             "#f7f7f7"
            ],
            [
             0.6,
             "#e6f5d0"
            ],
            [
             0.7,
             "#b8e186"
            ],
            [
             0.8,
             "#7fbc41"
            ],
            [
             0.9,
             "#4d9221"
            ],
            [
             1,
             "#276419"
            ]
           ],
           "sequential": [
            [
             0,
             "#0d0887"
            ],
            [
             0.1111111111111111,
             "#46039f"
            ],
            [
             0.2222222222222222,
             "#7201a8"
            ],
            [
             0.3333333333333333,
             "#9c179e"
            ],
            [
             0.4444444444444444,
             "#bd3786"
            ],
            [
             0.5555555555555556,
             "#d8576b"
            ],
            [
             0.6666666666666666,
             "#ed7953"
            ],
            [
             0.7777777777777778,
             "#fb9f3a"
            ],
            [
             0.8888888888888888,
             "#fdca26"
            ],
            [
             1,
             "#f0f921"
            ]
           ],
           "sequentialminus": [
            [
             0,
             "#0d0887"
            ],
            [
             0.1111111111111111,
             "#46039f"
            ],
            [
             0.2222222222222222,
             "#7201a8"
            ],
            [
             0.3333333333333333,
             "#9c179e"
            ],
            [
             0.4444444444444444,
             "#bd3786"
            ],
            [
             0.5555555555555556,
             "#d8576b"
            ],
            [
             0.6666666666666666,
             "#ed7953"
            ],
            [
             0.7777777777777778,
             "#fb9f3a"
            ],
            [
             0.8888888888888888,
             "#fdca26"
            ],
            [
             1,
             "#f0f921"
            ]
           ]
          },
          "colorway": [
           "#636efa",
           "#EF553B",
           "#00cc96",
           "#ab63fa",
           "#FFA15A",
           "#19d3f3",
           "#FF6692",
           "#B6E880",
           "#FF97FF",
           "#FECB52"
          ],
          "font": {
           "color": "#2a3f5f"
          },
          "geo": {
           "bgcolor": "white",
           "lakecolor": "white",
           "landcolor": "#E5ECF6",
           "showlakes": true,
           "showland": true,
           "subunitcolor": "white"
          },
          "hoverlabel": {
           "align": "left"
          },
          "hovermode": "closest",
          "mapbox": {
           "style": "light"
          },
          "paper_bgcolor": "white",
          "plot_bgcolor": "#E5ECF6",
          "polar": {
           "angularaxis": {
            "gridcolor": "white",
            "linecolor": "white",
            "ticks": ""
           },
           "bgcolor": "#E5ECF6",
           "radialaxis": {
            "gridcolor": "white",
            "linecolor": "white",
            "ticks": ""
           }
          },
          "scene": {
           "xaxis": {
            "backgroundcolor": "#E5ECF6",
            "gridcolor": "white",
            "gridwidth": 2,
            "linecolor": "white",
            "showbackground": true,
            "ticks": "",
            "zerolinecolor": "white"
           },
           "yaxis": {
            "backgroundcolor": "#E5ECF6",
            "gridcolor": "white",
            "gridwidth": 2,
            "linecolor": "white",
            "showbackground": true,
            "ticks": "",
            "zerolinecolor": "white"
           },
           "zaxis": {
            "backgroundcolor": "#E5ECF6",
            "gridcolor": "white",
            "gridwidth": 2,
            "linecolor": "white",
            "showbackground": true,
            "ticks": "",
            "zerolinecolor": "white"
           }
          },
          "shapedefaults": {
           "line": {
            "color": "#2a3f5f"
           }
          },
          "ternary": {
           "aaxis": {
            "gridcolor": "white",
            "linecolor": "white",
            "ticks": ""
           },
           "baxis": {
            "gridcolor": "white",
            "linecolor": "white",
            "ticks": ""
           },
           "bgcolor": "#E5ECF6",
           "caxis": {
            "gridcolor": "white",
            "linecolor": "white",
            "ticks": ""
           }
          },
          "title": {
           "x": 0.05
          },
          "xaxis": {
           "automargin": true,
           "gridcolor": "white",
           "linecolor": "white",
           "ticks": "",
           "title": {
            "standoff": 15
           },
           "zerolinecolor": "white",
           "zerolinewidth": 2
          },
          "yaxis": {
           "automargin": true,
           "gridcolor": "white",
           "linecolor": "white",
           "ticks": "",
           "title": {
            "standoff": 15
           },
           "zerolinecolor": "white",
           "zerolinewidth": 2
          }
         }
        },
        "title": {
         "text": "Gantt Chart"
        },
        "width": 800,
        "xaxis": {
         "rangeselector": {
          "buttons": [
           {
            "count": 7,
            "label": "1w",
            "step": "day",
            "stepmode": "backward"
           },
           {
            "count": 1,
            "label": "1m",
            "step": "month",
            "stepmode": "backward"
           },
           {
            "count": 6,
            "label": "6m",
            "step": "month",
            "stepmode": "backward"
           },
           {
            "count": 1,
            "label": "YTD",
            "step": "year",
            "stepmode": "todate"
           },
           {
            "count": 1,
            "label": "1y",
            "step": "year",
            "stepmode": "backward"
           },
           {
            "step": "all"
           }
          ]
         },
         "showgrid": false,
         "type": "linear",
         "zeroline": false
        },
        "yaxis": {
         "autorange": false,
         "range": [
          -1,
          5
         ],
         "showgrid": false,
         "ticktext": [
          "RES_4",
          "RES_2",
          "RES_1",
          "RES_3"
         ],
         "tickvals": [
          0,
          1,
          2,
          3
         ],
         "zeroline": false
        }
       }
      },
      "text/html": [
       "<div>                            <div id=\"2726ba14-e22e-4610-919c-c0d0aa62a6d9\" class=\"plotly-graph-div\" style=\"height:400px; width:800px;\"></div>            <script type=\"text/javascript\">                require([\"plotly\"], function(Plotly) {                    window.PLOTLYENV=window.PLOTLYENV || {};                                    if (document.getElementById(\"2726ba14-e22e-4610-919c-c0d0aa62a6d9\")) {                    Plotly.newPlot(                        \"2726ba14-e22e-4610-919c-c0d0aa62a6d9\",                        [{\"fill\":\"toself\",\"fillcolor\":\"rgb(255, 127, 14)\",\"hoverinfo\":\"name\",\"legendgroup\":\"rgb(255, 127, 14)\",\"mode\":\"none\",\"name\":\"CEREAL_2\",\"showlegend\":true,\"x\":[0,190.0,190.0,0,0,190.0,380.0,380.0,190.0,190.0,190.0,235.0,235.0,190.0,190.0,380.0,570.0,570.0,380.0,380.0,380.0,595.0,595.0,380.0,380.0,460.0,685.0,685.0,460.0,460.0,490.0,880.0,880.0,490.0,490.0,595.0,785.0,785.0,595.0,595.0,685.0,730.0,730.0,685.0,685.0,785.0,975.0,975.0,785.0,785.0,975.0,1165.0,1165.0,975.0,975.0,1470.0,1695.0,1695.0,1470.0,1470.0,1480.0,1870.0,1870.0,1480.0,1480.0,1760.0,1975.0,1975.0,1760.0,1760.0,1870.0,2080.0,2080.0,1870.0,1870.0,1965.0,2190.0,2190.0,1965.0,1965.0,1975.0,2165.0,2165.0,1975.0,1975.0,2005.0,2465.0,2465.0,2005.0,2005.0,2165.0,2355.0,2355.0,2165.0,2165.0,2190.0,2235.0,2235.0,2190.0,2190.0,2355.0,2545.0,2545.0,2355.0,2355.0,2460.0,2685.0,2685.0,2460.0,2460.0,2540.0,2930.0,2930.0,2540.0,2540.0,2545.0,2735.0,2735.0,2545.0,2545.0,2685.0,2730.0,2730.0,2685.0,2685.0,2735.0,2925.0,2925.0,2735.0,2735.0,3140.0,3355.0,3355.0,3140.0,3140.0,3330.0,3555.0,3555.0,3330.0,3330.0,3355.0,3545.0,3545.0,3355.0,3355.0,3555.0,3600.0,3600.0,3555.0,3555.0,3600.0,3645.0,3645.0,3600.0,3600.0,3615.0,4075.0,4075.0,3615.0,3615.0,3645.0,3690.0,3690.0,3645.0,3645.0,3740.0,4130.0,4130.0,3740.0,3740.0,3950.0,4165.0,4165.0,3950.0,3950.0,4085.0,4310.0,4310.0,4085.0,4085.0,4165.0,4355.0,4355.0,4165.0,4165.0,4550.0,4775.0,4775.0,4550.0,4550.0,5260.0,5485.0,5485.0,5260.0,5260.0,5485.0,5530.0,5530.0,5485.0,5485.0,5530.0,5575.0,5575.0,5530.0,5530.0,5970.0,6195.0,6195.0,5970.0,5970.0,6195.0,6240.0,6240.0,6195.0,6195.0,7355.0,7580.0,7580.0,7355.0,7355.0,7580.0,7625.0,7625.0,7580.0,7580.0,7625.0,7670.0,7670.0,7625.0,7625.0,7670.0,7715.0,7715.0,7670.0,7670.0,7925.0,8150.0,8150.0,7925.0],\"y\":[0.6,0.6,1.4,1.4,null,0.6,0.6,1.4,1.4,null,-0.4,-0.4,0.4,0.4,null,0.6,0.6,1.4,1.4,null,2.6,2.6,3.4,3.4,null,-0.4,-0.4,0.4,0.4,null,1.6,1.6,2.4,2.4,null,2.6,2.6,3.4,3.4,null,-0.4,-0.4,0.4,0.4,null,2.6,2.6,3.4,3.4,null,2.6,2.6,3.4,3.4,null,-0.4,-0.4,0.4,0.4,null,1.6,1.6,2.4,2.4,null,2.6,2.6,3.4,3.4,null,1.6,1.6,2.4,2.4,null,-0.4,-0.4,0.4,0.4,null,2.6,2.6,3.4,3.4,null,0.6,0.6,1.4,1.4,null,2.6,2.6,3.4,3.4,null,-0.4,-0.4,0.4,0.4,null,2.6,2.6,3.4,3.4,null,-0.4,-0.4,0.4,0.4,null,1.6,1.6,2.4,2.4,null,2.6,2.6,3.4,3.4,null,-0.4,-0.4,0.4,0.4,null,2.6,2.6,3.4,3.4,null,2.6,2.6,3.4,3.4,null,-0.4,-0.4,0.4,0.4,null,2.6,2.6,3.4,3.4,null,-0.4,-0.4,0.4,0.4,null,-0.4,-0.4,0.4,0.4,null,0.6,0.6,1.4,1.4,null,-0.4,-0.4,0.4,0.4,null,1.6,1.6,2.4,2.4,null,2.6,2.6,3.4,3.4,null,-0.4,-0.4,0.4,0.4,null,2.6,2.6,3.4,3.4,null,-0.4,-0.4,0.4,0.4,null,-0.4,-0.4,0.4,0.4,null,-0.4,-0.4,0.4,0.4,null,-0.4,-0.4,0.4,0.4,null,-0.4,-0.4,0.4,0.4,null,-0.4,-0.4,0.4,0.4,null,-0.4,-0.4,0.4,0.4,null,-0.4,-0.4,0.4,0.4,null,-0.4,-0.4,0.4,0.4,null,-0.4,-0.4,0.4,0.4,null,-0.4,-0.4,0.4,0.4],\"type\":\"scatter\"},{\"fill\":\"toself\",\"fillcolor\":\"rgb(31, 119, 180)\",\"hoverinfo\":\"name\",\"legendgroup\":\"rgb(31, 119, 180)\",\"mode\":\"none\",\"name\":\"CEREAL_1\",\"showlegend\":true,\"x\":[210.0,490.0,490.0,210.0,210.0,570.0,960.0,960.0,570.0,570.0,955.0,1125.0,1125.0,955.0,955.0,960.0,1080.0,1080.0,960.0,960.0,1125.0,1155.0,1155.0,1125.0,1125.0,1675.0,2005.0,2005.0,1675.0,1675.0,2080.0,2400.0,2400.0,2080.0,2080.0,2400.0,2540.0,2540.0,2400.0,2400.0,2730.0,2940.0,2940.0,2730.0,2730.0,2925.0,3255.0,3255.0,2925.0,2925.0,2940.0,2970.0,2970.0,2940.0,2940.0,3255.0,3375.0,3375.0,3255.0,3255.0,3375.0,3495.0,3495.0,3375.0,3375.0,3495.0,3615.0,3615.0,3495.0,3495.0,3915.0,4085.0,4085.0,3915.0,3915.0,4075.0,4465.0,4465.0,4075.0,4075.0,4130.0,4450.0,4450.0,4130.0,4130.0,4310.0,4520.0,4520.0,4310.0,4310.0,4450.0,4590.0,4590.0,4450.0,4450.0,4465.0,4585.0,4585.0,4465.0,4465.0,4520.0,4550.0,4550.0,4520.0,4520.0,4585.0,4705.0,4705.0,4585.0,4585.0,5090.0,5260.0,5260.0,5090.0,5090.0,5800.0,5970.0,5970.0,5800.0,5800.0,6240.0,6450.0,6450.0,6240.0,6240.0,6450.0,6480.0,6480.0,6450.0,6450.0,6795.0,6965.0,6965.0,6795.0,6795.0,6965.0,6995.0,6995.0,6965.0,6965.0,7715.0,7925.0,7925.0,7715.0,7715.0,8150.0,8360.0,8360.0,8150.0],\"y\":[1.6,1.6,2.4,2.4,null,0.6,0.6,1.4,1.4,null,-0.4,-0.4,0.4,0.4,null,0.6,0.6,1.4,1.4,null,-0.4,-0.4,0.4,0.4,null,0.6,0.6,1.4,1.4,null,1.6,1.6,2.4,2.4,null,1.6,1.6,2.4,2.4,null,-0.4,-0.4,0.4,0.4,null,0.6,0.6,1.4,1.4,null,-0.4,-0.4,0.4,0.4,null,0.6,0.6,1.4,1.4,null,0.6,0.6,1.4,1.4,null,0.6,0.6,1.4,1.4,null,-0.4,-0.4,0.4,0.4,null,0.6,0.6,1.4,1.4,null,1.6,1.6,2.4,2.4,null,-0.4,-0.4,0.4,0.4,null,1.6,1.6,2.4,2.4,null,0.6,0.6,1.4,1.4,null,-0.4,-0.4,0.4,0.4,null,0.6,0.6,1.4,1.4,null,-0.4,-0.4,0.4,0.4,null,-0.4,-0.4,0.4,0.4,null,-0.4,-0.4,0.4,0.4,null,-0.4,-0.4,0.4,0.4,null,-0.4,-0.4,0.4,0.4,null,-0.4,-0.4,0.4,0.4,null,-0.4,-0.4,0.4,0.4,null,-0.4,-0.4,0.4,0.4],\"type\":\"scatter\"},{\"fill\":\"toself\",\"fillcolor\":\"rgb(44, 160, 44)\",\"hoverinfo\":\"name\",\"legendgroup\":\"rgb(44, 160, 44)\",\"mode\":\"none\",\"name\":\"CEREAL_3\",\"showlegend\":true,\"x\":[0,190.0,190.0,0,0,0,210.0,210.0,0,0,190.0,380.0,380.0,190.0,190.0,235.0,460.0,460.0,235.0,235.0,730.0,955.0,955.0,730.0,730.0,880.0,1270.0,1270.0,880.0,880.0,1080.0,1675.0,1675.0,1080.0,1080.0,1155.0,1470.0,1470.0,1155.0,1155.0,1165.0,1380.0,1380.0,1165.0,1165.0,1270.0,1480.0,1480.0,1270.0,1270.0,1380.0,1570.0,1570.0,1380.0,1380.0,1570.0,1760.0,1760.0,1570.0,1570.0,1695.0,1920.0,1920.0,1695.0,1695.0,1920.0,1965.0,1965.0,1920.0,1920.0,2235.0,2460.0,2460.0,2235.0,2235.0,2465.0,2925.0,2925.0,2465.0,2465.0,2925.0,3140.0,3140.0,2925.0,2925.0,2930.0,3320.0,3320.0,2930.0,2930.0,2970.0,3285.0,3285.0,2970.0,2970.0,3285.0,3330.0,3330.0,3285.0,3285.0,3320.0,3530.0,3530.0,3320.0,3320.0,3530.0,3740.0,3740.0,3530.0,3530.0,3545.0,3760.0,3760.0,3545.0,3545.0,3690.0,3915.0,3915.0,3690.0,3690.0,3760.0,3950.0,3950.0,3760.0,3760.0,4775.0,5000.0,5000.0,4775.0,4775.0,5000.0,5045.0,5045.0,5000.0,5000.0,5045.0,5090.0,5090.0,5045.0,5045.0,5575.0,5800.0,5800.0,5575.0,5575.0,6480.0,6795.0,6795.0,6480.0,6480.0,6995.0,7310.0,7310.0,6995.0,6995.0,7310.0,7355.0,7355.0,7310.0],\"y\":[2.6,2.6,3.4,3.4,null,1.6,1.6,2.4,2.4,null,2.6,2.6,3.4,3.4,null,-0.4,-0.4,0.4,0.4,null,-0.4,-0.4,0.4,0.4,null,1.6,1.6,2.4,2.4,null,0.6,0.6,1.4,1.4,null,-0.4,-0.4,0.4,0.4,null,2.6,2.6,3.4,3.4,null,1.6,1.6,2.4,2.4,null,2.6,2.6,3.4,3.4,null,2.6,2.6,3.4,3.4,null,-0.4,-0.4,0.4,0.4,null,-0.4,-0.4,0.4,0.4,null,-0.4,-0.4,0.4,0.4,null,0.6,0.6,1.4,1.4,null,2.6,2.6,3.4,3.4,null,1.6,1.6,2.4,2.4,null,-0.4,-0.4,0.4,0.4,null,-0.4,-0.4,0.4,0.4,null,1.6,1.6,2.4,2.4,null,1.6,1.6,2.4,2.4,null,2.6,2.6,3.4,3.4,null,-0.4,-0.4,0.4,0.4,null,2.6,2.6,3.4,3.4,null,-0.4,-0.4,0.4,0.4,null,-0.4,-0.4,0.4,0.4,null,-0.4,-0.4,0.4,0.4,null,-0.4,-0.4,0.4,0.4,null,-0.4,-0.4,0.4,0.4,null,-0.4,-0.4,0.4,0.4,null,-0.4,-0.4,0.4,0.4],\"type\":\"scatter\"},{\"legendgroup\":\"rgb(255, 127, 14)\",\"marker\":{\"color\":\"rgb(255, 127, 14)\",\"opacity\":0,\"size\":1},\"mode\":\"markers\",\"name\":\"\",\"showlegend\":false,\"text\":[null,null,null,null,null,null,null,null,null,null,null,null,null,null,null,null,null,null,null,null,null,null,null,null,null,null,null,null,null,null,null,null,null,null,null,null,null,null,null,null,null,null,null,null,null,null,null,null,null,null,null,null,null,null,null,null,null,null,null,null,null,null,null,null,null,null,null,null,null,null,null,null,null,null,null,null,null,null,null,null,null,null,null,null,null,null,null,null,null,null,null,null,null,null,null,null],\"x\":[0,190.0,190.0,380.0,190.0,235.0,380.0,570.0,380.0,595.0,460.0,685.0,490.0,880.0,595.0,785.0,685.0,730.0,785.0,975.0,975.0,1165.0,1470.0,1695.0,1480.0,1870.0,1760.0,1975.0,1870.0,2080.0,1965.0,2190.0,1975.0,2165.0,2005.0,2465.0,2165.0,2355.0,2190.0,2235.0,2355.0,2545.0,2460.0,2685.0,2540.0,2930.0,2545.0,2735.0,2685.0,2730.0,2735.0,2925.0,3140.0,3355.0,3330.0,3555.0,3355.0,3545.0,3555.0,3600.0,3600.0,3645.0,3615.0,4075.0,3645.0,3690.0,3740.0,4130.0,3950.0,4165.0,4085.0,4310.0,4165.0,4355.0,4550.0,4775.0,5260.0,5485.0,5485.0,5530.0,5530.0,5575.0,5970.0,6195.0,6195.0,6240.0,7355.0,7580.0,7580.0,7625.0,7625.0,7670.0,7670.0,7715.0,7925.0,8150.0],\"y\":[1,1,1,1,0,0,1,1,3,3,0,0,2,2,3,3,0,0,3,3,3,3,0,0,2,2,3,3,2,2,0,0,3,3,1,1,3,3,0,0,3,3,0,0,2,2,3,3,0,0,3,3,3,3,0,0,3,3,0,0,0,0,1,1,0,0,2,2,3,3,0,0,3,3,0,0,0,0,0,0,0,0,0,0,0,0,0,0,0,0,0,0,0,0,0,0],\"type\":\"scatter\"},{\"legendgroup\":\"rgb(31, 119, 180)\",\"marker\":{\"color\":\"rgb(31, 119, 180)\",\"opacity\":0,\"size\":1},\"mode\":\"markers\",\"name\":\"\",\"showlegend\":false,\"text\":[null,null,null,null,null,null,null,null,null,null,null,null,null,null,null,null,null,null,null,null,null,null,null,null,null,null,null,null,null,null,null,null,null,null,null,null,null,null,null,null,null,null,null,null,null,null,null,null,null,null,null,null,null,null,null,null,null,null,null,null],\"x\":[210.0,490.0,570.0,960.0,955.0,1125.0,960.0,1080.0,1125.0,1155.0,1675.0,2005.0,2080.0,2400.0,2400.0,2540.0,2730.0,2940.0,2925.0,3255.0,2940.0,2970.0,3255.0,3375.0,3375.0,3495.0,3495.0,3615.0,3915.0,4085.0,4075.0,4465.0,4130.0,4450.0,4310.0,4520.0,4450.0,4590.0,4465.0,4585.0,4520.0,4550.0,4585.0,4705.0,5090.0,5260.0,5800.0,5970.0,6240.0,6450.0,6450.0,6480.0,6795.0,6965.0,6965.0,6995.0,7715.0,7925.0,8150.0,8360.0],\"y\":[2,2,1,1,0,0,1,1,0,0,1,1,2,2,2,2,0,0,1,1,0,0,1,1,1,1,1,1,0,0,1,1,2,2,0,0,2,2,1,1,0,0,1,1,0,0,0,0,0,0,0,0,0,0,0,0,0,0,0,0],\"type\":\"scatter\"},{\"legendgroup\":\"rgb(44, 160, 44)\",\"marker\":{\"color\":\"rgb(44, 160, 44)\",\"opacity\":0,\"size\":1},\"mode\":\"markers\",\"name\":\"\",\"showlegend\":false,\"text\":[null,null,null,null,null,null,null,null,null,null,null,null,null,null,null,null,null,null,null,null,null,null,null,null,null,null,null,null,null,null,null,null,null,null,null,null,null,null,null,null,null,null,null,null,null,null,null,null,null,null,null,null,null,null,null,null,null,null,null,null,null,null,null,null],\"x\":[0,190.0,0,210.0,190.0,380.0,235.0,460.0,730.0,955.0,880.0,1270.0,1080.0,1675.0,1155.0,1470.0,1165.0,1380.0,1270.0,1480.0,1380.0,1570.0,1570.0,1760.0,1695.0,1920.0,1920.0,1965.0,2235.0,2460.0,2465.0,2925.0,2925.0,3140.0,2930.0,3320.0,2970.0,3285.0,3285.0,3330.0,3320.0,3530.0,3530.0,3740.0,3545.0,3760.0,3690.0,3915.0,3760.0,3950.0,4775.0,5000.0,5000.0,5045.0,5045.0,5090.0,5575.0,5800.0,6480.0,6795.0,6995.0,7310.0,7310.0,7355.0],\"y\":[3,3,2,2,3,3,0,0,0,0,2,2,1,1,0,0,3,3,2,2,3,3,3,3,0,0,0,0,0,0,1,1,3,3,2,2,0,0,0,0,2,2,2,2,3,3,0,0,3,3,0,0,0,0,0,0,0,0,0,0,0,0,0,0],\"type\":\"scatter\"}],                        {\"height\":400,\"hovermode\":\"closest\",\"showlegend\":true,\"title\":{\"text\":\"Gantt Chart\"},\"xaxis\":{\"rangeselector\":{\"buttons\":[{\"count\":7,\"label\":\"1w\",\"step\":\"day\",\"stepmode\":\"backward\"},{\"count\":1,\"label\":\"1m\",\"step\":\"month\",\"stepmode\":\"backward\"},{\"count\":6,\"label\":\"6m\",\"step\":\"month\",\"stepmode\":\"backward\"},{\"count\":1,\"label\":\"YTD\",\"step\":\"year\",\"stepmode\":\"todate\"},{\"count\":1,\"label\":\"1y\",\"step\":\"year\",\"stepmode\":\"backward\"},{\"step\":\"all\"}]},\"showgrid\":false,\"type\":\"linear\",\"zeroline\":false},\"yaxis\":{\"autorange\":false,\"range\":[-1,5],\"showgrid\":false,\"ticktext\":[\"RES_4\",\"RES_2\",\"RES_1\",\"RES_3\"],\"tickvals\":[0,1,2,3],\"zeroline\":false},\"template\":{\"data\":{\"histogram2dcontour\":[{\"type\":\"histogram2dcontour\",\"colorbar\":{\"outlinewidth\":0,\"ticks\":\"\"},\"colorscale\":[[0.0,\"#0d0887\"],[0.1111111111111111,\"#46039f\"],[0.2222222222222222,\"#7201a8\"],[0.3333333333333333,\"#9c179e\"],[0.4444444444444444,\"#bd3786\"],[0.5555555555555556,\"#d8576b\"],[0.6666666666666666,\"#ed7953\"],[0.7777777777777778,\"#fb9f3a\"],[0.8888888888888888,\"#fdca26\"],[1.0,\"#f0f921\"]]}],\"choropleth\":[{\"type\":\"choropleth\",\"colorbar\":{\"outlinewidth\":0,\"ticks\":\"\"}}],\"histogram2d\":[{\"type\":\"histogram2d\",\"colorbar\":{\"outlinewidth\":0,\"ticks\":\"\"},\"colorscale\":[[0.0,\"#0d0887\"],[0.1111111111111111,\"#46039f\"],[0.2222222222222222,\"#7201a8\"],[0.3333333333333333,\"#9c179e\"],[0.4444444444444444,\"#bd3786\"],[0.5555555555555556,\"#d8576b\"],[0.6666666666666666,\"#ed7953\"],[0.7777777777777778,\"#fb9f3a\"],[0.8888888888888888,\"#fdca26\"],[1.0,\"#f0f921\"]]}],\"heatmap\":[{\"type\":\"heatmap\",\"colorbar\":{\"outlinewidth\":0,\"ticks\":\"\"},\"colorscale\":[[0.0,\"#0d0887\"],[0.1111111111111111,\"#46039f\"],[0.2222222222222222,\"#7201a8\"],[0.3333333333333333,\"#9c179e\"],[0.4444444444444444,\"#bd3786\"],[0.5555555555555556,\"#d8576b\"],[0.6666666666666666,\"#ed7953\"],[0.7777777777777778,\"#fb9f3a\"],[0.8888888888888888,\"#fdca26\"],[1.0,\"#f0f921\"]]}],\"heatmapgl\":[{\"type\":\"heatmapgl\",\"colorbar\":{\"outlinewidth\":0,\"ticks\":\"\"},\"colorscale\":[[0.0,\"#0d0887\"],[0.1111111111111111,\"#46039f\"],[0.2222222222222222,\"#7201a8\"],[0.3333333333333333,\"#9c179e\"],[0.4444444444444444,\"#bd3786\"],[0.5555555555555556,\"#d8576b\"],[0.6666666666666666,\"#ed7953\"],[0.7777777777777778,\"#fb9f3a\"],[0.8888888888888888,\"#fdca26\"],[1.0,\"#f0f921\"]]}],\"contourcarpet\":[{\"type\":\"contourcarpet\",\"colorbar\":{\"outlinewidth\":0,\"ticks\":\"\"}}],\"contour\":[{\"type\":\"contour\",\"colorbar\":{\"outlinewidth\":0,\"ticks\":\"\"},\"colorscale\":[[0.0,\"#0d0887\"],[0.1111111111111111,\"#46039f\"],[0.2222222222222222,\"#7201a8\"],[0.3333333333333333,\"#9c179e\"],[0.4444444444444444,\"#bd3786\"],[0.5555555555555556,\"#d8576b\"],[0.6666666666666666,\"#ed7953\"],[0.7777777777777778,\"#fb9f3a\"],[0.8888888888888888,\"#fdca26\"],[1.0,\"#f0f921\"]]}],\"surface\":[{\"type\":\"surface\",\"colorbar\":{\"outlinewidth\":0,\"ticks\":\"\"},\"colorscale\":[[0.0,\"#0d0887\"],[0.1111111111111111,\"#46039f\"],[0.2222222222222222,\"#7201a8\"],[0.3333333333333333,\"#9c179e\"],[0.4444444444444444,\"#bd3786\"],[0.5555555555555556,\"#d8576b\"],[0.6666666666666666,\"#ed7953\"],[0.7777777777777778,\"#fb9f3a\"],[0.8888888888888888,\"#fdca26\"],[1.0,\"#f0f921\"]]}],\"mesh3d\":[{\"type\":\"mesh3d\",\"colorbar\":{\"outlinewidth\":0,\"ticks\":\"\"}}],\"scatter\":[{\"fillpattern\":{\"fillmode\":\"overlay\",\"size\":10,\"solidity\":0.2},\"type\":\"scatter\"}],\"parcoords\":[{\"type\":\"parcoords\",\"line\":{\"colorbar\":{\"outlinewidth\":0,\"ticks\":\"\"}}}],\"scatterpolargl\":[{\"type\":\"scatterpolargl\",\"marker\":{\"colorbar\":{\"outlinewidth\":0,\"ticks\":\"\"}}}],\"bar\":[{\"error_x\":{\"color\":\"#2a3f5f\"},\"error_y\":{\"color\":\"#2a3f5f\"},\"marker\":{\"line\":{\"color\":\"#E5ECF6\",\"width\":0.5},\"pattern\":{\"fillmode\":\"overlay\",\"size\":10,\"solidity\":0.2}},\"type\":\"bar\"}],\"scattergeo\":[{\"type\":\"scattergeo\",\"marker\":{\"colorbar\":{\"outlinewidth\":0,\"ticks\":\"\"}}}],\"scatterpolar\":[{\"type\":\"scatterpolar\",\"marker\":{\"colorbar\":{\"outlinewidth\":0,\"ticks\":\"\"}}}],\"histogram\":[{\"marker\":{\"pattern\":{\"fillmode\":\"overlay\",\"size\":10,\"solidity\":0.2}},\"type\":\"histogram\"}],\"scattergl\":[{\"type\":\"scattergl\",\"marker\":{\"colorbar\":{\"outlinewidth\":0,\"ticks\":\"\"}}}],\"scatter3d\":[{\"type\":\"scatter3d\",\"line\":{\"colorbar\":{\"outlinewidth\":0,\"ticks\":\"\"}},\"marker\":{\"colorbar\":{\"outlinewidth\":0,\"ticks\":\"\"}}}],\"scattermapbox\":[{\"type\":\"scattermapbox\",\"marker\":{\"colorbar\":{\"outlinewidth\":0,\"ticks\":\"\"}}}],\"scatterternary\":[{\"type\":\"scatterternary\",\"marker\":{\"colorbar\":{\"outlinewidth\":0,\"ticks\":\"\"}}}],\"scattercarpet\":[{\"type\":\"scattercarpet\",\"marker\":{\"colorbar\":{\"outlinewidth\":0,\"ticks\":\"\"}}}],\"carpet\":[{\"aaxis\":{\"endlinecolor\":\"#2a3f5f\",\"gridcolor\":\"white\",\"linecolor\":\"white\",\"minorgridcolor\":\"white\",\"startlinecolor\":\"#2a3f5f\"},\"baxis\":{\"endlinecolor\":\"#2a3f5f\",\"gridcolor\":\"white\",\"linecolor\":\"white\",\"minorgridcolor\":\"white\",\"startlinecolor\":\"#2a3f5f\"},\"type\":\"carpet\"}],\"table\":[{\"cells\":{\"fill\":{\"color\":\"#EBF0F8\"},\"line\":{\"color\":\"white\"}},\"header\":{\"fill\":{\"color\":\"#C8D4E3\"},\"line\":{\"color\":\"white\"}},\"type\":\"table\"}],\"barpolar\":[{\"marker\":{\"line\":{\"color\":\"#E5ECF6\",\"width\":0.5},\"pattern\":{\"fillmode\":\"overlay\",\"size\":10,\"solidity\":0.2}},\"type\":\"barpolar\"}],\"pie\":[{\"automargin\":true,\"type\":\"pie\"}]},\"layout\":{\"autotypenumbers\":\"strict\",\"colorway\":[\"#636efa\",\"#EF553B\",\"#00cc96\",\"#ab63fa\",\"#FFA15A\",\"#19d3f3\",\"#FF6692\",\"#B6E880\",\"#FF97FF\",\"#FECB52\"],\"font\":{\"color\":\"#2a3f5f\"},\"hovermode\":\"closest\",\"hoverlabel\":{\"align\":\"left\"},\"paper_bgcolor\":\"white\",\"plot_bgcolor\":\"#E5ECF6\",\"polar\":{\"bgcolor\":\"#E5ECF6\",\"angularaxis\":{\"gridcolor\":\"white\",\"linecolor\":\"white\",\"ticks\":\"\"},\"radialaxis\":{\"gridcolor\":\"white\",\"linecolor\":\"white\",\"ticks\":\"\"}},\"ternary\":{\"bgcolor\":\"#E5ECF6\",\"aaxis\":{\"gridcolor\":\"white\",\"linecolor\":\"white\",\"ticks\":\"\"},\"baxis\":{\"gridcolor\":\"white\",\"linecolor\":\"white\",\"ticks\":\"\"},\"caxis\":{\"gridcolor\":\"white\",\"linecolor\":\"white\",\"ticks\":\"\"}},\"coloraxis\":{\"colorbar\":{\"outlinewidth\":0,\"ticks\":\"\"}},\"colorscale\":{\"sequential\":[[0.0,\"#0d0887\"],[0.1111111111111111,\"#46039f\"],[0.2222222222222222,\"#7201a8\"],[0.3333333333333333,\"#9c179e\"],[0.4444444444444444,\"#bd3786\"],[0.5555555555555556,\"#d8576b\"],[0.6666666666666666,\"#ed7953\"],[0.7777777777777778,\"#fb9f3a\"],[0.8888888888888888,\"#fdca26\"],[1.0,\"#f0f921\"]],\"sequentialminus\":[[0.0,\"#0d0887\"],[0.1111111111111111,\"#46039f\"],[0.2222222222222222,\"#7201a8\"],[0.3333333333333333,\"#9c179e\"],[0.4444444444444444,\"#bd3786\"],[0.5555555555555556,\"#d8576b\"],[0.6666666666666666,\"#ed7953\"],[0.7777777777777778,\"#fb9f3a\"],[0.8888888888888888,\"#fdca26\"],[1.0,\"#f0f921\"]],\"diverging\":[[0,\"#8e0152\"],[0.1,\"#c51b7d\"],[0.2,\"#de77ae\"],[0.3,\"#f1b6da\"],[0.4,\"#fde0ef\"],[0.5,\"#f7f7f7\"],[0.6,\"#e6f5d0\"],[0.7,\"#b8e186\"],[0.8,\"#7fbc41\"],[0.9,\"#4d9221\"],[1,\"#276419\"]]},\"xaxis\":{\"gridcolor\":\"white\",\"linecolor\":\"white\",\"ticks\":\"\",\"title\":{\"standoff\":15},\"zerolinecolor\":\"white\",\"automargin\":true,\"zerolinewidth\":2},\"yaxis\":{\"gridcolor\":\"white\",\"linecolor\":\"white\",\"ticks\":\"\",\"title\":{\"standoff\":15},\"zerolinecolor\":\"white\",\"automargin\":true,\"zerolinewidth\":2},\"scene\":{\"xaxis\":{\"backgroundcolor\":\"#E5ECF6\",\"gridcolor\":\"white\",\"linecolor\":\"white\",\"showbackground\":true,\"ticks\":\"\",\"zerolinecolor\":\"white\",\"gridwidth\":2},\"yaxis\":{\"backgroundcolor\":\"#E5ECF6\",\"gridcolor\":\"white\",\"linecolor\":\"white\",\"showbackground\":true,\"ticks\":\"\",\"zerolinecolor\":\"white\",\"gridwidth\":2},\"zaxis\":{\"backgroundcolor\":\"#E5ECF6\",\"gridcolor\":\"white\",\"linecolor\":\"white\",\"showbackground\":true,\"ticks\":\"\",\"zerolinecolor\":\"white\",\"gridwidth\":2}},\"shapedefaults\":{\"line\":{\"color\":\"#2a3f5f\"}},\"annotationdefaults\":{\"arrowcolor\":\"#2a3f5f\",\"arrowhead\":0,\"arrowwidth\":1},\"geo\":{\"bgcolor\":\"white\",\"landcolor\":\"#E5ECF6\",\"subunitcolor\":\"white\",\"showland\":true,\"showlakes\":true,\"lakecolor\":\"white\"},\"title\":{\"x\":0.05},\"mapbox\":{\"style\":\"light\"}}},\"autosize\":false,\"width\":800},                        {\"responsive\": true}                    ).then(function(){\n",
       "                            \n",
       "var gd = document.getElementById('2726ba14-e22e-4610-919c-c0d0aa62a6d9');\n",
       "var x = new MutationObserver(function (mutations, observer) {{\n",
       "        var display = window.getComputedStyle(gd).display;\n",
       "        if (!display || display === 'none') {{\n",
       "            console.log([gd, 'removed!']);\n",
       "            Plotly.purge(gd);\n",
       "            observer.disconnect();\n",
       "        }}\n",
       "}});\n",
       "\n",
       "// Listen for the removal of the full notebook cells\n",
       "var notebookContainer = gd.closest('#notebook-container');\n",
       "if (notebookContainer) {{\n",
       "    x.observe(notebookContainer, {childList: true});\n",
       "}}\n",
       "\n",
       "// Listen for the clearing of the current output cell\n",
       "var outputEl = gd.closest('.output');\n",
       "if (outputEl) {{\n",
       "    x.observe(outputEl, {childList: true});\n",
       "}}\n",
       "\n",
       "                        })                };                });            </script>        </div>"
      ]
     },
     "metadata": {},
     "output_type": "display_data"
    }
   ],
   "source": [
    "simulation = sim_constrained.Env(visualise=True, verbose=False)\n",
    "\n",
    "while simulation.alive:\n",
    "    \n",
    "    #print(list(simulation.possible_actions.items()))\n",
    "\n",
    "    action_order = random.choice(list(simulation.possible_actions.keys()))\n",
    "    action_resource = random.choice(simulation.possible_actions[action_order])\n",
    "    \n",
    "    #print(\"Action is taken: \" , (action_order,action_resource))\n",
    "    #print()\n",
    "    simulation.step((action_order,action_resource))"
   ]
  },
  {
   "cell_type": "code",
   "execution_count": 4,
   "id": "427ff034",
   "metadata": {},
   "outputs": [
    {
     "name": "stdout",
     "output_type": "stream",
     "text": [
      "All products are produced at time:  6850.0\n",
      "From total  55  order,  23  was before their due dates. Success rate is:  41.82 %\n"
     ]
    },
    {
     "data": {
      "application/vnd.plotly.v1+json": {
       "config": {
        "plotlyServerURL": "https://plot.ly"
       },
       "data": [
        {
         "fill": "toself",
         "fillcolor": "rgb(255, 127, 14)",
         "hoverinfo": "name",
         "legendgroup": "rgb(255, 127, 14)",
         "mode": "none",
         "name": "CEREAL_2",
         "showlegend": true,
         "type": "scatter",
         "x": [
          960,
          1420,
          1420,
          960,
          960,
          980,
          1370,
          1370,
          980,
          980,
          1370,
          1580,
          1580,
          1370,
          1370,
          1385,
          1610,
          1610,
          1385,
          1385,
          1420,
          1610,
          1610,
          1420,
          1420,
          1580,
          1790,
          1790,
          1580,
          1580,
          1610,
          1800,
          1800,
          1610,
          1610,
          1610,
          1655,
          1655,
          1610,
          1610,
          1655,
          1700,
          1700,
          1655,
          1655,
          1700,
          1745,
          1745,
          1700,
          1700,
          1790,
          2000,
          2000,
          1790,
          1790,
          1800,
          1990,
          1990,
          1800,
          1800,
          1970,
          2195,
          2195,
          1970,
          1970,
          1990,
          2180,
          2180,
          1990,
          1990,
          2000,
          2210,
          2210,
          2000,
          2000,
          2180,
          2370,
          2370,
          2180,
          2180,
          2195,
          2240,
          2240,
          2195,
          2195,
          2210,
          2420,
          2420,
          2210,
          2210,
          2240,
          2285,
          2285,
          2240,
          2240,
          2285,
          2330,
          2330,
          2285,
          2285,
          2330,
          2375,
          2375,
          2330,
          2330,
          2370,
          2560,
          2560,
          2370,
          2370,
          2375,
          2420,
          2420,
          2375,
          2375,
          2420,
          2630,
          2630,
          2420,
          2420,
          2420,
          2465,
          2465,
          2420,
          2420,
          2465,
          2510,
          2510,
          2465,
          2465,
          2560,
          2750,
          2750,
          2560,
          2560,
          2630,
          2840,
          2840,
          2630,
          2630,
          2735,
          2960,
          2960,
          2735,
          2735,
          2750,
          2940,
          2940,
          2750,
          2750,
          2840,
          3050,
          3050,
          2840,
          2840,
          2940,
          3130,
          3130,
          2940,
          2940,
          2960,
          3005,
          3005,
          2960,
          2960,
          3040,
          3255,
          3255,
          3040,
          3040,
          3050,
          3260,
          3260,
          3050,
          3050,
          3130,
          3320,
          3320,
          3130,
          3130,
          3255,
          3445,
          3445,
          3255,
          3255,
          3260,
          3470,
          3470,
          3260,
          3260,
          3400,
          3625,
          3625,
          3400,
          3400,
          3625,
          3670,
          3670,
          3625,
          3625,
          3880,
          4105,
          4105,
          3880,
          3880,
          4105,
          4150,
          4150,
          4105,
          4105,
          4150,
          4195,
          4195,
          4150,
          4150,
          4405,
          4630,
          4630,
          4405,
          4405,
          4840,
          5065,
          5065,
          4840,
          4840,
          5065,
          5110,
          5110,
          5065,
          5065,
          5725,
          5950,
          5950,
          5725,
          5725,
          6310,
          6535,
          6535,
          6310
         ],
         "y": [
          1.6,
          1.6,
          2.4,
          2.4,
          null,
          2.6,
          2.6,
          3.4,
          3.4,
          null,
          2.6,
          2.6,
          3.4,
          3.4,
          null,
          -0.4,
          -0.4,
          0.4,
          0.4,
          null,
          1.6,
          1.6,
          2.4,
          2.4,
          null,
          2.6,
          2.6,
          3.4,
          3.4,
          null,
          1.6,
          1.6,
          2.4,
          2.4,
          null,
          -0.4,
          -0.4,
          0.4,
          0.4,
          null,
          -0.4,
          -0.4,
          0.4,
          0.4,
          null,
          -0.4,
          -0.4,
          0.4,
          0.4,
          null,
          2.6,
          2.6,
          3.4,
          3.4,
          null,
          1.6,
          1.6,
          2.4,
          2.4,
          null,
          -0.4,
          -0.4,
          0.4,
          0.4,
          null,
          1.6,
          1.6,
          2.4,
          2.4,
          null,
          2.6,
          2.6,
          3.4,
          3.4,
          null,
          1.6,
          1.6,
          2.4,
          2.4,
          null,
          -0.4,
          -0.4,
          0.4,
          0.4,
          null,
          2.6,
          2.6,
          3.4,
          3.4,
          null,
          -0.4,
          -0.4,
          0.4,
          0.4,
          null,
          -0.4,
          -0.4,
          0.4,
          0.4,
          null,
          -0.4,
          -0.4,
          0.4,
          0.4,
          null,
          1.6,
          1.6,
          2.4,
          2.4,
          null,
          -0.4,
          -0.4,
          0.4,
          0.4,
          null,
          2.6,
          2.6,
          3.4,
          3.4,
          null,
          -0.4,
          -0.4,
          0.4,
          0.4,
          null,
          -0.4,
          -0.4,
          0.4,
          0.4,
          null,
          1.6,
          1.6,
          2.4,
          2.4,
          null,
          2.6,
          2.6,
          3.4,
          3.4,
          null,
          -0.4,
          -0.4,
          0.4,
          0.4,
          null,
          1.6,
          1.6,
          2.4,
          2.4,
          null,
          2.6,
          2.6,
          3.4,
          3.4,
          null,
          1.6,
          1.6,
          2.4,
          2.4,
          null,
          -0.4,
          -0.4,
          0.4,
          0.4,
          null,
          0.6,
          0.6,
          1.4,
          1.4,
          null,
          2.6,
          2.6,
          3.4,
          3.4,
          null,
          1.6,
          1.6,
          2.4,
          2.4,
          null,
          0.6,
          0.6,
          1.4,
          1.4,
          null,
          2.6,
          2.6,
          3.4,
          3.4,
          null,
          -0.4,
          -0.4,
          0.4,
          0.4,
          null,
          -0.4,
          -0.4,
          0.4,
          0.4,
          null,
          -0.4,
          -0.4,
          0.4,
          0.4,
          null,
          -0.4,
          -0.4,
          0.4,
          0.4,
          null,
          -0.4,
          -0.4,
          0.4,
          0.4,
          null,
          -0.4,
          -0.4,
          0.4,
          0.4,
          null,
          -0.4,
          -0.4,
          0.4,
          0.4,
          null,
          -0.4,
          -0.4,
          0.4,
          0.4,
          null,
          -0.4,
          -0.4,
          0.4,
          0.4,
          null,
          -0.4,
          -0.4,
          0.4,
          0.4
         ]
        },
        {
         "fill": "toself",
         "fillcolor": "rgb(31, 119, 180)",
         "hoverinfo": "name",
         "legendgroup": "rgb(31, 119, 180)",
         "mode": "none",
         "name": "CEREAL_1",
         "showlegend": true,
         "type": "scatter",
         "x": [
          0,
          140,
          140,
          0,
          0,
          0,
          120,
          120,
          0,
          0,
          120,
          150,
          150,
          120,
          120,
          120,
          240,
          240,
          120,
          120,
          140,
          280,
          280,
          140,
          140,
          150,
          180,
          180,
          150,
          150,
          240,
          360,
          360,
          240,
          240,
          280,
          420,
          420,
          280,
          280,
          360,
          480,
          480,
          360,
          360,
          420,
          560,
          560,
          420,
          420,
          480,
          600,
          600,
          480,
          480,
          505,
          675,
          675,
          505,
          505,
          560,
          700,
          700,
          560,
          560,
          600,
          720,
          720,
          600,
          600,
          675,
          705,
          705,
          675,
          675,
          700,
          840,
          840,
          700,
          700,
          705,
          735,
          735,
          705,
          705,
          720,
          840,
          840,
          720,
          720,
          840,
          980,
          980,
          840,
          840,
          840,
          960,
          960,
          840,
          840,
          1095,
          1265,
          1265,
          1095,
          1095,
          1265,
          1295,
          1295,
          1265,
          1265,
          1295,
          1325,
          1325,
          1295,
          1295,
          1325,
          1355,
          1355,
          1325,
          1325,
          1355,
          1385,
          1385,
          1355,
          1355,
          3230,
          3400,
          3400,
          3230,
          3230,
          3670,
          3880,
          3880,
          3670,
          3670,
          4195,
          4405,
          4405,
          4195,
          4195,
          4630,
          4840,
          4840,
          4630,
          4630,
          5110,
          5320,
          5320,
          5110
         ],
         "y": [
          2.6,
          2.6,
          3.4,
          3.4,
          null,
          1.6,
          1.6,
          2.4,
          2.4,
          null,
          -0.4,
          -0.4,
          0.4,
          0.4,
          null,
          1.6,
          1.6,
          2.4,
          2.4,
          null,
          2.6,
          2.6,
          3.4,
          3.4,
          null,
          -0.4,
          -0.4,
          0.4,
          0.4,
          null,
          1.6,
          1.6,
          2.4,
          2.4,
          null,
          2.6,
          2.6,
          3.4,
          3.4,
          null,
          1.6,
          1.6,
          2.4,
          2.4,
          null,
          2.6,
          2.6,
          3.4,
          3.4,
          null,
          1.6,
          1.6,
          2.4,
          2.4,
          null,
          -0.4,
          -0.4,
          0.4,
          0.4,
          null,
          2.6,
          2.6,
          3.4,
          3.4,
          null,
          1.6,
          1.6,
          2.4,
          2.4,
          null,
          -0.4,
          -0.4,
          0.4,
          0.4,
          null,
          2.6,
          2.6,
          3.4,
          3.4,
          null,
          -0.4,
          -0.4,
          0.4,
          0.4,
          null,
          1.6,
          1.6,
          2.4,
          2.4,
          null,
          2.6,
          2.6,
          3.4,
          3.4,
          null,
          1.6,
          1.6,
          2.4,
          2.4,
          null,
          -0.4,
          -0.4,
          0.4,
          0.4,
          null,
          -0.4,
          -0.4,
          0.4,
          0.4,
          null,
          -0.4,
          -0.4,
          0.4,
          0.4,
          null,
          -0.4,
          -0.4,
          0.4,
          0.4,
          null,
          -0.4,
          -0.4,
          0.4,
          0.4,
          null,
          -0.4,
          -0.4,
          0.4,
          0.4,
          null,
          -0.4,
          -0.4,
          0.4,
          0.4,
          null,
          -0.4,
          -0.4,
          0.4,
          0.4,
          null,
          -0.4,
          -0.4,
          0.4,
          0.4,
          null,
          -0.4,
          -0.4,
          0.4,
          0.4
         ]
        },
        {
         "fill": "toself",
         "fillcolor": "rgb(44, 160, 44)",
         "hoverinfo": "name",
         "legendgroup": "rgb(44, 160, 44)",
         "mode": "none",
         "name": "CEREAL_3",
         "showlegend": true,
         "type": "scatter",
         "x": [
          0,
          190,
          190,
          0,
          0,
          190,
          505,
          505,
          190,
          190,
          190,
          380,
          380,
          190,
          190,
          380,
          570,
          570,
          380,
          380,
          570,
          760,
          760,
          570,
          570,
          735,
          1050,
          1050,
          735,
          735,
          760,
          950,
          950,
          760,
          760,
          950,
          1140,
          1140,
          950,
          950,
          1050,
          1095,
          1095,
          1050,
          1050,
          1140,
          1330,
          1330,
          1140,
          1140,
          1330,
          1520,
          1520,
          1330,
          1330,
          1520,
          1710,
          1710,
          1520,
          1520,
          1710,
          1900,
          1900,
          1710,
          1710,
          1745,
          1970,
          1970,
          1745,
          1745,
          1900,
          2090,
          2090,
          1900,
          1900,
          2090,
          2280,
          2280,
          2090,
          2090,
          2280,
          2470,
          2470,
          2280,
          2280,
          2470,
          2660,
          2660,
          2470,
          2470,
          2510,
          2735,
          2735,
          2510,
          2510,
          2660,
          2850,
          2850,
          2660,
          2660,
          2850,
          3040,
          3040,
          2850,
          2850,
          3005,
          3230,
          3230,
          3005,
          3005,
          5320,
          5635,
          5635,
          5320,
          5320,
          5635,
          5680,
          5680,
          5635,
          5635,
          5680,
          5725,
          5725,
          5680,
          5680,
          5950,
          6175,
          6175,
          5950,
          5950,
          6175,
          6220,
          6220,
          6175,
          6175,
          6220,
          6265,
          6265,
          6220,
          6220,
          6265,
          6310,
          6310,
          6265,
          6265,
          6535,
          6760,
          6760,
          6535,
          6535,
          6760,
          6805,
          6805,
          6760,
          6760,
          6805,
          6850,
          6850,
          6805
         ],
         "y": [
          0.6,
          0.6,
          1.4,
          1.4,
          null,
          -0.4,
          -0.4,
          0.4,
          0.4,
          null,
          0.6,
          0.6,
          1.4,
          1.4,
          null,
          0.6,
          0.6,
          1.4,
          1.4,
          null,
          0.6,
          0.6,
          1.4,
          1.4,
          null,
          -0.4,
          -0.4,
          0.4,
          0.4,
          null,
          0.6,
          0.6,
          1.4,
          1.4,
          null,
          0.6,
          0.6,
          1.4,
          1.4,
          null,
          -0.4,
          -0.4,
          0.4,
          0.4,
          null,
          0.6,
          0.6,
          1.4,
          1.4,
          null,
          0.6,
          0.6,
          1.4,
          1.4,
          null,
          0.6,
          0.6,
          1.4,
          1.4,
          null,
          0.6,
          0.6,
          1.4,
          1.4,
          null,
          -0.4,
          -0.4,
          0.4,
          0.4,
          null,
          0.6,
          0.6,
          1.4,
          1.4,
          null,
          0.6,
          0.6,
          1.4,
          1.4,
          null,
          0.6,
          0.6,
          1.4,
          1.4,
          null,
          0.6,
          0.6,
          1.4,
          1.4,
          null,
          -0.4,
          -0.4,
          0.4,
          0.4,
          null,
          0.6,
          0.6,
          1.4,
          1.4,
          null,
          0.6,
          0.6,
          1.4,
          1.4,
          null,
          -0.4,
          -0.4,
          0.4,
          0.4,
          null,
          -0.4,
          -0.4,
          0.4,
          0.4,
          null,
          -0.4,
          -0.4,
          0.4,
          0.4,
          null,
          -0.4,
          -0.4,
          0.4,
          0.4,
          null,
          -0.4,
          -0.4,
          0.4,
          0.4,
          null,
          -0.4,
          -0.4,
          0.4,
          0.4,
          null,
          -0.4,
          -0.4,
          0.4,
          0.4,
          null,
          -0.4,
          -0.4,
          0.4,
          0.4,
          null,
          -0.4,
          -0.4,
          0.4,
          0.4,
          null,
          -0.4,
          -0.4,
          0.4,
          0.4,
          null,
          -0.4,
          -0.4,
          0.4,
          0.4
         ]
        },
        {
         "legendgroup": "rgb(255, 127, 14)",
         "marker": {
          "color": "rgb(255, 127, 14)",
          "opacity": 0,
          "size": 1
         },
         "mode": "markers",
         "name": "",
         "showlegend": false,
         "text": [
          null,
          null,
          null,
          null,
          null,
          null,
          null,
          null,
          null,
          null,
          null,
          null,
          null,
          null,
          null,
          null,
          null,
          null,
          null,
          null,
          null,
          null,
          null,
          null,
          null,
          null,
          null,
          null,
          null,
          null,
          null,
          null,
          null,
          null,
          null,
          null,
          null,
          null,
          null,
          null,
          null,
          null,
          null,
          null,
          null,
          null,
          null,
          null,
          null,
          null,
          null,
          null,
          null,
          null,
          null,
          null,
          null,
          null,
          null,
          null,
          null,
          null,
          null,
          null,
          null,
          null,
          null,
          null,
          null,
          null,
          null,
          null,
          null,
          null,
          null,
          null,
          null,
          null,
          null,
          null,
          null,
          null,
          null,
          null,
          null,
          null,
          null,
          null,
          null,
          null,
          null,
          null,
          null,
          null,
          null,
          null
         ],
         "type": "scatter",
         "x": [
          960,
          1420,
          980,
          1370,
          1370,
          1580,
          1385,
          1610,
          1420,
          1610,
          1580,
          1790,
          1610,
          1800,
          1610,
          1655,
          1655,
          1700,
          1700,
          1745,
          1790,
          2000,
          1800,
          1990,
          1970,
          2195,
          1990,
          2180,
          2000,
          2210,
          2180,
          2370,
          2195,
          2240,
          2210,
          2420,
          2240,
          2285,
          2285,
          2330,
          2330,
          2375,
          2370,
          2560,
          2375,
          2420,
          2420,
          2630,
          2420,
          2465,
          2465,
          2510,
          2560,
          2750,
          2630,
          2840,
          2735,
          2960,
          2750,
          2940,
          2840,
          3050,
          2940,
          3130,
          2960,
          3005,
          3040,
          3255,
          3050,
          3260,
          3130,
          3320,
          3255,
          3445,
          3260,
          3470,
          3400,
          3625,
          3625,
          3670,
          3880,
          4105,
          4105,
          4150,
          4150,
          4195,
          4405,
          4630,
          4840,
          5065,
          5065,
          5110,
          5725,
          5950,
          6310,
          6535
         ],
         "y": [
          2,
          2,
          3,
          3,
          3,
          3,
          0,
          0,
          2,
          2,
          3,
          3,
          2,
          2,
          0,
          0,
          0,
          0,
          0,
          0,
          3,
          3,
          2,
          2,
          0,
          0,
          2,
          2,
          3,
          3,
          2,
          2,
          0,
          0,
          3,
          3,
          0,
          0,
          0,
          0,
          0,
          0,
          2,
          2,
          0,
          0,
          3,
          3,
          0,
          0,
          0,
          0,
          2,
          2,
          3,
          3,
          0,
          0,
          2,
          2,
          3,
          3,
          2,
          2,
          0,
          0,
          1,
          1,
          3,
          3,
          2,
          2,
          1,
          1,
          3,
          3,
          0,
          0,
          0,
          0,
          0,
          0,
          0,
          0,
          0,
          0,
          0,
          0,
          0,
          0,
          0,
          0,
          0,
          0,
          0,
          0
         ]
        },
        {
         "legendgroup": "rgb(31, 119, 180)",
         "marker": {
          "color": "rgb(31, 119, 180)",
          "opacity": 0,
          "size": 1
         },
         "mode": "markers",
         "name": "",
         "showlegend": false,
         "text": [
          null,
          null,
          null,
          null,
          null,
          null,
          null,
          null,
          null,
          null,
          null,
          null,
          null,
          null,
          null,
          null,
          null,
          null,
          null,
          null,
          null,
          null,
          null,
          null,
          null,
          null,
          null,
          null,
          null,
          null,
          null,
          null,
          null,
          null,
          null,
          null,
          null,
          null,
          null,
          null,
          null,
          null,
          null,
          null,
          null,
          null,
          null,
          null,
          null,
          null,
          null,
          null,
          null,
          null,
          null,
          null,
          null,
          null,
          null,
          null
         ],
         "type": "scatter",
         "x": [
          0,
          140,
          0,
          120,
          120,
          150,
          120,
          240,
          140,
          280,
          150,
          180,
          240,
          360,
          280,
          420,
          360,
          480,
          420,
          560,
          480,
          600,
          505,
          675,
          560,
          700,
          600,
          720,
          675,
          705,
          700,
          840,
          705,
          735,
          720,
          840,
          840,
          980,
          840,
          960,
          1095,
          1265,
          1265,
          1295,
          1295,
          1325,
          1325,
          1355,
          1355,
          1385,
          3230,
          3400,
          3670,
          3880,
          4195,
          4405,
          4630,
          4840,
          5110,
          5320
         ],
         "y": [
          3,
          3,
          2,
          2,
          0,
          0,
          2,
          2,
          3,
          3,
          0,
          0,
          2,
          2,
          3,
          3,
          2,
          2,
          3,
          3,
          2,
          2,
          0,
          0,
          3,
          3,
          2,
          2,
          0,
          0,
          3,
          3,
          0,
          0,
          2,
          2,
          3,
          3,
          2,
          2,
          0,
          0,
          0,
          0,
          0,
          0,
          0,
          0,
          0,
          0,
          0,
          0,
          0,
          0,
          0,
          0,
          0,
          0,
          0,
          0
         ]
        },
        {
         "legendgroup": "rgb(44, 160, 44)",
         "marker": {
          "color": "rgb(44, 160, 44)",
          "opacity": 0,
          "size": 1
         },
         "mode": "markers",
         "name": "",
         "showlegend": false,
         "text": [
          null,
          null,
          null,
          null,
          null,
          null,
          null,
          null,
          null,
          null,
          null,
          null,
          null,
          null,
          null,
          null,
          null,
          null,
          null,
          null,
          null,
          null,
          null,
          null,
          null,
          null,
          null,
          null,
          null,
          null,
          null,
          null,
          null,
          null,
          null,
          null,
          null,
          null,
          null,
          null,
          null,
          null,
          null,
          null,
          null,
          null,
          null,
          null,
          null,
          null,
          null,
          null,
          null,
          null,
          null,
          null,
          null,
          null,
          null,
          null,
          null,
          null,
          null,
          null
         ],
         "type": "scatter",
         "x": [
          0,
          190,
          190,
          505,
          190,
          380,
          380,
          570,
          570,
          760,
          735,
          1050,
          760,
          950,
          950,
          1140,
          1050,
          1095,
          1140,
          1330,
          1330,
          1520,
          1520,
          1710,
          1710,
          1900,
          1745,
          1970,
          1900,
          2090,
          2090,
          2280,
          2280,
          2470,
          2470,
          2660,
          2510,
          2735,
          2660,
          2850,
          2850,
          3040,
          3005,
          3230,
          5320,
          5635,
          5635,
          5680,
          5680,
          5725,
          5950,
          6175,
          6175,
          6220,
          6220,
          6265,
          6265,
          6310,
          6535,
          6760,
          6760,
          6805,
          6805,
          6850
         ],
         "y": [
          1,
          1,
          0,
          0,
          1,
          1,
          1,
          1,
          1,
          1,
          0,
          0,
          1,
          1,
          1,
          1,
          0,
          0,
          1,
          1,
          1,
          1,
          1,
          1,
          1,
          1,
          0,
          0,
          1,
          1,
          1,
          1,
          1,
          1,
          1,
          1,
          0,
          0,
          1,
          1,
          1,
          1,
          0,
          0,
          0,
          0,
          0,
          0,
          0,
          0,
          0,
          0,
          0,
          0,
          0,
          0,
          0,
          0,
          0,
          0,
          0,
          0,
          0,
          0
         ]
        }
       ],
       "layout": {
        "autosize": false,
        "height": 400,
        "hovermode": "closest",
        "showlegend": true,
        "template": {
         "data": {
          "bar": [
           {
            "error_x": {
             "color": "#2a3f5f"
            },
            "error_y": {
             "color": "#2a3f5f"
            },
            "marker": {
             "line": {
              "color": "#E5ECF6",
              "width": 0.5
             },
             "pattern": {
              "fillmode": "overlay",
              "size": 10,
              "solidity": 0.2
             }
            },
            "type": "bar"
           }
          ],
          "barpolar": [
           {
            "marker": {
             "line": {
              "color": "#E5ECF6",
              "width": 0.5
             },
             "pattern": {
              "fillmode": "overlay",
              "size": 10,
              "solidity": 0.2
             }
            },
            "type": "barpolar"
           }
          ],
          "carpet": [
           {
            "aaxis": {
             "endlinecolor": "#2a3f5f",
             "gridcolor": "white",
             "linecolor": "white",
             "minorgridcolor": "white",
             "startlinecolor": "#2a3f5f"
            },
            "baxis": {
             "endlinecolor": "#2a3f5f",
             "gridcolor": "white",
             "linecolor": "white",
             "minorgridcolor": "white",
             "startlinecolor": "#2a3f5f"
            },
            "type": "carpet"
           }
          ],
          "choropleth": [
           {
            "colorbar": {
             "outlinewidth": 0,
             "ticks": ""
            },
            "type": "choropleth"
           }
          ],
          "contour": [
           {
            "colorbar": {
             "outlinewidth": 0,
             "ticks": ""
            },
            "colorscale": [
             [
              0,
              "#0d0887"
             ],
             [
              0.1111111111111111,
              "#46039f"
             ],
             [
              0.2222222222222222,
              "#7201a8"
             ],
             [
              0.3333333333333333,
              "#9c179e"
             ],
             [
              0.4444444444444444,
              "#bd3786"
             ],
             [
              0.5555555555555556,
              "#d8576b"
             ],
             [
              0.6666666666666666,
              "#ed7953"
             ],
             [
              0.7777777777777778,
              "#fb9f3a"
             ],
             [
              0.8888888888888888,
              "#fdca26"
             ],
             [
              1,
              "#f0f921"
             ]
            ],
            "type": "contour"
           }
          ],
          "contourcarpet": [
           {
            "colorbar": {
             "outlinewidth": 0,
             "ticks": ""
            },
            "type": "contourcarpet"
           }
          ],
          "heatmap": [
           {
            "colorbar": {
             "outlinewidth": 0,
             "ticks": ""
            },
            "colorscale": [
             [
              0,
              "#0d0887"
             ],
             [
              0.1111111111111111,
              "#46039f"
             ],
             [
              0.2222222222222222,
              "#7201a8"
             ],
             [
              0.3333333333333333,
              "#9c179e"
             ],
             [
              0.4444444444444444,
              "#bd3786"
             ],
             [
              0.5555555555555556,
              "#d8576b"
             ],
             [
              0.6666666666666666,
              "#ed7953"
             ],
             [
              0.7777777777777778,
              "#fb9f3a"
             ],
             [
              0.8888888888888888,
              "#fdca26"
             ],
             [
              1,
              "#f0f921"
             ]
            ],
            "type": "heatmap"
           }
          ],
          "heatmapgl": [
           {
            "colorbar": {
             "outlinewidth": 0,
             "ticks": ""
            },
            "colorscale": [
             [
              0,
              "#0d0887"
             ],
             [
              0.1111111111111111,
              "#46039f"
             ],
             [
              0.2222222222222222,
              "#7201a8"
             ],
             [
              0.3333333333333333,
              "#9c179e"
             ],
             [
              0.4444444444444444,
              "#bd3786"
             ],
             [
              0.5555555555555556,
              "#d8576b"
             ],
             [
              0.6666666666666666,
              "#ed7953"
             ],
             [
              0.7777777777777778,
              "#fb9f3a"
             ],
             [
              0.8888888888888888,
              "#fdca26"
             ],
             [
              1,
              "#f0f921"
             ]
            ],
            "type": "heatmapgl"
           }
          ],
          "histogram": [
           {
            "marker": {
             "pattern": {
              "fillmode": "overlay",
              "size": 10,
              "solidity": 0.2
             }
            },
            "type": "histogram"
           }
          ],
          "histogram2d": [
           {
            "colorbar": {
             "outlinewidth": 0,
             "ticks": ""
            },
            "colorscale": [
             [
              0,
              "#0d0887"
             ],
             [
              0.1111111111111111,
              "#46039f"
             ],
             [
              0.2222222222222222,
              "#7201a8"
             ],
             [
              0.3333333333333333,
              "#9c179e"
             ],
             [
              0.4444444444444444,
              "#bd3786"
             ],
             [
              0.5555555555555556,
              "#d8576b"
             ],
             [
              0.6666666666666666,
              "#ed7953"
             ],
             [
              0.7777777777777778,
              "#fb9f3a"
             ],
             [
              0.8888888888888888,
              "#fdca26"
             ],
             [
              1,
              "#f0f921"
             ]
            ],
            "type": "histogram2d"
           }
          ],
          "histogram2dcontour": [
           {
            "colorbar": {
             "outlinewidth": 0,
             "ticks": ""
            },
            "colorscale": [
             [
              0,
              "#0d0887"
             ],
             [
              0.1111111111111111,
              "#46039f"
             ],
             [
              0.2222222222222222,
              "#7201a8"
             ],
             [
              0.3333333333333333,
              "#9c179e"
             ],
             [
              0.4444444444444444,
              "#bd3786"
             ],
             [
              0.5555555555555556,
              "#d8576b"
             ],
             [
              0.6666666666666666,
              "#ed7953"
             ],
             [
              0.7777777777777778,
              "#fb9f3a"
             ],
             [
              0.8888888888888888,
              "#fdca26"
             ],
             [
              1,
              "#f0f921"
             ]
            ],
            "type": "histogram2dcontour"
           }
          ],
          "mesh3d": [
           {
            "colorbar": {
             "outlinewidth": 0,
             "ticks": ""
            },
            "type": "mesh3d"
           }
          ],
          "parcoords": [
           {
            "line": {
             "colorbar": {
              "outlinewidth": 0,
              "ticks": ""
             }
            },
            "type": "parcoords"
           }
          ],
          "pie": [
           {
            "automargin": true,
            "type": "pie"
           }
          ],
          "scatter": [
           {
            "fillpattern": {
             "fillmode": "overlay",
             "size": 10,
             "solidity": 0.2
            },
            "type": "scatter"
           }
          ],
          "scatter3d": [
           {
            "line": {
             "colorbar": {
              "outlinewidth": 0,
              "ticks": ""
             }
            },
            "marker": {
             "colorbar": {
              "outlinewidth": 0,
              "ticks": ""
             }
            },
            "type": "scatter3d"
           }
          ],
          "scattercarpet": [
           {
            "marker": {
             "colorbar": {
              "outlinewidth": 0,
              "ticks": ""
             }
            },
            "type": "scattercarpet"
           }
          ],
          "scattergeo": [
           {
            "marker": {
             "colorbar": {
              "outlinewidth": 0,
              "ticks": ""
             }
            },
            "type": "scattergeo"
           }
          ],
          "scattergl": [
           {
            "marker": {
             "colorbar": {
              "outlinewidth": 0,
              "ticks": ""
             }
            },
            "type": "scattergl"
           }
          ],
          "scattermapbox": [
           {
            "marker": {
             "colorbar": {
              "outlinewidth": 0,
              "ticks": ""
             }
            },
            "type": "scattermapbox"
           }
          ],
          "scatterpolar": [
           {
            "marker": {
             "colorbar": {
              "outlinewidth": 0,
              "ticks": ""
             }
            },
            "type": "scatterpolar"
           }
          ],
          "scatterpolargl": [
           {
            "marker": {
             "colorbar": {
              "outlinewidth": 0,
              "ticks": ""
             }
            },
            "type": "scatterpolargl"
           }
          ],
          "scatterternary": [
           {
            "marker": {
             "colorbar": {
              "outlinewidth": 0,
              "ticks": ""
             }
            },
            "type": "scatterternary"
           }
          ],
          "surface": [
           {
            "colorbar": {
             "outlinewidth": 0,
             "ticks": ""
            },
            "colorscale": [
             [
              0,
              "#0d0887"
             ],
             [
              0.1111111111111111,
              "#46039f"
             ],
             [
              0.2222222222222222,
              "#7201a8"
             ],
             [
              0.3333333333333333,
              "#9c179e"
             ],
             [
              0.4444444444444444,
              "#bd3786"
             ],
             [
              0.5555555555555556,
              "#d8576b"
             ],
             [
              0.6666666666666666,
              "#ed7953"
             ],
             [
              0.7777777777777778,
              "#fb9f3a"
             ],
             [
              0.8888888888888888,
              "#fdca26"
             ],
             [
              1,
              "#f0f921"
             ]
            ],
            "type": "surface"
           }
          ],
          "table": [
           {
            "cells": {
             "fill": {
              "color": "#EBF0F8"
             },
             "line": {
              "color": "white"
             }
            },
            "header": {
             "fill": {
              "color": "#C8D4E3"
             },
             "line": {
              "color": "white"
             }
            },
            "type": "table"
           }
          ]
         },
         "layout": {
          "annotationdefaults": {
           "arrowcolor": "#2a3f5f",
           "arrowhead": 0,
           "arrowwidth": 1
          },
          "autotypenumbers": "strict",
          "coloraxis": {
           "colorbar": {
            "outlinewidth": 0,
            "ticks": ""
           }
          },
          "colorscale": {
           "diverging": [
            [
             0,
             "#8e0152"
            ],
            [
             0.1,
             "#c51b7d"
            ],
            [
             0.2,
             "#de77ae"
            ],
            [
             0.3,
             "#f1b6da"
            ],
            [
             0.4,
             "#fde0ef"
            ],
            [
             0.5,
             "#f7f7f7"
            ],
            [
             0.6,
             "#e6f5d0"
            ],
            [
             0.7,
             "#b8e186"
            ],
            [
             0.8,
             "#7fbc41"
            ],
            [
             0.9,
             "#4d9221"
            ],
            [
             1,
             "#276419"
            ]
           ],
           "sequential": [
            [
             0,
             "#0d0887"
            ],
            [
             0.1111111111111111,
             "#46039f"
            ],
            [
             0.2222222222222222,
             "#7201a8"
            ],
            [
             0.3333333333333333,
             "#9c179e"
            ],
            [
             0.4444444444444444,
             "#bd3786"
            ],
            [
             0.5555555555555556,
             "#d8576b"
            ],
            [
             0.6666666666666666,
             "#ed7953"
            ],
            [
             0.7777777777777778,
             "#fb9f3a"
            ],
            [
             0.8888888888888888,
             "#fdca26"
            ],
            [
             1,
             "#f0f921"
            ]
           ],
           "sequentialminus": [
            [
             0,
             "#0d0887"
            ],
            [
             0.1111111111111111,
             "#46039f"
            ],
            [
             0.2222222222222222,
             "#7201a8"
            ],
            [
             0.3333333333333333,
             "#9c179e"
            ],
            [
             0.4444444444444444,
             "#bd3786"
            ],
            [
             0.5555555555555556,
             "#d8576b"
            ],
            [
             0.6666666666666666,
             "#ed7953"
            ],
            [
             0.7777777777777778,
             "#fb9f3a"
            ],
            [
             0.8888888888888888,
             "#fdca26"
            ],
            [
             1,
             "#f0f921"
            ]
           ]
          },
          "colorway": [
           "#636efa",
           "#EF553B",
           "#00cc96",
           "#ab63fa",
           "#FFA15A",
           "#19d3f3",
           "#FF6692",
           "#B6E880",
           "#FF97FF",
           "#FECB52"
          ],
          "font": {
           "color": "#2a3f5f"
          },
          "geo": {
           "bgcolor": "white",
           "lakecolor": "white",
           "landcolor": "#E5ECF6",
           "showlakes": true,
           "showland": true,
           "subunitcolor": "white"
          },
          "hoverlabel": {
           "align": "left"
          },
          "hovermode": "closest",
          "mapbox": {
           "style": "light"
          },
          "paper_bgcolor": "white",
          "plot_bgcolor": "#E5ECF6",
          "polar": {
           "angularaxis": {
            "gridcolor": "white",
            "linecolor": "white",
            "ticks": ""
           },
           "bgcolor": "#E5ECF6",
           "radialaxis": {
            "gridcolor": "white",
            "linecolor": "white",
            "ticks": ""
           }
          },
          "scene": {
           "xaxis": {
            "backgroundcolor": "#E5ECF6",
            "gridcolor": "white",
            "gridwidth": 2,
            "linecolor": "white",
            "showbackground": true,
            "ticks": "",
            "zerolinecolor": "white"
           },
           "yaxis": {
            "backgroundcolor": "#E5ECF6",
            "gridcolor": "white",
            "gridwidth": 2,
            "linecolor": "white",
            "showbackground": true,
            "ticks": "",
            "zerolinecolor": "white"
           },
           "zaxis": {
            "backgroundcolor": "#E5ECF6",
            "gridcolor": "white",
            "gridwidth": 2,
            "linecolor": "white",
            "showbackground": true,
            "ticks": "",
            "zerolinecolor": "white"
           }
          },
          "shapedefaults": {
           "line": {
            "color": "#2a3f5f"
           }
          },
          "ternary": {
           "aaxis": {
            "gridcolor": "white",
            "linecolor": "white",
            "ticks": ""
           },
           "baxis": {
            "gridcolor": "white",
            "linecolor": "white",
            "ticks": ""
           },
           "bgcolor": "#E5ECF6",
           "caxis": {
            "gridcolor": "white",
            "linecolor": "white",
            "ticks": ""
           }
          },
          "title": {
           "x": 0.05
          },
          "xaxis": {
           "automargin": true,
           "gridcolor": "white",
           "linecolor": "white",
           "ticks": "",
           "title": {
            "standoff": 15
           },
           "zerolinecolor": "white",
           "zerolinewidth": 2
          },
          "yaxis": {
           "automargin": true,
           "gridcolor": "white",
           "linecolor": "white",
           "ticks": "",
           "title": {
            "standoff": 15
           },
           "zerolinecolor": "white",
           "zerolinewidth": 2
          }
         }
        },
        "title": {
         "text": "Gantt Chart"
        },
        "width": 800,
        "xaxis": {
         "rangeselector": {
          "buttons": [
           {
            "count": 7,
            "label": "1w",
            "step": "day",
            "stepmode": "backward"
           },
           {
            "count": 1,
            "label": "1m",
            "step": "month",
            "stepmode": "backward"
           },
           {
            "count": 6,
            "label": "6m",
            "step": "month",
            "stepmode": "backward"
           },
           {
            "count": 1,
            "label": "YTD",
            "step": "year",
            "stepmode": "todate"
           },
           {
            "count": 1,
            "label": "1y",
            "step": "year",
            "stepmode": "backward"
           },
           {
            "step": "all"
           }
          ]
         },
         "showgrid": false,
         "type": "linear",
         "zeroline": false
        },
        "yaxis": {
         "autorange": false,
         "range": [
          -1,
          5
         ],
         "showgrid": false,
         "ticktext": [
          "RES_4",
          "RES_3",
          "RES_2",
          "RES_1"
         ],
         "tickvals": [
          0,
          1,
          2,
          3
         ],
         "zeroline": false
        }
       }
      },
      "text/html": [
       "<div>                            <div id=\"175ff745-fe2b-4fc3-9af1-815ab95b44ab\" class=\"plotly-graph-div\" style=\"height:400px; width:800px;\"></div>            <script type=\"text/javascript\">                require([\"plotly\"], function(Plotly) {                    window.PLOTLYENV=window.PLOTLYENV || {};                                    if (document.getElementById(\"175ff745-fe2b-4fc3-9af1-815ab95b44ab\")) {                    Plotly.newPlot(                        \"175ff745-fe2b-4fc3-9af1-815ab95b44ab\",                        [{\"fill\":\"toself\",\"fillcolor\":\"rgb(255, 127, 14)\",\"hoverinfo\":\"name\",\"legendgroup\":\"rgb(255, 127, 14)\",\"mode\":\"none\",\"name\":\"CEREAL_2\",\"showlegend\":true,\"x\":[960.0,1420.0,1420.0,960.0,960.0,980.0,1370.0,1370.0,980.0,980.0,1370.0,1580.0,1580.0,1370.0,1370.0,1385.0,1610.0,1610.0,1385.0,1385.0,1420.0,1610.0,1610.0,1420.0,1420.0,1580.0,1790.0,1790.0,1580.0,1580.0,1610.0,1800.0,1800.0,1610.0,1610.0,1610.0,1655.0,1655.0,1610.0,1610.0,1655.0,1700.0,1700.0,1655.0,1655.0,1700.0,1745.0,1745.0,1700.0,1700.0,1790.0,2000.0,2000.0,1790.0,1790.0,1800.0,1990.0,1990.0,1800.0,1800.0,1970.0,2195.0,2195.0,1970.0,1970.0,1990.0,2180.0,2180.0,1990.0,1990.0,2000.0,2210.0,2210.0,2000.0,2000.0,2180.0,2370.0,2370.0,2180.0,2180.0,2195.0,2240.0,2240.0,2195.0,2195.0,2210.0,2420.0,2420.0,2210.0,2210.0,2240.0,2285.0,2285.0,2240.0,2240.0,2285.0,2330.0,2330.0,2285.0,2285.0,2330.0,2375.0,2375.0,2330.0,2330.0,2370.0,2560.0,2560.0,2370.0,2370.0,2375.0,2420.0,2420.0,2375.0,2375.0,2420.0,2630.0,2630.0,2420.0,2420.0,2420.0,2465.0,2465.0,2420.0,2420.0,2465.0,2510.0,2510.0,2465.0,2465.0,2560.0,2750.0,2750.0,2560.0,2560.0,2630.0,2840.0,2840.0,2630.0,2630.0,2735.0,2960.0,2960.0,2735.0,2735.0,2750.0,2940.0,2940.0,2750.0,2750.0,2840.0,3050.0,3050.0,2840.0,2840.0,2940.0,3130.0,3130.0,2940.0,2940.0,2960.0,3005.0,3005.0,2960.0,2960.0,3040.0,3255.0,3255.0,3040.0,3040.0,3050.0,3260.0,3260.0,3050.0,3050.0,3130.0,3320.0,3320.0,3130.0,3130.0,3255.0,3445.0,3445.0,3255.0,3255.0,3260.0,3470.0,3470.0,3260.0,3260.0,3400.0,3625.0,3625.0,3400.0,3400.0,3625.0,3670.0,3670.0,3625.0,3625.0,3880.0,4105.0,4105.0,3880.0,3880.0,4105.0,4150.0,4150.0,4105.0,4105.0,4150.0,4195.0,4195.0,4150.0,4150.0,4405.0,4630.0,4630.0,4405.0,4405.0,4840.0,5065.0,5065.0,4840.0,4840.0,5065.0,5110.0,5110.0,5065.0,5065.0,5725.0,5950.0,5950.0,5725.0,5725.0,6310.0,6535.0,6535.0,6310.0],\"y\":[1.6,1.6,2.4,2.4,null,2.6,2.6,3.4,3.4,null,2.6,2.6,3.4,3.4,null,-0.4,-0.4,0.4,0.4,null,1.6,1.6,2.4,2.4,null,2.6,2.6,3.4,3.4,null,1.6,1.6,2.4,2.4,null,-0.4,-0.4,0.4,0.4,null,-0.4,-0.4,0.4,0.4,null,-0.4,-0.4,0.4,0.4,null,2.6,2.6,3.4,3.4,null,1.6,1.6,2.4,2.4,null,-0.4,-0.4,0.4,0.4,null,1.6,1.6,2.4,2.4,null,2.6,2.6,3.4,3.4,null,1.6,1.6,2.4,2.4,null,-0.4,-0.4,0.4,0.4,null,2.6,2.6,3.4,3.4,null,-0.4,-0.4,0.4,0.4,null,-0.4,-0.4,0.4,0.4,null,-0.4,-0.4,0.4,0.4,null,1.6,1.6,2.4,2.4,null,-0.4,-0.4,0.4,0.4,null,2.6,2.6,3.4,3.4,null,-0.4,-0.4,0.4,0.4,null,-0.4,-0.4,0.4,0.4,null,1.6,1.6,2.4,2.4,null,2.6,2.6,3.4,3.4,null,-0.4,-0.4,0.4,0.4,null,1.6,1.6,2.4,2.4,null,2.6,2.6,3.4,3.4,null,1.6,1.6,2.4,2.4,null,-0.4,-0.4,0.4,0.4,null,0.6,0.6,1.4,1.4,null,2.6,2.6,3.4,3.4,null,1.6,1.6,2.4,2.4,null,0.6,0.6,1.4,1.4,null,2.6,2.6,3.4,3.4,null,-0.4,-0.4,0.4,0.4,null,-0.4,-0.4,0.4,0.4,null,-0.4,-0.4,0.4,0.4,null,-0.4,-0.4,0.4,0.4,null,-0.4,-0.4,0.4,0.4,null,-0.4,-0.4,0.4,0.4,null,-0.4,-0.4,0.4,0.4,null,-0.4,-0.4,0.4,0.4,null,-0.4,-0.4,0.4,0.4,null,-0.4,-0.4,0.4,0.4],\"type\":\"scatter\"},{\"fill\":\"toself\",\"fillcolor\":\"rgb(31, 119, 180)\",\"hoverinfo\":\"name\",\"legendgroup\":\"rgb(31, 119, 180)\",\"mode\":\"none\",\"name\":\"CEREAL_1\",\"showlegend\":true,\"x\":[0,140.0,140.0,0,0,0,120.0,120.0,0,0,120.0,150.0,150.0,120.0,120.0,120.0,240.0,240.0,120.0,120.0,140.0,280.0,280.0,140.0,140.0,150.0,180.0,180.0,150.0,150.0,240.0,360.0,360.0,240.0,240.0,280.0,420.0,420.0,280.0,280.0,360.0,480.0,480.0,360.0,360.0,420.0,560.0,560.0,420.0,420.0,480.0,600.0,600.0,480.0,480.0,505.0,675.0,675.0,505.0,505.0,560.0,700.0,700.0,560.0,560.0,600.0,720.0,720.0,600.0,600.0,675.0,705.0,705.0,675.0,675.0,700.0,840.0,840.0,700.0,700.0,705.0,735.0,735.0,705.0,705.0,720.0,840.0,840.0,720.0,720.0,840.0,980.0,980.0,840.0,840.0,840.0,960.0,960.0,840.0,840.0,1095.0,1265.0,1265.0,1095.0,1095.0,1265.0,1295.0,1295.0,1265.0,1265.0,1295.0,1325.0,1325.0,1295.0,1295.0,1325.0,1355.0,1355.0,1325.0,1325.0,1355.0,1385.0,1385.0,1355.0,1355.0,3230.0,3400.0,3400.0,3230.0,3230.0,3670.0,3880.0,3880.0,3670.0,3670.0,4195.0,4405.0,4405.0,4195.0,4195.0,4630.0,4840.0,4840.0,4630.0,4630.0,5110.0,5320.0,5320.0,5110.0],\"y\":[2.6,2.6,3.4,3.4,null,1.6,1.6,2.4,2.4,null,-0.4,-0.4,0.4,0.4,null,1.6,1.6,2.4,2.4,null,2.6,2.6,3.4,3.4,null,-0.4,-0.4,0.4,0.4,null,1.6,1.6,2.4,2.4,null,2.6,2.6,3.4,3.4,null,1.6,1.6,2.4,2.4,null,2.6,2.6,3.4,3.4,null,1.6,1.6,2.4,2.4,null,-0.4,-0.4,0.4,0.4,null,2.6,2.6,3.4,3.4,null,1.6,1.6,2.4,2.4,null,-0.4,-0.4,0.4,0.4,null,2.6,2.6,3.4,3.4,null,-0.4,-0.4,0.4,0.4,null,1.6,1.6,2.4,2.4,null,2.6,2.6,3.4,3.4,null,1.6,1.6,2.4,2.4,null,-0.4,-0.4,0.4,0.4,null,-0.4,-0.4,0.4,0.4,null,-0.4,-0.4,0.4,0.4,null,-0.4,-0.4,0.4,0.4,null,-0.4,-0.4,0.4,0.4,null,-0.4,-0.4,0.4,0.4,null,-0.4,-0.4,0.4,0.4,null,-0.4,-0.4,0.4,0.4,null,-0.4,-0.4,0.4,0.4,null,-0.4,-0.4,0.4,0.4],\"type\":\"scatter\"},{\"fill\":\"toself\",\"fillcolor\":\"rgb(44, 160, 44)\",\"hoverinfo\":\"name\",\"legendgroup\":\"rgb(44, 160, 44)\",\"mode\":\"none\",\"name\":\"CEREAL_3\",\"showlegend\":true,\"x\":[0,190.0,190.0,0,0,190.0,505.0,505.0,190.0,190.0,190.0,380.0,380.0,190.0,190.0,380.0,570.0,570.0,380.0,380.0,570.0,760.0,760.0,570.0,570.0,735.0,1050.0,1050.0,735.0,735.0,760.0,950.0,950.0,760.0,760.0,950.0,1140.0,1140.0,950.0,950.0,1050.0,1095.0,1095.0,1050.0,1050.0,1140.0,1330.0,1330.0,1140.0,1140.0,1330.0,1520.0,1520.0,1330.0,1330.0,1520.0,1710.0,1710.0,1520.0,1520.0,1710.0,1900.0,1900.0,1710.0,1710.0,1745.0,1970.0,1970.0,1745.0,1745.0,1900.0,2090.0,2090.0,1900.0,1900.0,2090.0,2280.0,2280.0,2090.0,2090.0,2280.0,2470.0,2470.0,2280.0,2280.0,2470.0,2660.0,2660.0,2470.0,2470.0,2510.0,2735.0,2735.0,2510.0,2510.0,2660.0,2850.0,2850.0,2660.0,2660.0,2850.0,3040.0,3040.0,2850.0,2850.0,3005.0,3230.0,3230.0,3005.0,3005.0,5320.0,5635.0,5635.0,5320.0,5320.0,5635.0,5680.0,5680.0,5635.0,5635.0,5680.0,5725.0,5725.0,5680.0,5680.0,5950.0,6175.0,6175.0,5950.0,5950.0,6175.0,6220.0,6220.0,6175.0,6175.0,6220.0,6265.0,6265.0,6220.0,6220.0,6265.0,6310.0,6310.0,6265.0,6265.0,6535.0,6760.0,6760.0,6535.0,6535.0,6760.0,6805.0,6805.0,6760.0,6760.0,6805.0,6850.0,6850.0,6805.0],\"y\":[0.6,0.6,1.4,1.4,null,-0.4,-0.4,0.4,0.4,null,0.6,0.6,1.4,1.4,null,0.6,0.6,1.4,1.4,null,0.6,0.6,1.4,1.4,null,-0.4,-0.4,0.4,0.4,null,0.6,0.6,1.4,1.4,null,0.6,0.6,1.4,1.4,null,-0.4,-0.4,0.4,0.4,null,0.6,0.6,1.4,1.4,null,0.6,0.6,1.4,1.4,null,0.6,0.6,1.4,1.4,null,0.6,0.6,1.4,1.4,null,-0.4,-0.4,0.4,0.4,null,0.6,0.6,1.4,1.4,null,0.6,0.6,1.4,1.4,null,0.6,0.6,1.4,1.4,null,0.6,0.6,1.4,1.4,null,-0.4,-0.4,0.4,0.4,null,0.6,0.6,1.4,1.4,null,0.6,0.6,1.4,1.4,null,-0.4,-0.4,0.4,0.4,null,-0.4,-0.4,0.4,0.4,null,-0.4,-0.4,0.4,0.4,null,-0.4,-0.4,0.4,0.4,null,-0.4,-0.4,0.4,0.4,null,-0.4,-0.4,0.4,0.4,null,-0.4,-0.4,0.4,0.4,null,-0.4,-0.4,0.4,0.4,null,-0.4,-0.4,0.4,0.4,null,-0.4,-0.4,0.4,0.4,null,-0.4,-0.4,0.4,0.4],\"type\":\"scatter\"},{\"legendgroup\":\"rgb(255, 127, 14)\",\"marker\":{\"color\":\"rgb(255, 127, 14)\",\"opacity\":0,\"size\":1},\"mode\":\"markers\",\"name\":\"\",\"showlegend\":false,\"text\":[null,null,null,null,null,null,null,null,null,null,null,null,null,null,null,null,null,null,null,null,null,null,null,null,null,null,null,null,null,null,null,null,null,null,null,null,null,null,null,null,null,null,null,null,null,null,null,null,null,null,null,null,null,null,null,null,null,null,null,null,null,null,null,null,null,null,null,null,null,null,null,null,null,null,null,null,null,null,null,null,null,null,null,null,null,null,null,null,null,null,null,null,null,null,null,null],\"x\":[960.0,1420.0,980.0,1370.0,1370.0,1580.0,1385.0,1610.0,1420.0,1610.0,1580.0,1790.0,1610.0,1800.0,1610.0,1655.0,1655.0,1700.0,1700.0,1745.0,1790.0,2000.0,1800.0,1990.0,1970.0,2195.0,1990.0,2180.0,2000.0,2210.0,2180.0,2370.0,2195.0,2240.0,2210.0,2420.0,2240.0,2285.0,2285.0,2330.0,2330.0,2375.0,2370.0,2560.0,2375.0,2420.0,2420.0,2630.0,2420.0,2465.0,2465.0,2510.0,2560.0,2750.0,2630.0,2840.0,2735.0,2960.0,2750.0,2940.0,2840.0,3050.0,2940.0,3130.0,2960.0,3005.0,3040.0,3255.0,3050.0,3260.0,3130.0,3320.0,3255.0,3445.0,3260.0,3470.0,3400.0,3625.0,3625.0,3670.0,3880.0,4105.0,4105.0,4150.0,4150.0,4195.0,4405.0,4630.0,4840.0,5065.0,5065.0,5110.0,5725.0,5950.0,6310.0,6535.0],\"y\":[2,2,3,3,3,3,0,0,2,2,3,3,2,2,0,0,0,0,0,0,3,3,2,2,0,0,2,2,3,3,2,2,0,0,3,3,0,0,0,0,0,0,2,2,0,0,3,3,0,0,0,0,2,2,3,3,0,0,2,2,3,3,2,2,0,0,1,1,3,3,2,2,1,1,3,3,0,0,0,0,0,0,0,0,0,0,0,0,0,0,0,0,0,0,0,0],\"type\":\"scatter\"},{\"legendgroup\":\"rgb(31, 119, 180)\",\"marker\":{\"color\":\"rgb(31, 119, 180)\",\"opacity\":0,\"size\":1},\"mode\":\"markers\",\"name\":\"\",\"showlegend\":false,\"text\":[null,null,null,null,null,null,null,null,null,null,null,null,null,null,null,null,null,null,null,null,null,null,null,null,null,null,null,null,null,null,null,null,null,null,null,null,null,null,null,null,null,null,null,null,null,null,null,null,null,null,null,null,null,null,null,null,null,null,null,null],\"x\":[0,140.0,0,120.0,120.0,150.0,120.0,240.0,140.0,280.0,150.0,180.0,240.0,360.0,280.0,420.0,360.0,480.0,420.0,560.0,480.0,600.0,505.0,675.0,560.0,700.0,600.0,720.0,675.0,705.0,700.0,840.0,705.0,735.0,720.0,840.0,840.0,980.0,840.0,960.0,1095.0,1265.0,1265.0,1295.0,1295.0,1325.0,1325.0,1355.0,1355.0,1385.0,3230.0,3400.0,3670.0,3880.0,4195.0,4405.0,4630.0,4840.0,5110.0,5320.0],\"y\":[3,3,2,2,0,0,2,2,3,3,0,0,2,2,3,3,2,2,3,3,2,2,0,0,3,3,2,2,0,0,3,3,0,0,2,2,3,3,2,2,0,0,0,0,0,0,0,0,0,0,0,0,0,0,0,0,0,0,0,0],\"type\":\"scatter\"},{\"legendgroup\":\"rgb(44, 160, 44)\",\"marker\":{\"color\":\"rgb(44, 160, 44)\",\"opacity\":0,\"size\":1},\"mode\":\"markers\",\"name\":\"\",\"showlegend\":false,\"text\":[null,null,null,null,null,null,null,null,null,null,null,null,null,null,null,null,null,null,null,null,null,null,null,null,null,null,null,null,null,null,null,null,null,null,null,null,null,null,null,null,null,null,null,null,null,null,null,null,null,null,null,null,null,null,null,null,null,null,null,null,null,null,null,null],\"x\":[0,190.0,190.0,505.0,190.0,380.0,380.0,570.0,570.0,760.0,735.0,1050.0,760.0,950.0,950.0,1140.0,1050.0,1095.0,1140.0,1330.0,1330.0,1520.0,1520.0,1710.0,1710.0,1900.0,1745.0,1970.0,1900.0,2090.0,2090.0,2280.0,2280.0,2470.0,2470.0,2660.0,2510.0,2735.0,2660.0,2850.0,2850.0,3040.0,3005.0,3230.0,5320.0,5635.0,5635.0,5680.0,5680.0,5725.0,5950.0,6175.0,6175.0,6220.0,6220.0,6265.0,6265.0,6310.0,6535.0,6760.0,6760.0,6805.0,6805.0,6850.0],\"y\":[1,1,0,0,1,1,1,1,1,1,0,0,1,1,1,1,0,0,1,1,1,1,1,1,1,1,0,0,1,1,1,1,1,1,1,1,0,0,1,1,1,1,0,0,0,0,0,0,0,0,0,0,0,0,0,0,0,0,0,0,0,0,0,0],\"type\":\"scatter\"}],                        {\"height\":400,\"hovermode\":\"closest\",\"showlegend\":true,\"title\":{\"text\":\"Gantt Chart\"},\"xaxis\":{\"rangeselector\":{\"buttons\":[{\"count\":7,\"label\":\"1w\",\"step\":\"day\",\"stepmode\":\"backward\"},{\"count\":1,\"label\":\"1m\",\"step\":\"month\",\"stepmode\":\"backward\"},{\"count\":6,\"label\":\"6m\",\"step\":\"month\",\"stepmode\":\"backward\"},{\"count\":1,\"label\":\"YTD\",\"step\":\"year\",\"stepmode\":\"todate\"},{\"count\":1,\"label\":\"1y\",\"step\":\"year\",\"stepmode\":\"backward\"},{\"step\":\"all\"}]},\"showgrid\":false,\"type\":\"linear\",\"zeroline\":false},\"yaxis\":{\"autorange\":false,\"range\":[-1,5],\"showgrid\":false,\"ticktext\":[\"RES_4\",\"RES_3\",\"RES_2\",\"RES_1\"],\"tickvals\":[0,1,2,3],\"zeroline\":false},\"template\":{\"data\":{\"histogram2dcontour\":[{\"type\":\"histogram2dcontour\",\"colorbar\":{\"outlinewidth\":0,\"ticks\":\"\"},\"colorscale\":[[0.0,\"#0d0887\"],[0.1111111111111111,\"#46039f\"],[0.2222222222222222,\"#7201a8\"],[0.3333333333333333,\"#9c179e\"],[0.4444444444444444,\"#bd3786\"],[0.5555555555555556,\"#d8576b\"],[0.6666666666666666,\"#ed7953\"],[0.7777777777777778,\"#fb9f3a\"],[0.8888888888888888,\"#fdca26\"],[1.0,\"#f0f921\"]]}],\"choropleth\":[{\"type\":\"choropleth\",\"colorbar\":{\"outlinewidth\":0,\"ticks\":\"\"}}],\"histogram2d\":[{\"type\":\"histogram2d\",\"colorbar\":{\"outlinewidth\":0,\"ticks\":\"\"},\"colorscale\":[[0.0,\"#0d0887\"],[0.1111111111111111,\"#46039f\"],[0.2222222222222222,\"#7201a8\"],[0.3333333333333333,\"#9c179e\"],[0.4444444444444444,\"#bd3786\"],[0.5555555555555556,\"#d8576b\"],[0.6666666666666666,\"#ed7953\"],[0.7777777777777778,\"#fb9f3a\"],[0.8888888888888888,\"#fdca26\"],[1.0,\"#f0f921\"]]}],\"heatmap\":[{\"type\":\"heatmap\",\"colorbar\":{\"outlinewidth\":0,\"ticks\":\"\"},\"colorscale\":[[0.0,\"#0d0887\"],[0.1111111111111111,\"#46039f\"],[0.2222222222222222,\"#7201a8\"],[0.3333333333333333,\"#9c179e\"],[0.4444444444444444,\"#bd3786\"],[0.5555555555555556,\"#d8576b\"],[0.6666666666666666,\"#ed7953\"],[0.7777777777777778,\"#fb9f3a\"],[0.8888888888888888,\"#fdca26\"],[1.0,\"#f0f921\"]]}],\"heatmapgl\":[{\"type\":\"heatmapgl\",\"colorbar\":{\"outlinewidth\":0,\"ticks\":\"\"},\"colorscale\":[[0.0,\"#0d0887\"],[0.1111111111111111,\"#46039f\"],[0.2222222222222222,\"#7201a8\"],[0.3333333333333333,\"#9c179e\"],[0.4444444444444444,\"#bd3786\"],[0.5555555555555556,\"#d8576b\"],[0.6666666666666666,\"#ed7953\"],[0.7777777777777778,\"#fb9f3a\"],[0.8888888888888888,\"#fdca26\"],[1.0,\"#f0f921\"]]}],\"contourcarpet\":[{\"type\":\"contourcarpet\",\"colorbar\":{\"outlinewidth\":0,\"ticks\":\"\"}}],\"contour\":[{\"type\":\"contour\",\"colorbar\":{\"outlinewidth\":0,\"ticks\":\"\"},\"colorscale\":[[0.0,\"#0d0887\"],[0.1111111111111111,\"#46039f\"],[0.2222222222222222,\"#7201a8\"],[0.3333333333333333,\"#9c179e\"],[0.4444444444444444,\"#bd3786\"],[0.5555555555555556,\"#d8576b\"],[0.6666666666666666,\"#ed7953\"],[0.7777777777777778,\"#fb9f3a\"],[0.8888888888888888,\"#fdca26\"],[1.0,\"#f0f921\"]]}],\"surface\":[{\"type\":\"surface\",\"colorbar\":{\"outlinewidth\":0,\"ticks\":\"\"},\"colorscale\":[[0.0,\"#0d0887\"],[0.1111111111111111,\"#46039f\"],[0.2222222222222222,\"#7201a8\"],[0.3333333333333333,\"#9c179e\"],[0.4444444444444444,\"#bd3786\"],[0.5555555555555556,\"#d8576b\"],[0.6666666666666666,\"#ed7953\"],[0.7777777777777778,\"#fb9f3a\"],[0.8888888888888888,\"#fdca26\"],[1.0,\"#f0f921\"]]}],\"mesh3d\":[{\"type\":\"mesh3d\",\"colorbar\":{\"outlinewidth\":0,\"ticks\":\"\"}}],\"scatter\":[{\"fillpattern\":{\"fillmode\":\"overlay\",\"size\":10,\"solidity\":0.2},\"type\":\"scatter\"}],\"parcoords\":[{\"type\":\"parcoords\",\"line\":{\"colorbar\":{\"outlinewidth\":0,\"ticks\":\"\"}}}],\"scatterpolargl\":[{\"type\":\"scatterpolargl\",\"marker\":{\"colorbar\":{\"outlinewidth\":0,\"ticks\":\"\"}}}],\"bar\":[{\"error_x\":{\"color\":\"#2a3f5f\"},\"error_y\":{\"color\":\"#2a3f5f\"},\"marker\":{\"line\":{\"color\":\"#E5ECF6\",\"width\":0.5},\"pattern\":{\"fillmode\":\"overlay\",\"size\":10,\"solidity\":0.2}},\"type\":\"bar\"}],\"scattergeo\":[{\"type\":\"scattergeo\",\"marker\":{\"colorbar\":{\"outlinewidth\":0,\"ticks\":\"\"}}}],\"scatterpolar\":[{\"type\":\"scatterpolar\",\"marker\":{\"colorbar\":{\"outlinewidth\":0,\"ticks\":\"\"}}}],\"histogram\":[{\"marker\":{\"pattern\":{\"fillmode\":\"overlay\",\"size\":10,\"solidity\":0.2}},\"type\":\"histogram\"}],\"scattergl\":[{\"type\":\"scattergl\",\"marker\":{\"colorbar\":{\"outlinewidth\":0,\"ticks\":\"\"}}}],\"scatter3d\":[{\"type\":\"scatter3d\",\"line\":{\"colorbar\":{\"outlinewidth\":0,\"ticks\":\"\"}},\"marker\":{\"colorbar\":{\"outlinewidth\":0,\"ticks\":\"\"}}}],\"scattermapbox\":[{\"type\":\"scattermapbox\",\"marker\":{\"colorbar\":{\"outlinewidth\":0,\"ticks\":\"\"}}}],\"scatterternary\":[{\"type\":\"scatterternary\",\"marker\":{\"colorbar\":{\"outlinewidth\":0,\"ticks\":\"\"}}}],\"scattercarpet\":[{\"type\":\"scattercarpet\",\"marker\":{\"colorbar\":{\"outlinewidth\":0,\"ticks\":\"\"}}}],\"carpet\":[{\"aaxis\":{\"endlinecolor\":\"#2a3f5f\",\"gridcolor\":\"white\",\"linecolor\":\"white\",\"minorgridcolor\":\"white\",\"startlinecolor\":\"#2a3f5f\"},\"baxis\":{\"endlinecolor\":\"#2a3f5f\",\"gridcolor\":\"white\",\"linecolor\":\"white\",\"minorgridcolor\":\"white\",\"startlinecolor\":\"#2a3f5f\"},\"type\":\"carpet\"}],\"table\":[{\"cells\":{\"fill\":{\"color\":\"#EBF0F8\"},\"line\":{\"color\":\"white\"}},\"header\":{\"fill\":{\"color\":\"#C8D4E3\"},\"line\":{\"color\":\"white\"}},\"type\":\"table\"}],\"barpolar\":[{\"marker\":{\"line\":{\"color\":\"#E5ECF6\",\"width\":0.5},\"pattern\":{\"fillmode\":\"overlay\",\"size\":10,\"solidity\":0.2}},\"type\":\"barpolar\"}],\"pie\":[{\"automargin\":true,\"type\":\"pie\"}]},\"layout\":{\"autotypenumbers\":\"strict\",\"colorway\":[\"#636efa\",\"#EF553B\",\"#00cc96\",\"#ab63fa\",\"#FFA15A\",\"#19d3f3\",\"#FF6692\",\"#B6E880\",\"#FF97FF\",\"#FECB52\"],\"font\":{\"color\":\"#2a3f5f\"},\"hovermode\":\"closest\",\"hoverlabel\":{\"align\":\"left\"},\"paper_bgcolor\":\"white\",\"plot_bgcolor\":\"#E5ECF6\",\"polar\":{\"bgcolor\":\"#E5ECF6\",\"angularaxis\":{\"gridcolor\":\"white\",\"linecolor\":\"white\",\"ticks\":\"\"},\"radialaxis\":{\"gridcolor\":\"white\",\"linecolor\":\"white\",\"ticks\":\"\"}},\"ternary\":{\"bgcolor\":\"#E5ECF6\",\"aaxis\":{\"gridcolor\":\"white\",\"linecolor\":\"white\",\"ticks\":\"\"},\"baxis\":{\"gridcolor\":\"white\",\"linecolor\":\"white\",\"ticks\":\"\"},\"caxis\":{\"gridcolor\":\"white\",\"linecolor\":\"white\",\"ticks\":\"\"}},\"coloraxis\":{\"colorbar\":{\"outlinewidth\":0,\"ticks\":\"\"}},\"colorscale\":{\"sequential\":[[0.0,\"#0d0887\"],[0.1111111111111111,\"#46039f\"],[0.2222222222222222,\"#7201a8\"],[0.3333333333333333,\"#9c179e\"],[0.4444444444444444,\"#bd3786\"],[0.5555555555555556,\"#d8576b\"],[0.6666666666666666,\"#ed7953\"],[0.7777777777777778,\"#fb9f3a\"],[0.8888888888888888,\"#fdca26\"],[1.0,\"#f0f921\"]],\"sequentialminus\":[[0.0,\"#0d0887\"],[0.1111111111111111,\"#46039f\"],[0.2222222222222222,\"#7201a8\"],[0.3333333333333333,\"#9c179e\"],[0.4444444444444444,\"#bd3786\"],[0.5555555555555556,\"#d8576b\"],[0.6666666666666666,\"#ed7953\"],[0.7777777777777778,\"#fb9f3a\"],[0.8888888888888888,\"#fdca26\"],[1.0,\"#f0f921\"]],\"diverging\":[[0,\"#8e0152\"],[0.1,\"#c51b7d\"],[0.2,\"#de77ae\"],[0.3,\"#f1b6da\"],[0.4,\"#fde0ef\"],[0.5,\"#f7f7f7\"],[0.6,\"#e6f5d0\"],[0.7,\"#b8e186\"],[0.8,\"#7fbc41\"],[0.9,\"#4d9221\"],[1,\"#276419\"]]},\"xaxis\":{\"gridcolor\":\"white\",\"linecolor\":\"white\",\"ticks\":\"\",\"title\":{\"standoff\":15},\"zerolinecolor\":\"white\",\"automargin\":true,\"zerolinewidth\":2},\"yaxis\":{\"gridcolor\":\"white\",\"linecolor\":\"white\",\"ticks\":\"\",\"title\":{\"standoff\":15},\"zerolinecolor\":\"white\",\"automargin\":true,\"zerolinewidth\":2},\"scene\":{\"xaxis\":{\"backgroundcolor\":\"#E5ECF6\",\"gridcolor\":\"white\",\"linecolor\":\"white\",\"showbackground\":true,\"ticks\":\"\",\"zerolinecolor\":\"white\",\"gridwidth\":2},\"yaxis\":{\"backgroundcolor\":\"#E5ECF6\",\"gridcolor\":\"white\",\"linecolor\":\"white\",\"showbackground\":true,\"ticks\":\"\",\"zerolinecolor\":\"white\",\"gridwidth\":2},\"zaxis\":{\"backgroundcolor\":\"#E5ECF6\",\"gridcolor\":\"white\",\"linecolor\":\"white\",\"showbackground\":true,\"ticks\":\"\",\"zerolinecolor\":\"white\",\"gridwidth\":2}},\"shapedefaults\":{\"line\":{\"color\":\"#2a3f5f\"}},\"annotationdefaults\":{\"arrowcolor\":\"#2a3f5f\",\"arrowhead\":0,\"arrowwidth\":1},\"geo\":{\"bgcolor\":\"white\",\"landcolor\":\"#E5ECF6\",\"subunitcolor\":\"white\",\"showland\":true,\"showlakes\":true,\"lakecolor\":\"white\"},\"title\":{\"x\":0.05},\"mapbox\":{\"style\":\"light\"}}},\"autosize\":false,\"width\":800},                        {\"responsive\": true}                    ).then(function(){\n",
       "                            \n",
       "var gd = document.getElementById('175ff745-fe2b-4fc3-9af1-815ab95b44ab');\n",
       "var x = new MutationObserver(function (mutations, observer) {{\n",
       "        var display = window.getComputedStyle(gd).display;\n",
       "        if (!display || display === 'none') {{\n",
       "            console.log([gd, 'removed!']);\n",
       "            Plotly.purge(gd);\n",
       "            observer.disconnect();\n",
       "        }}\n",
       "}});\n",
       "\n",
       "// Listen for the removal of the full notebook cells\n",
       "var notebookContainer = gd.closest('#notebook-container');\n",
       "if (notebookContainer) {{\n",
       "    x.observe(notebookContainer, {childList: true});\n",
       "}}\n",
       "\n",
       "// Listen for the clearing of the current output cell\n",
       "var outputEl = gd.closest('.output');\n",
       "if (outputEl) {{\n",
       "    x.observe(outputEl, {childList: true});\n",
       "}}\n",
       "\n",
       "                        })                };                });            </script>        </div>"
      ]
     },
     "metadata": {},
     "output_type": "display_data"
    }
   ],
   "source": [
    "sim_automated.run(visualise=True, verbose=False, cleverInitialise=True)"
   ]
  },
  {
   "cell_type": "code",
   "execution_count": 5,
   "id": "a921530d",
   "metadata": {},
   "outputs": [
    {
     "name": "stdout",
     "output_type": "stream",
     "text": [
      "All products are produced at time:  8525.0\n",
      "From total  55  order,  12  was before their due dates. Success rate is:  21.82 %\n"
     ]
    },
    {
     "data": {
      "application/vnd.plotly.v1+json": {
       "config": {
        "plotlyServerURL": "https://plot.ly"
       },
       "data": [
        {
         "fill": "toself",
         "fillcolor": "rgb(255, 127, 14)",
         "hoverinfo": "name",
         "legendgroup": "rgb(255, 127, 14)",
         "mode": "none",
         "name": "CEREAL_2",
         "showlegend": true,
         "type": "scatter",
         "x": [
          120,
          580,
          580,
          120,
          120,
          140,
          530,
          530,
          140,
          140,
          190,
          405,
          405,
          190,
          190,
          405,
          595,
          595,
          405,
          405,
          505,
          730,
          730,
          505,
          505,
          530,
          740,
          740,
          530,
          530,
          595,
          785,
          785,
          595,
          595,
          730,
          775,
          775,
          730,
          730,
          775,
          820,
          820,
          775,
          775,
          820,
          865,
          865,
          820,
          820,
          865,
          910,
          910,
          865,
          865,
          910,
          955,
          955,
          910,
          910,
          1000,
          1215,
          1215,
          1000,
          1000,
          1200,
          1590,
          1590,
          1200,
          1200,
          1215,
          1405,
          1405,
          1215,
          1215,
          1555,
          1780,
          1780,
          1555,
          1555,
          1620,
          1835,
          1835,
          1620,
          1620,
          1835,
          2025,
          2025,
          1835,
          1835,
          1910,
          2300,
          2300,
          1910,
          1910,
          2005,
          2230,
          2230,
          2005,
          2005,
          2025,
          2215,
          2215,
          2025,
          2025,
          2300,
          2510,
          2510,
          2300,
          2300,
          2440,
          2665,
          2665,
          2440,
          2440,
          2620,
          2835,
          2835,
          2620,
          2620,
          2665,
          2710,
          2710,
          2665,
          2665,
          3110,
          3500,
          3500,
          3110,
          3110,
          3510,
          3735,
          3735,
          3510,
          3510,
          3620,
          3835,
          3835,
          3620,
          3620,
          3655,
          4115,
          4115,
          3655,
          3655,
          3735,
          3780,
          3780,
          3735,
          3735,
          3780,
          3825,
          3825,
          3780,
          3780,
          3825,
          3870,
          3870,
          3825,
          3825,
          4050,
          4265,
          4265,
          4050,
          4050,
          4265,
          4455,
          4455,
          4265,
          4265,
          4265,
          4490,
          4490,
          4265,
          4265,
          4300,
          4690,
          4690,
          4300,
          4300,
          4455,
          4645,
          4645,
          4455,
          4455,
          4575,
          5035,
          5035,
          4575,
          4575,
          4645,
          4835,
          4835,
          4645,
          4645,
          5045,
          5270,
          5270,
          5045,
          5045,
          5795,
          6020,
          6020,
          5795,
          5795,
          6230,
          6455,
          6455,
          6230,
          6230,
          6680,
          6905,
          6905,
          6680,
          6680,
          7220,
          7445,
          7445,
          7220,
          7220,
          7445,
          7490,
          7490,
          7445,
          7445,
          7760,
          7985,
          7985,
          7760,
          7760,
          8255,
          8480,
          8480,
          8255,
          8255,
          8480,
          8525,
          8525,
          8480
         ],
         "y": [
          1.6,
          1.6,
          2.4,
          2.4,
          null,
          2.6,
          2.6,
          3.4,
          3.4,
          null,
          0.6,
          0.6,
          1.4,
          1.4,
          null,
          0.6,
          0.6,
          1.4,
          1.4,
          null,
          -0.4,
          -0.4,
          0.4,
          0.4,
          null,
          2.6,
          2.6,
          3.4,
          3.4,
          null,
          0.6,
          0.6,
          1.4,
          1.4,
          null,
          -0.4,
          -0.4,
          0.4,
          0.4,
          null,
          -0.4,
          -0.4,
          0.4,
          0.4,
          null,
          -0.4,
          -0.4,
          0.4,
          0.4,
          null,
          -0.4,
          -0.4,
          0.4,
          0.4,
          null,
          -0.4,
          -0.4,
          0.4,
          0.4,
          null,
          0.6,
          0.6,
          1.4,
          1.4,
          null,
          2.6,
          2.6,
          3.4,
          3.4,
          null,
          0.6,
          0.6,
          1.4,
          1.4,
          null,
          -0.4,
          -0.4,
          0.4,
          0.4,
          null,
          0.6,
          0.6,
          1.4,
          1.4,
          null,
          0.6,
          0.6,
          1.4,
          1.4,
          null,
          2.6,
          2.6,
          3.4,
          3.4,
          null,
          -0.4,
          -0.4,
          0.4,
          0.4,
          null,
          0.6,
          0.6,
          1.4,
          1.4,
          null,
          2.6,
          2.6,
          3.4,
          3.4,
          null,
          -0.4,
          -0.4,
          0.4,
          0.4,
          null,
          0.6,
          0.6,
          1.4,
          1.4,
          null,
          -0.4,
          -0.4,
          0.4,
          0.4,
          null,
          2.6,
          2.6,
          3.4,
          3.4,
          null,
          -0.4,
          -0.4,
          0.4,
          0.4,
          null,
          0.6,
          0.6,
          1.4,
          1.4,
          null,
          1.6,
          1.6,
          2.4,
          2.4,
          null,
          -0.4,
          -0.4,
          0.4,
          0.4,
          null,
          -0.4,
          -0.4,
          0.4,
          0.4,
          null,
          -0.4,
          -0.4,
          0.4,
          0.4,
          null,
          0.6,
          0.6,
          1.4,
          1.4,
          null,
          0.6,
          0.6,
          1.4,
          1.4,
          null,
          -0.4,
          -0.4,
          0.4,
          0.4,
          null,
          2.6,
          2.6,
          3.4,
          3.4,
          null,
          0.6,
          0.6,
          1.4,
          1.4,
          null,
          1.6,
          1.6,
          2.4,
          2.4,
          null,
          0.6,
          0.6,
          1.4,
          1.4,
          null,
          -0.4,
          -0.4,
          0.4,
          0.4,
          null,
          -0.4,
          -0.4,
          0.4,
          0.4,
          null,
          -0.4,
          -0.4,
          0.4,
          0.4,
          null,
          -0.4,
          -0.4,
          0.4,
          0.4,
          null,
          -0.4,
          -0.4,
          0.4,
          0.4,
          null,
          -0.4,
          -0.4,
          0.4,
          0.4,
          null,
          -0.4,
          -0.4,
          0.4,
          0.4,
          null,
          -0.4,
          -0.4,
          0.4,
          0.4,
          null,
          -0.4,
          -0.4,
          0.4,
          0.4
         ]
        },
        {
         "fill": "toself",
         "fillcolor": "rgb(31, 119, 180)",
         "hoverinfo": "name",
         "legendgroup": "rgb(31, 119, 180)",
         "mode": "none",
         "name": "CEREAL_1",
         "showlegend": true,
         "type": "scatter",
         "x": [
          0,
          140,
          140,
          0,
          0,
          0,
          120,
          120,
          0,
          0,
          120,
          150,
          150,
          120,
          120,
          150,
          180,
          180,
          150,
          150,
          580,
          970,
          970,
          580,
          580,
          740,
          1060,
          1060,
          740,
          740,
          970,
          1180,
          1180,
          970,
          970,
          1060,
          1200,
          1200,
          1060,
          1060,
          1180,
          1210,
          1210,
          1180,
          1180,
          1210,
          1240,
          1240,
          1210,
          1210,
          1565,
          1895,
          1895,
          1565,
          1565,
          1590,
          1910,
          1910,
          1590,
          1590,
          2230,
          2440,
          2440,
          2230,
          2230,
          2490,
          2820,
          2820,
          2490,
          2490,
          2510,
          2830,
          2830,
          2510,
          2510,
          2820,
          2940,
          2940,
          2820,
          2820,
          2830,
          2970,
          2970,
          2830,
          2830,
          2935,
          3105,
          3105,
          2935,
          2935,
          2940,
          3060,
          3060,
          2940,
          2940,
          2970,
          3110,
          3110,
          2970,
          2970,
          3105,
          3135,
          3135,
          3105,
          3105,
          3135,
          3165,
          3165,
          3135,
          3135,
          3165,
          3195,
          3195,
          3165,
          3165,
          3500,
          3820,
          3820,
          3500,
          3500,
          4095,
          4265,
          4265,
          4095,
          4095,
          4490,
          4700,
          4700,
          4490,
          4490,
          4690,
          5010,
          5010,
          4690,
          4690,
          4700,
          4730,
          4730,
          4700,
          4700,
          5270,
          5480,
          5480,
          5270,
          5270,
          6020,
          6230,
          6230,
          6020
         ],
         "y": [
          2.6,
          2.6,
          3.4,
          3.4,
          null,
          1.6,
          1.6,
          2.4,
          2.4,
          null,
          -0.4,
          -0.4,
          0.4,
          0.4,
          null,
          -0.4,
          -0.4,
          0.4,
          0.4,
          null,
          1.6,
          1.6,
          2.4,
          2.4,
          null,
          2.6,
          2.6,
          3.4,
          3.4,
          null,
          -0.4,
          -0.4,
          0.4,
          0.4,
          null,
          2.6,
          2.6,
          3.4,
          3.4,
          null,
          -0.4,
          -0.4,
          0.4,
          0.4,
          null,
          -0.4,
          -0.4,
          0.4,
          0.4,
          null,
          1.6,
          1.6,
          2.4,
          2.4,
          null,
          2.6,
          2.6,
          3.4,
          3.4,
          null,
          -0.4,
          -0.4,
          0.4,
          0.4,
          null,
          1.6,
          1.6,
          2.4,
          2.4,
          null,
          2.6,
          2.6,
          3.4,
          3.4,
          null,
          1.6,
          1.6,
          2.4,
          2.4,
          null,
          2.6,
          2.6,
          3.4,
          3.4,
          null,
          -0.4,
          -0.4,
          0.4,
          0.4,
          null,
          1.6,
          1.6,
          2.4,
          2.4,
          null,
          2.6,
          2.6,
          3.4,
          3.4,
          null,
          -0.4,
          -0.4,
          0.4,
          0.4,
          null,
          -0.4,
          -0.4,
          0.4,
          0.4,
          null,
          -0.4,
          -0.4,
          0.4,
          0.4,
          null,
          2.6,
          2.6,
          3.4,
          3.4,
          null,
          -0.4,
          -0.4,
          0.4,
          0.4,
          null,
          -0.4,
          -0.4,
          0.4,
          0.4,
          null,
          2.6,
          2.6,
          3.4,
          3.4,
          null,
          -0.4,
          -0.4,
          0.4,
          0.4,
          null,
          -0.4,
          -0.4,
          0.4,
          0.4,
          null,
          -0.4,
          -0.4,
          0.4,
          0.4
         ]
        },
        {
         "fill": "toself",
         "fillcolor": "rgb(44, 160, 44)",
         "hoverinfo": "name",
         "legendgroup": "rgb(44, 160, 44)",
         "mode": "none",
         "name": "CEREAL_3",
         "showlegend": true,
         "type": "scatter",
         "x": [
          0,
          190,
          190,
          0,
          0,
          190,
          505,
          505,
          190,
          190,
          785,
          1000,
          1000,
          785,
          785,
          970,
          1565,
          1565,
          970,
          970,
          1240,
          1555,
          1555,
          1240,
          1240,
          1405,
          1620,
          1620,
          1405,
          1405,
          1780,
          2005,
          2005,
          1780,
          1780,
          1895,
          2490,
          2490,
          1895,
          1895,
          2215,
          2430,
          2430,
          2215,
          2215,
          2430,
          2620,
          2620,
          2430,
          2430,
          2710,
          2935,
          2935,
          2710,
          2710,
          2835,
          3050,
          3050,
          2835,
          2835,
          3050,
          3240,
          3240,
          3050,
          3050,
          3060,
          3655,
          3655,
          3060,
          3060,
          3195,
          3510,
          3510,
          3195,
          3195,
          3240,
          3430,
          3430,
          3240,
          3240,
          3430,
          3620,
          3620,
          3430,
          3430,
          3820,
          4300,
          4300,
          3820,
          3820,
          3835,
          4050,
          4050,
          3835,
          3835,
          3870,
          4095,
          4095,
          3870,
          3870,
          4115,
          4575,
          4575,
          4115,
          4115,
          4730,
          5045,
          5045,
          4730,
          4730,
          4835,
          5050,
          5050,
          4835,
          4835,
          5480,
          5795,
          5795,
          5480,
          5480,
          6455,
          6680,
          6680,
          6455,
          6455,
          6905,
          7130,
          7130,
          6905,
          6905,
          7130,
          7175,
          7175,
          7130,
          7130,
          7175,
          7220,
          7220,
          7175,
          7175,
          7490,
          7715,
          7715,
          7490,
          7490,
          7715,
          7760,
          7760,
          7715,
          7715,
          7985,
          8210,
          8210,
          7985,
          7985,
          8210,
          8255,
          8255,
          8210
         ],
         "y": [
          0.6,
          0.6,
          1.4,
          1.4,
          null,
          -0.4,
          -0.4,
          0.4,
          0.4,
          null,
          0.6,
          0.6,
          1.4,
          1.4,
          null,
          1.6,
          1.6,
          2.4,
          2.4,
          null,
          -0.4,
          -0.4,
          0.4,
          0.4,
          null,
          0.6,
          0.6,
          1.4,
          1.4,
          null,
          -0.4,
          -0.4,
          0.4,
          0.4,
          null,
          1.6,
          1.6,
          2.4,
          2.4,
          null,
          0.6,
          0.6,
          1.4,
          1.4,
          null,
          0.6,
          0.6,
          1.4,
          1.4,
          null,
          -0.4,
          -0.4,
          0.4,
          0.4,
          null,
          0.6,
          0.6,
          1.4,
          1.4,
          null,
          0.6,
          0.6,
          1.4,
          1.4,
          null,
          1.6,
          1.6,
          2.4,
          2.4,
          null,
          -0.4,
          -0.4,
          0.4,
          0.4,
          null,
          0.6,
          0.6,
          1.4,
          1.4,
          null,
          0.6,
          0.6,
          1.4,
          1.4,
          null,
          2.6,
          2.6,
          3.4,
          3.4,
          null,
          0.6,
          0.6,
          1.4,
          1.4,
          null,
          -0.4,
          -0.4,
          0.4,
          0.4,
          null,
          1.6,
          1.6,
          2.4,
          2.4,
          null,
          -0.4,
          -0.4,
          0.4,
          0.4,
          null,
          0.6,
          0.6,
          1.4,
          1.4,
          null,
          -0.4,
          -0.4,
          0.4,
          0.4,
          null,
          -0.4,
          -0.4,
          0.4,
          0.4,
          null,
          -0.4,
          -0.4,
          0.4,
          0.4,
          null,
          -0.4,
          -0.4,
          0.4,
          0.4,
          null,
          -0.4,
          -0.4,
          0.4,
          0.4,
          null,
          -0.4,
          -0.4,
          0.4,
          0.4,
          null,
          -0.4,
          -0.4,
          0.4,
          0.4,
          null,
          -0.4,
          -0.4,
          0.4,
          0.4,
          null,
          -0.4,
          -0.4,
          0.4,
          0.4
         ]
        },
        {
         "legendgroup": "rgb(255, 127, 14)",
         "marker": {
          "color": "rgb(255, 127, 14)",
          "opacity": 0,
          "size": 1
         },
         "mode": "markers",
         "name": "",
         "showlegend": false,
         "text": [
          null,
          null,
          null,
          null,
          null,
          null,
          null,
          null,
          null,
          null,
          null,
          null,
          null,
          null,
          null,
          null,
          null,
          null,
          null,
          null,
          null,
          null,
          null,
          null,
          null,
          null,
          null,
          null,
          null,
          null,
          null,
          null,
          null,
          null,
          null,
          null,
          null,
          null,
          null,
          null,
          null,
          null,
          null,
          null,
          null,
          null,
          null,
          null,
          null,
          null,
          null,
          null,
          null,
          null,
          null,
          null,
          null,
          null,
          null,
          null,
          null,
          null,
          null,
          null,
          null,
          null,
          null,
          null,
          null,
          null,
          null,
          null,
          null,
          null,
          null,
          null,
          null,
          null,
          null,
          null,
          null,
          null,
          null,
          null,
          null,
          null,
          null,
          null,
          null,
          null,
          null,
          null,
          null,
          null,
          null,
          null
         ],
         "type": "scatter",
         "x": [
          120,
          580,
          140,
          530,
          190,
          405,
          405,
          595,
          505,
          730,
          530,
          740,
          595,
          785,
          730,
          775,
          775,
          820,
          820,
          865,
          865,
          910,
          910,
          955,
          1000,
          1215,
          1200,
          1590,
          1215,
          1405,
          1555,
          1780,
          1620,
          1835,
          1835,
          2025,
          1910,
          2300,
          2005,
          2230,
          2025,
          2215,
          2300,
          2510,
          2440,
          2665,
          2620,
          2835,
          2665,
          2710,
          3110,
          3500,
          3510,
          3735,
          3620,
          3835,
          3655,
          4115,
          3735,
          3780,
          3780,
          3825,
          3825,
          3870,
          4050,
          4265,
          4265,
          4455,
          4265,
          4490,
          4300,
          4690,
          4455,
          4645,
          4575,
          5035,
          4645,
          4835,
          5045,
          5270,
          5795,
          6020,
          6230,
          6455,
          6680,
          6905,
          7220,
          7445,
          7445,
          7490,
          7760,
          7985,
          8255,
          8480,
          8480,
          8525
         ],
         "y": [
          2,
          2,
          3,
          3,
          1,
          1,
          1,
          1,
          0,
          0,
          3,
          3,
          1,
          1,
          0,
          0,
          0,
          0,
          0,
          0,
          0,
          0,
          0,
          0,
          1,
          1,
          3,
          3,
          1,
          1,
          0,
          0,
          1,
          1,
          1,
          1,
          3,
          3,
          0,
          0,
          1,
          1,
          3,
          3,
          0,
          0,
          1,
          1,
          0,
          0,
          3,
          3,
          0,
          0,
          1,
          1,
          2,
          2,
          0,
          0,
          0,
          0,
          0,
          0,
          1,
          1,
          1,
          1,
          0,
          0,
          3,
          3,
          1,
          1,
          2,
          2,
          1,
          1,
          0,
          0,
          0,
          0,
          0,
          0,
          0,
          0,
          0,
          0,
          0,
          0,
          0,
          0,
          0,
          0,
          0,
          0
         ]
        },
        {
         "legendgroup": "rgb(31, 119, 180)",
         "marker": {
          "color": "rgb(31, 119, 180)",
          "opacity": 0,
          "size": 1
         },
         "mode": "markers",
         "name": "",
         "showlegend": false,
         "text": [
          null,
          null,
          null,
          null,
          null,
          null,
          null,
          null,
          null,
          null,
          null,
          null,
          null,
          null,
          null,
          null,
          null,
          null,
          null,
          null,
          null,
          null,
          null,
          null,
          null,
          null,
          null,
          null,
          null,
          null,
          null,
          null,
          null,
          null,
          null,
          null,
          null,
          null,
          null,
          null,
          null,
          null,
          null,
          null,
          null,
          null,
          null,
          null,
          null,
          null,
          null,
          null,
          null,
          null,
          null,
          null,
          null,
          null,
          null,
          null
         ],
         "type": "scatter",
         "x": [
          0,
          140,
          0,
          120,
          120,
          150,
          150,
          180,
          580,
          970,
          740,
          1060,
          970,
          1180,
          1060,
          1200,
          1180,
          1210,
          1210,
          1240,
          1565,
          1895,
          1590,
          1910,
          2230,
          2440,
          2490,
          2820,
          2510,
          2830,
          2820,
          2940,
          2830,
          2970,
          2935,
          3105,
          2940,
          3060,
          2970,
          3110,
          3105,
          3135,
          3135,
          3165,
          3165,
          3195,
          3500,
          3820,
          4095,
          4265,
          4490,
          4700,
          4690,
          5010,
          4700,
          4730,
          5270,
          5480,
          6020,
          6230
         ],
         "y": [
          3,
          3,
          2,
          2,
          0,
          0,
          0,
          0,
          2,
          2,
          3,
          3,
          0,
          0,
          3,
          3,
          0,
          0,
          0,
          0,
          2,
          2,
          3,
          3,
          0,
          0,
          2,
          2,
          3,
          3,
          2,
          2,
          3,
          3,
          0,
          0,
          2,
          2,
          3,
          3,
          0,
          0,
          0,
          0,
          0,
          0,
          3,
          3,
          0,
          0,
          0,
          0,
          3,
          3,
          0,
          0,
          0,
          0,
          0,
          0
         ]
        },
        {
         "legendgroup": "rgb(44, 160, 44)",
         "marker": {
          "color": "rgb(44, 160, 44)",
          "opacity": 0,
          "size": 1
         },
         "mode": "markers",
         "name": "",
         "showlegend": false,
         "text": [
          null,
          null,
          null,
          null,
          null,
          null,
          null,
          null,
          null,
          null,
          null,
          null,
          null,
          null,
          null,
          null,
          null,
          null,
          null,
          null,
          null,
          null,
          null,
          null,
          null,
          null,
          null,
          null,
          null,
          null,
          null,
          null,
          null,
          null,
          null,
          null,
          null,
          null,
          null,
          null,
          null,
          null,
          null,
          null,
          null,
          null,
          null,
          null,
          null,
          null,
          null,
          null,
          null,
          null,
          null,
          null,
          null,
          null,
          null,
          null,
          null,
          null,
          null,
          null
         ],
         "type": "scatter",
         "x": [
          0,
          190,
          190,
          505,
          785,
          1000,
          970,
          1565,
          1240,
          1555,
          1405,
          1620,
          1780,
          2005,
          1895,
          2490,
          2215,
          2430,
          2430,
          2620,
          2710,
          2935,
          2835,
          3050,
          3050,
          3240,
          3060,
          3655,
          3195,
          3510,
          3240,
          3430,
          3430,
          3620,
          3820,
          4300,
          3835,
          4050,
          3870,
          4095,
          4115,
          4575,
          4730,
          5045,
          4835,
          5050,
          5480,
          5795,
          6455,
          6680,
          6905,
          7130,
          7130,
          7175,
          7175,
          7220,
          7490,
          7715,
          7715,
          7760,
          7985,
          8210,
          8210,
          8255
         ],
         "y": [
          1,
          1,
          0,
          0,
          1,
          1,
          2,
          2,
          0,
          0,
          1,
          1,
          0,
          0,
          2,
          2,
          1,
          1,
          1,
          1,
          0,
          0,
          1,
          1,
          1,
          1,
          2,
          2,
          0,
          0,
          1,
          1,
          1,
          1,
          3,
          3,
          1,
          1,
          0,
          0,
          2,
          2,
          0,
          0,
          1,
          1,
          0,
          0,
          0,
          0,
          0,
          0,
          0,
          0,
          0,
          0,
          0,
          0,
          0,
          0,
          0,
          0,
          0,
          0
         ]
        }
       ],
       "layout": {
        "autosize": false,
        "height": 400,
        "hovermode": "closest",
        "showlegend": true,
        "template": {
         "data": {
          "bar": [
           {
            "error_x": {
             "color": "#2a3f5f"
            },
            "error_y": {
             "color": "#2a3f5f"
            },
            "marker": {
             "line": {
              "color": "#E5ECF6",
              "width": 0.5
             },
             "pattern": {
              "fillmode": "overlay",
              "size": 10,
              "solidity": 0.2
             }
            },
            "type": "bar"
           }
          ],
          "barpolar": [
           {
            "marker": {
             "line": {
              "color": "#E5ECF6",
              "width": 0.5
             },
             "pattern": {
              "fillmode": "overlay",
              "size": 10,
              "solidity": 0.2
             }
            },
            "type": "barpolar"
           }
          ],
          "carpet": [
           {
            "aaxis": {
             "endlinecolor": "#2a3f5f",
             "gridcolor": "white",
             "linecolor": "white",
             "minorgridcolor": "white",
             "startlinecolor": "#2a3f5f"
            },
            "baxis": {
             "endlinecolor": "#2a3f5f",
             "gridcolor": "white",
             "linecolor": "white",
             "minorgridcolor": "white",
             "startlinecolor": "#2a3f5f"
            },
            "type": "carpet"
           }
          ],
          "choropleth": [
           {
            "colorbar": {
             "outlinewidth": 0,
             "ticks": ""
            },
            "type": "choropleth"
           }
          ],
          "contour": [
           {
            "colorbar": {
             "outlinewidth": 0,
             "ticks": ""
            },
            "colorscale": [
             [
              0,
              "#0d0887"
             ],
             [
              0.1111111111111111,
              "#46039f"
             ],
             [
              0.2222222222222222,
              "#7201a8"
             ],
             [
              0.3333333333333333,
              "#9c179e"
             ],
             [
              0.4444444444444444,
              "#bd3786"
             ],
             [
              0.5555555555555556,
              "#d8576b"
             ],
             [
              0.6666666666666666,
              "#ed7953"
             ],
             [
              0.7777777777777778,
              "#fb9f3a"
             ],
             [
              0.8888888888888888,
              "#fdca26"
             ],
             [
              1,
              "#f0f921"
             ]
            ],
            "type": "contour"
           }
          ],
          "contourcarpet": [
           {
            "colorbar": {
             "outlinewidth": 0,
             "ticks": ""
            },
            "type": "contourcarpet"
           }
          ],
          "heatmap": [
           {
            "colorbar": {
             "outlinewidth": 0,
             "ticks": ""
            },
            "colorscale": [
             [
              0,
              "#0d0887"
             ],
             [
              0.1111111111111111,
              "#46039f"
             ],
             [
              0.2222222222222222,
              "#7201a8"
             ],
             [
              0.3333333333333333,
              "#9c179e"
             ],
             [
              0.4444444444444444,
              "#bd3786"
             ],
             [
              0.5555555555555556,
              "#d8576b"
             ],
             [
              0.6666666666666666,
              "#ed7953"
             ],
             [
              0.7777777777777778,
              "#fb9f3a"
             ],
             [
              0.8888888888888888,
              "#fdca26"
             ],
             [
              1,
              "#f0f921"
             ]
            ],
            "type": "heatmap"
           }
          ],
          "heatmapgl": [
           {
            "colorbar": {
             "outlinewidth": 0,
             "ticks": ""
            },
            "colorscale": [
             [
              0,
              "#0d0887"
             ],
             [
              0.1111111111111111,
              "#46039f"
             ],
             [
              0.2222222222222222,
              "#7201a8"
             ],
             [
              0.3333333333333333,
              "#9c179e"
             ],
             [
              0.4444444444444444,
              "#bd3786"
             ],
             [
              0.5555555555555556,
              "#d8576b"
             ],
             [
              0.6666666666666666,
              "#ed7953"
             ],
             [
              0.7777777777777778,
              "#fb9f3a"
             ],
             [
              0.8888888888888888,
              "#fdca26"
             ],
             [
              1,
              "#f0f921"
             ]
            ],
            "type": "heatmapgl"
           }
          ],
          "histogram": [
           {
            "marker": {
             "pattern": {
              "fillmode": "overlay",
              "size": 10,
              "solidity": 0.2
             }
            },
            "type": "histogram"
           }
          ],
          "histogram2d": [
           {
            "colorbar": {
             "outlinewidth": 0,
             "ticks": ""
            },
            "colorscale": [
             [
              0,
              "#0d0887"
             ],
             [
              0.1111111111111111,
              "#46039f"
             ],
             [
              0.2222222222222222,
              "#7201a8"
             ],
             [
              0.3333333333333333,
              "#9c179e"
             ],
             [
              0.4444444444444444,
              "#bd3786"
             ],
             [
              0.5555555555555556,
              "#d8576b"
             ],
             [
              0.6666666666666666,
              "#ed7953"
             ],
             [
              0.7777777777777778,
              "#fb9f3a"
             ],
             [
              0.8888888888888888,
              "#fdca26"
             ],
             [
              1,
              "#f0f921"
             ]
            ],
            "type": "histogram2d"
           }
          ],
          "histogram2dcontour": [
           {
            "colorbar": {
             "outlinewidth": 0,
             "ticks": ""
            },
            "colorscale": [
             [
              0,
              "#0d0887"
             ],
             [
              0.1111111111111111,
              "#46039f"
             ],
             [
              0.2222222222222222,
              "#7201a8"
             ],
             [
              0.3333333333333333,
              "#9c179e"
             ],
             [
              0.4444444444444444,
              "#bd3786"
             ],
             [
              0.5555555555555556,
              "#d8576b"
             ],
             [
              0.6666666666666666,
              "#ed7953"
             ],
             [
              0.7777777777777778,
              "#fb9f3a"
             ],
             [
              0.8888888888888888,
              "#fdca26"
             ],
             [
              1,
              "#f0f921"
             ]
            ],
            "type": "histogram2dcontour"
           }
          ],
          "mesh3d": [
           {
            "colorbar": {
             "outlinewidth": 0,
             "ticks": ""
            },
            "type": "mesh3d"
           }
          ],
          "parcoords": [
           {
            "line": {
             "colorbar": {
              "outlinewidth": 0,
              "ticks": ""
             }
            },
            "type": "parcoords"
           }
          ],
          "pie": [
           {
            "automargin": true,
            "type": "pie"
           }
          ],
          "scatter": [
           {
            "fillpattern": {
             "fillmode": "overlay",
             "size": 10,
             "solidity": 0.2
            },
            "type": "scatter"
           }
          ],
          "scatter3d": [
           {
            "line": {
             "colorbar": {
              "outlinewidth": 0,
              "ticks": ""
             }
            },
            "marker": {
             "colorbar": {
              "outlinewidth": 0,
              "ticks": ""
             }
            },
            "type": "scatter3d"
           }
          ],
          "scattercarpet": [
           {
            "marker": {
             "colorbar": {
              "outlinewidth": 0,
              "ticks": ""
             }
            },
            "type": "scattercarpet"
           }
          ],
          "scattergeo": [
           {
            "marker": {
             "colorbar": {
              "outlinewidth": 0,
              "ticks": ""
             }
            },
            "type": "scattergeo"
           }
          ],
          "scattergl": [
           {
            "marker": {
             "colorbar": {
              "outlinewidth": 0,
              "ticks": ""
             }
            },
            "type": "scattergl"
           }
          ],
          "scattermapbox": [
           {
            "marker": {
             "colorbar": {
              "outlinewidth": 0,
              "ticks": ""
             }
            },
            "type": "scattermapbox"
           }
          ],
          "scatterpolar": [
           {
            "marker": {
             "colorbar": {
              "outlinewidth": 0,
              "ticks": ""
             }
            },
            "type": "scatterpolar"
           }
          ],
          "scatterpolargl": [
           {
            "marker": {
             "colorbar": {
              "outlinewidth": 0,
              "ticks": ""
             }
            },
            "type": "scatterpolargl"
           }
          ],
          "scatterternary": [
           {
            "marker": {
             "colorbar": {
              "outlinewidth": 0,
              "ticks": ""
             }
            },
            "type": "scatterternary"
           }
          ],
          "surface": [
           {
            "colorbar": {
             "outlinewidth": 0,
             "ticks": ""
            },
            "colorscale": [
             [
              0,
              "#0d0887"
             ],
             [
              0.1111111111111111,
              "#46039f"
             ],
             [
              0.2222222222222222,
              "#7201a8"
             ],
             [
              0.3333333333333333,
              "#9c179e"
             ],
             [
              0.4444444444444444,
              "#bd3786"
             ],
             [
              0.5555555555555556,
              "#d8576b"
             ],
             [
              0.6666666666666666,
              "#ed7953"
             ],
             [
              0.7777777777777778,
              "#fb9f3a"
             ],
             [
              0.8888888888888888,
              "#fdca26"
             ],
             [
              1,
              "#f0f921"
             ]
            ],
            "type": "surface"
           }
          ],
          "table": [
           {
            "cells": {
             "fill": {
              "color": "#EBF0F8"
             },
             "line": {
              "color": "white"
             }
            },
            "header": {
             "fill": {
              "color": "#C8D4E3"
             },
             "line": {
              "color": "white"
             }
            },
            "type": "table"
           }
          ]
         },
         "layout": {
          "annotationdefaults": {
           "arrowcolor": "#2a3f5f",
           "arrowhead": 0,
           "arrowwidth": 1
          },
          "autotypenumbers": "strict",
          "coloraxis": {
           "colorbar": {
            "outlinewidth": 0,
            "ticks": ""
           }
          },
          "colorscale": {
           "diverging": [
            [
             0,
             "#8e0152"
            ],
            [
             0.1,
             "#c51b7d"
            ],
            [
             0.2,
             "#de77ae"
            ],
            [
             0.3,
             "#f1b6da"
            ],
            [
             0.4,
             "#fde0ef"
            ],
            [
             0.5,
             "#f7f7f7"
            ],
            [
             0.6,
             "#e6f5d0"
            ],
            [
             0.7,
             "#b8e186"
            ],
            [
             0.8,
             "#7fbc41"
            ],
            [
             0.9,
             "#4d9221"
            ],
            [
             1,
             "#276419"
            ]
           ],
           "sequential": [
            [
             0,
             "#0d0887"
            ],
            [
             0.1111111111111111,
             "#46039f"
            ],
            [
             0.2222222222222222,
             "#7201a8"
            ],
            [
             0.3333333333333333,
             "#9c179e"
            ],
            [
             0.4444444444444444,
             "#bd3786"
            ],
            [
             0.5555555555555556,
             "#d8576b"
            ],
            [
             0.6666666666666666,
             "#ed7953"
            ],
            [
             0.7777777777777778,
             "#fb9f3a"
            ],
            [
             0.8888888888888888,
             "#fdca26"
            ],
            [
             1,
             "#f0f921"
            ]
           ],
           "sequentialminus": [
            [
             0,
             "#0d0887"
            ],
            [
             0.1111111111111111,
             "#46039f"
            ],
            [
             0.2222222222222222,
             "#7201a8"
            ],
            [
             0.3333333333333333,
             "#9c179e"
            ],
            [
             0.4444444444444444,
             "#bd3786"
            ],
            [
             0.5555555555555556,
             "#d8576b"
            ],
            [
             0.6666666666666666,
             "#ed7953"
            ],
            [
             0.7777777777777778,
             "#fb9f3a"
            ],
            [
             0.8888888888888888,
             "#fdca26"
            ],
            [
             1,
             "#f0f921"
            ]
           ]
          },
          "colorway": [
           "#636efa",
           "#EF553B",
           "#00cc96",
           "#ab63fa",
           "#FFA15A",
           "#19d3f3",
           "#FF6692",
           "#B6E880",
           "#FF97FF",
           "#FECB52"
          ],
          "font": {
           "color": "#2a3f5f"
          },
          "geo": {
           "bgcolor": "white",
           "lakecolor": "white",
           "landcolor": "#E5ECF6",
           "showlakes": true,
           "showland": true,
           "subunitcolor": "white"
          },
          "hoverlabel": {
           "align": "left"
          },
          "hovermode": "closest",
          "mapbox": {
           "style": "light"
          },
          "paper_bgcolor": "white",
          "plot_bgcolor": "#E5ECF6",
          "polar": {
           "angularaxis": {
            "gridcolor": "white",
            "linecolor": "white",
            "ticks": ""
           },
           "bgcolor": "#E5ECF6",
           "radialaxis": {
            "gridcolor": "white",
            "linecolor": "white",
            "ticks": ""
           }
          },
          "scene": {
           "xaxis": {
            "backgroundcolor": "#E5ECF6",
            "gridcolor": "white",
            "gridwidth": 2,
            "linecolor": "white",
            "showbackground": true,
            "ticks": "",
            "zerolinecolor": "white"
           },
           "yaxis": {
            "backgroundcolor": "#E5ECF6",
            "gridcolor": "white",
            "gridwidth": 2,
            "linecolor": "white",
            "showbackground": true,
            "ticks": "",
            "zerolinecolor": "white"
           },
           "zaxis": {
            "backgroundcolor": "#E5ECF6",
            "gridcolor": "white",
            "gridwidth": 2,
            "linecolor": "white",
            "showbackground": true,
            "ticks": "",
            "zerolinecolor": "white"
           }
          },
          "shapedefaults": {
           "line": {
            "color": "#2a3f5f"
           }
          },
          "ternary": {
           "aaxis": {
            "gridcolor": "white",
            "linecolor": "white",
            "ticks": ""
           },
           "baxis": {
            "gridcolor": "white",
            "linecolor": "white",
            "ticks": ""
           },
           "bgcolor": "#E5ECF6",
           "caxis": {
            "gridcolor": "white",
            "linecolor": "white",
            "ticks": ""
           }
          },
          "title": {
           "x": 0.05
          },
          "xaxis": {
           "automargin": true,
           "gridcolor": "white",
           "linecolor": "white",
           "ticks": "",
           "title": {
            "standoff": 15
           },
           "zerolinecolor": "white",
           "zerolinewidth": 2
          },
          "yaxis": {
           "automargin": true,
           "gridcolor": "white",
           "linecolor": "white",
           "ticks": "",
           "title": {
            "standoff": 15
           },
           "zerolinecolor": "white",
           "zerolinewidth": 2
          }
         }
        },
        "title": {
         "text": "Gantt Chart"
        },
        "width": 800,
        "xaxis": {
         "rangeselector": {
          "buttons": [
           {
            "count": 7,
            "label": "1w",
            "step": "day",
            "stepmode": "backward"
           },
           {
            "count": 1,
            "label": "1m",
            "step": "month",
            "stepmode": "backward"
           },
           {
            "count": 6,
            "label": "6m",
            "step": "month",
            "stepmode": "backward"
           },
           {
            "count": 1,
            "label": "YTD",
            "step": "year",
            "stepmode": "todate"
           },
           {
            "count": 1,
            "label": "1y",
            "step": "year",
            "stepmode": "backward"
           },
           {
            "step": "all"
           }
          ]
         },
         "showgrid": false,
         "type": "linear",
         "zeroline": false
        },
        "yaxis": {
         "autorange": false,
         "range": [
          -1,
          5
         ],
         "showgrid": false,
         "ticktext": [
          "RES_4",
          "RES_3",
          "RES_2",
          "RES_1"
         ],
         "tickvals": [
          0,
          1,
          2,
          3
         ],
         "zeroline": false
        }
       }
      },
      "text/html": [
       "<div>                            <div id=\"0cfffd89-7ec5-45ca-8dd9-c31000111720\" class=\"plotly-graph-div\" style=\"height:400px; width:800px;\"></div>            <script type=\"text/javascript\">                require([\"plotly\"], function(Plotly) {                    window.PLOTLYENV=window.PLOTLYENV || {};                                    if (document.getElementById(\"0cfffd89-7ec5-45ca-8dd9-c31000111720\")) {                    Plotly.newPlot(                        \"0cfffd89-7ec5-45ca-8dd9-c31000111720\",                        [{\"fill\":\"toself\",\"fillcolor\":\"rgb(255, 127, 14)\",\"hoverinfo\":\"name\",\"legendgroup\":\"rgb(255, 127, 14)\",\"mode\":\"none\",\"name\":\"CEREAL_2\",\"showlegend\":true,\"x\":[120.0,580.0,580.0,120.0,120.0,140.0,530.0,530.0,140.0,140.0,190.0,405.0,405.0,190.0,190.0,405.0,595.0,595.0,405.0,405.0,505.0,730.0,730.0,505.0,505.0,530.0,740.0,740.0,530.0,530.0,595.0,785.0,785.0,595.0,595.0,730.0,775.0,775.0,730.0,730.0,775.0,820.0,820.0,775.0,775.0,820.0,865.0,865.0,820.0,820.0,865.0,910.0,910.0,865.0,865.0,910.0,955.0,955.0,910.0,910.0,1000.0,1215.0,1215.0,1000.0,1000.0,1200.0,1590.0,1590.0,1200.0,1200.0,1215.0,1405.0,1405.0,1215.0,1215.0,1555.0,1780.0,1780.0,1555.0,1555.0,1620.0,1835.0,1835.0,1620.0,1620.0,1835.0,2025.0,2025.0,1835.0,1835.0,1910.0,2300.0,2300.0,1910.0,1910.0,2005.0,2230.0,2230.0,2005.0,2005.0,2025.0,2215.0,2215.0,2025.0,2025.0,2300.0,2510.0,2510.0,2300.0,2300.0,2440.0,2665.0,2665.0,2440.0,2440.0,2620.0,2835.0,2835.0,2620.0,2620.0,2665.0,2710.0,2710.0,2665.0,2665.0,3110.0,3500.0,3500.0,3110.0,3110.0,3510.0,3735.0,3735.0,3510.0,3510.0,3620.0,3835.0,3835.0,3620.0,3620.0,3655.0,4115.0,4115.0,3655.0,3655.0,3735.0,3780.0,3780.0,3735.0,3735.0,3780.0,3825.0,3825.0,3780.0,3780.0,3825.0,3870.0,3870.0,3825.0,3825.0,4050.0,4265.0,4265.0,4050.0,4050.0,4265.0,4455.0,4455.0,4265.0,4265.0,4265.0,4490.0,4490.0,4265.0,4265.0,4300.0,4690.0,4690.0,4300.0,4300.0,4455.0,4645.0,4645.0,4455.0,4455.0,4575.0,5035.0,5035.0,4575.0,4575.0,4645.0,4835.0,4835.0,4645.0,4645.0,5045.0,5270.0,5270.0,5045.0,5045.0,5795.0,6020.0,6020.0,5795.0,5795.0,6230.0,6455.0,6455.0,6230.0,6230.0,6680.0,6905.0,6905.0,6680.0,6680.0,7220.0,7445.0,7445.0,7220.0,7220.0,7445.0,7490.0,7490.0,7445.0,7445.0,7760.0,7985.0,7985.0,7760.0,7760.0,8255.0,8480.0,8480.0,8255.0,8255.0,8480.0,8525.0,8525.0,8480.0],\"y\":[1.6,1.6,2.4,2.4,null,2.6,2.6,3.4,3.4,null,0.6,0.6,1.4,1.4,null,0.6,0.6,1.4,1.4,null,-0.4,-0.4,0.4,0.4,null,2.6,2.6,3.4,3.4,null,0.6,0.6,1.4,1.4,null,-0.4,-0.4,0.4,0.4,null,-0.4,-0.4,0.4,0.4,null,-0.4,-0.4,0.4,0.4,null,-0.4,-0.4,0.4,0.4,null,-0.4,-0.4,0.4,0.4,null,0.6,0.6,1.4,1.4,null,2.6,2.6,3.4,3.4,null,0.6,0.6,1.4,1.4,null,-0.4,-0.4,0.4,0.4,null,0.6,0.6,1.4,1.4,null,0.6,0.6,1.4,1.4,null,2.6,2.6,3.4,3.4,null,-0.4,-0.4,0.4,0.4,null,0.6,0.6,1.4,1.4,null,2.6,2.6,3.4,3.4,null,-0.4,-0.4,0.4,0.4,null,0.6,0.6,1.4,1.4,null,-0.4,-0.4,0.4,0.4,null,2.6,2.6,3.4,3.4,null,-0.4,-0.4,0.4,0.4,null,0.6,0.6,1.4,1.4,null,1.6,1.6,2.4,2.4,null,-0.4,-0.4,0.4,0.4,null,-0.4,-0.4,0.4,0.4,null,-0.4,-0.4,0.4,0.4,null,0.6,0.6,1.4,1.4,null,0.6,0.6,1.4,1.4,null,-0.4,-0.4,0.4,0.4,null,2.6,2.6,3.4,3.4,null,0.6,0.6,1.4,1.4,null,1.6,1.6,2.4,2.4,null,0.6,0.6,1.4,1.4,null,-0.4,-0.4,0.4,0.4,null,-0.4,-0.4,0.4,0.4,null,-0.4,-0.4,0.4,0.4,null,-0.4,-0.4,0.4,0.4,null,-0.4,-0.4,0.4,0.4,null,-0.4,-0.4,0.4,0.4,null,-0.4,-0.4,0.4,0.4,null,-0.4,-0.4,0.4,0.4,null,-0.4,-0.4,0.4,0.4],\"type\":\"scatter\"},{\"fill\":\"toself\",\"fillcolor\":\"rgb(31, 119, 180)\",\"hoverinfo\":\"name\",\"legendgroup\":\"rgb(31, 119, 180)\",\"mode\":\"none\",\"name\":\"CEREAL_1\",\"showlegend\":true,\"x\":[0,140.0,140.0,0,0,0,120.0,120.0,0,0,120.0,150.0,150.0,120.0,120.0,150.0,180.0,180.0,150.0,150.0,580.0,970.0,970.0,580.0,580.0,740.0,1060.0,1060.0,740.0,740.0,970.0,1180.0,1180.0,970.0,970.0,1060.0,1200.0,1200.0,1060.0,1060.0,1180.0,1210.0,1210.0,1180.0,1180.0,1210.0,1240.0,1240.0,1210.0,1210.0,1565.0,1895.0,1895.0,1565.0,1565.0,1590.0,1910.0,1910.0,1590.0,1590.0,2230.0,2440.0,2440.0,2230.0,2230.0,2490.0,2820.0,2820.0,2490.0,2490.0,2510.0,2830.0,2830.0,2510.0,2510.0,2820.0,2940.0,2940.0,2820.0,2820.0,2830.0,2970.0,2970.0,2830.0,2830.0,2935.0,3105.0,3105.0,2935.0,2935.0,2940.0,3060.0,3060.0,2940.0,2940.0,2970.0,3110.0,3110.0,2970.0,2970.0,3105.0,3135.0,3135.0,3105.0,3105.0,3135.0,3165.0,3165.0,3135.0,3135.0,3165.0,3195.0,3195.0,3165.0,3165.0,3500.0,3820.0,3820.0,3500.0,3500.0,4095.0,4265.0,4265.0,4095.0,4095.0,4490.0,4700.0,4700.0,4490.0,4490.0,4690.0,5010.0,5010.0,4690.0,4690.0,4700.0,4730.0,4730.0,4700.0,4700.0,5270.0,5480.0,5480.0,5270.0,5270.0,6020.0,6230.0,6230.0,6020.0],\"y\":[2.6,2.6,3.4,3.4,null,1.6,1.6,2.4,2.4,null,-0.4,-0.4,0.4,0.4,null,-0.4,-0.4,0.4,0.4,null,1.6,1.6,2.4,2.4,null,2.6,2.6,3.4,3.4,null,-0.4,-0.4,0.4,0.4,null,2.6,2.6,3.4,3.4,null,-0.4,-0.4,0.4,0.4,null,-0.4,-0.4,0.4,0.4,null,1.6,1.6,2.4,2.4,null,2.6,2.6,3.4,3.4,null,-0.4,-0.4,0.4,0.4,null,1.6,1.6,2.4,2.4,null,2.6,2.6,3.4,3.4,null,1.6,1.6,2.4,2.4,null,2.6,2.6,3.4,3.4,null,-0.4,-0.4,0.4,0.4,null,1.6,1.6,2.4,2.4,null,2.6,2.6,3.4,3.4,null,-0.4,-0.4,0.4,0.4,null,-0.4,-0.4,0.4,0.4,null,-0.4,-0.4,0.4,0.4,null,2.6,2.6,3.4,3.4,null,-0.4,-0.4,0.4,0.4,null,-0.4,-0.4,0.4,0.4,null,2.6,2.6,3.4,3.4,null,-0.4,-0.4,0.4,0.4,null,-0.4,-0.4,0.4,0.4,null,-0.4,-0.4,0.4,0.4],\"type\":\"scatter\"},{\"fill\":\"toself\",\"fillcolor\":\"rgb(44, 160, 44)\",\"hoverinfo\":\"name\",\"legendgroup\":\"rgb(44, 160, 44)\",\"mode\":\"none\",\"name\":\"CEREAL_3\",\"showlegend\":true,\"x\":[0,190.0,190.0,0,0,190.0,505.0,505.0,190.0,190.0,785.0,1000.0,1000.0,785.0,785.0,970.0,1565.0,1565.0,970.0,970.0,1240.0,1555.0,1555.0,1240.0,1240.0,1405.0,1620.0,1620.0,1405.0,1405.0,1780.0,2005.0,2005.0,1780.0,1780.0,1895.0,2490.0,2490.0,1895.0,1895.0,2215.0,2430.0,2430.0,2215.0,2215.0,2430.0,2620.0,2620.0,2430.0,2430.0,2710.0,2935.0,2935.0,2710.0,2710.0,2835.0,3050.0,3050.0,2835.0,2835.0,3050.0,3240.0,3240.0,3050.0,3050.0,3060.0,3655.0,3655.0,3060.0,3060.0,3195.0,3510.0,3510.0,3195.0,3195.0,3240.0,3430.0,3430.0,3240.0,3240.0,3430.0,3620.0,3620.0,3430.0,3430.0,3820.0,4300.0,4300.0,3820.0,3820.0,3835.0,4050.0,4050.0,3835.0,3835.0,3870.0,4095.0,4095.0,3870.0,3870.0,4115.0,4575.0,4575.0,4115.0,4115.0,4730.0,5045.0,5045.0,4730.0,4730.0,4835.0,5050.0,5050.0,4835.0,4835.0,5480.0,5795.0,5795.0,5480.0,5480.0,6455.0,6680.0,6680.0,6455.0,6455.0,6905.0,7130.0,7130.0,6905.0,6905.0,7130.0,7175.0,7175.0,7130.0,7130.0,7175.0,7220.0,7220.0,7175.0,7175.0,7490.0,7715.0,7715.0,7490.0,7490.0,7715.0,7760.0,7760.0,7715.0,7715.0,7985.0,8210.0,8210.0,7985.0,7985.0,8210.0,8255.0,8255.0,8210.0],\"y\":[0.6,0.6,1.4,1.4,null,-0.4,-0.4,0.4,0.4,null,0.6,0.6,1.4,1.4,null,1.6,1.6,2.4,2.4,null,-0.4,-0.4,0.4,0.4,null,0.6,0.6,1.4,1.4,null,-0.4,-0.4,0.4,0.4,null,1.6,1.6,2.4,2.4,null,0.6,0.6,1.4,1.4,null,0.6,0.6,1.4,1.4,null,-0.4,-0.4,0.4,0.4,null,0.6,0.6,1.4,1.4,null,0.6,0.6,1.4,1.4,null,1.6,1.6,2.4,2.4,null,-0.4,-0.4,0.4,0.4,null,0.6,0.6,1.4,1.4,null,0.6,0.6,1.4,1.4,null,2.6,2.6,3.4,3.4,null,0.6,0.6,1.4,1.4,null,-0.4,-0.4,0.4,0.4,null,1.6,1.6,2.4,2.4,null,-0.4,-0.4,0.4,0.4,null,0.6,0.6,1.4,1.4,null,-0.4,-0.4,0.4,0.4,null,-0.4,-0.4,0.4,0.4,null,-0.4,-0.4,0.4,0.4,null,-0.4,-0.4,0.4,0.4,null,-0.4,-0.4,0.4,0.4,null,-0.4,-0.4,0.4,0.4,null,-0.4,-0.4,0.4,0.4,null,-0.4,-0.4,0.4,0.4,null,-0.4,-0.4,0.4,0.4],\"type\":\"scatter\"},{\"legendgroup\":\"rgb(255, 127, 14)\",\"marker\":{\"color\":\"rgb(255, 127, 14)\",\"opacity\":0,\"size\":1},\"mode\":\"markers\",\"name\":\"\",\"showlegend\":false,\"text\":[null,null,null,null,null,null,null,null,null,null,null,null,null,null,null,null,null,null,null,null,null,null,null,null,null,null,null,null,null,null,null,null,null,null,null,null,null,null,null,null,null,null,null,null,null,null,null,null,null,null,null,null,null,null,null,null,null,null,null,null,null,null,null,null,null,null,null,null,null,null,null,null,null,null,null,null,null,null,null,null,null,null,null,null,null,null,null,null,null,null,null,null,null,null,null,null],\"x\":[120.0,580.0,140.0,530.0,190.0,405.0,405.0,595.0,505.0,730.0,530.0,740.0,595.0,785.0,730.0,775.0,775.0,820.0,820.0,865.0,865.0,910.0,910.0,955.0,1000.0,1215.0,1200.0,1590.0,1215.0,1405.0,1555.0,1780.0,1620.0,1835.0,1835.0,2025.0,1910.0,2300.0,2005.0,2230.0,2025.0,2215.0,2300.0,2510.0,2440.0,2665.0,2620.0,2835.0,2665.0,2710.0,3110.0,3500.0,3510.0,3735.0,3620.0,3835.0,3655.0,4115.0,3735.0,3780.0,3780.0,3825.0,3825.0,3870.0,4050.0,4265.0,4265.0,4455.0,4265.0,4490.0,4300.0,4690.0,4455.0,4645.0,4575.0,5035.0,4645.0,4835.0,5045.0,5270.0,5795.0,6020.0,6230.0,6455.0,6680.0,6905.0,7220.0,7445.0,7445.0,7490.0,7760.0,7985.0,8255.0,8480.0,8480.0,8525.0],\"y\":[2,2,3,3,1,1,1,1,0,0,3,3,1,1,0,0,0,0,0,0,0,0,0,0,1,1,3,3,1,1,0,0,1,1,1,1,3,3,0,0,1,1,3,3,0,0,1,1,0,0,3,3,0,0,1,1,2,2,0,0,0,0,0,0,1,1,1,1,0,0,3,3,1,1,2,2,1,1,0,0,0,0,0,0,0,0,0,0,0,0,0,0,0,0,0,0],\"type\":\"scatter\"},{\"legendgroup\":\"rgb(31, 119, 180)\",\"marker\":{\"color\":\"rgb(31, 119, 180)\",\"opacity\":0,\"size\":1},\"mode\":\"markers\",\"name\":\"\",\"showlegend\":false,\"text\":[null,null,null,null,null,null,null,null,null,null,null,null,null,null,null,null,null,null,null,null,null,null,null,null,null,null,null,null,null,null,null,null,null,null,null,null,null,null,null,null,null,null,null,null,null,null,null,null,null,null,null,null,null,null,null,null,null,null,null,null],\"x\":[0,140.0,0,120.0,120.0,150.0,150.0,180.0,580.0,970.0,740.0,1060.0,970.0,1180.0,1060.0,1200.0,1180.0,1210.0,1210.0,1240.0,1565.0,1895.0,1590.0,1910.0,2230.0,2440.0,2490.0,2820.0,2510.0,2830.0,2820.0,2940.0,2830.0,2970.0,2935.0,3105.0,2940.0,3060.0,2970.0,3110.0,3105.0,3135.0,3135.0,3165.0,3165.0,3195.0,3500.0,3820.0,4095.0,4265.0,4490.0,4700.0,4690.0,5010.0,4700.0,4730.0,5270.0,5480.0,6020.0,6230.0],\"y\":[3,3,2,2,0,0,0,0,2,2,3,3,0,0,3,3,0,0,0,0,2,2,3,3,0,0,2,2,3,3,2,2,3,3,0,0,2,2,3,3,0,0,0,0,0,0,3,3,0,0,0,0,3,3,0,0,0,0,0,0],\"type\":\"scatter\"},{\"legendgroup\":\"rgb(44, 160, 44)\",\"marker\":{\"color\":\"rgb(44, 160, 44)\",\"opacity\":0,\"size\":1},\"mode\":\"markers\",\"name\":\"\",\"showlegend\":false,\"text\":[null,null,null,null,null,null,null,null,null,null,null,null,null,null,null,null,null,null,null,null,null,null,null,null,null,null,null,null,null,null,null,null,null,null,null,null,null,null,null,null,null,null,null,null,null,null,null,null,null,null,null,null,null,null,null,null,null,null,null,null,null,null,null,null],\"x\":[0,190.0,190.0,505.0,785.0,1000.0,970.0,1565.0,1240.0,1555.0,1405.0,1620.0,1780.0,2005.0,1895.0,2490.0,2215.0,2430.0,2430.0,2620.0,2710.0,2935.0,2835.0,3050.0,3050.0,3240.0,3060.0,3655.0,3195.0,3510.0,3240.0,3430.0,3430.0,3620.0,3820.0,4300.0,3835.0,4050.0,3870.0,4095.0,4115.0,4575.0,4730.0,5045.0,4835.0,5050.0,5480.0,5795.0,6455.0,6680.0,6905.0,7130.0,7130.0,7175.0,7175.0,7220.0,7490.0,7715.0,7715.0,7760.0,7985.0,8210.0,8210.0,8255.0],\"y\":[1,1,0,0,1,1,2,2,0,0,1,1,0,0,2,2,1,1,1,1,0,0,1,1,1,1,2,2,0,0,1,1,1,1,3,3,1,1,0,0,2,2,0,0,1,1,0,0,0,0,0,0,0,0,0,0,0,0,0,0,0,0,0,0],\"type\":\"scatter\"}],                        {\"height\":400,\"hovermode\":\"closest\",\"showlegend\":true,\"title\":{\"text\":\"Gantt Chart\"},\"xaxis\":{\"rangeselector\":{\"buttons\":[{\"count\":7,\"label\":\"1w\",\"step\":\"day\",\"stepmode\":\"backward\"},{\"count\":1,\"label\":\"1m\",\"step\":\"month\",\"stepmode\":\"backward\"},{\"count\":6,\"label\":\"6m\",\"step\":\"month\",\"stepmode\":\"backward\"},{\"count\":1,\"label\":\"YTD\",\"step\":\"year\",\"stepmode\":\"todate\"},{\"count\":1,\"label\":\"1y\",\"step\":\"year\",\"stepmode\":\"backward\"},{\"step\":\"all\"}]},\"showgrid\":false,\"type\":\"linear\",\"zeroline\":false},\"yaxis\":{\"autorange\":false,\"range\":[-1,5],\"showgrid\":false,\"ticktext\":[\"RES_4\",\"RES_3\",\"RES_2\",\"RES_1\"],\"tickvals\":[0,1,2,3],\"zeroline\":false},\"template\":{\"data\":{\"histogram2dcontour\":[{\"type\":\"histogram2dcontour\",\"colorbar\":{\"outlinewidth\":0,\"ticks\":\"\"},\"colorscale\":[[0.0,\"#0d0887\"],[0.1111111111111111,\"#46039f\"],[0.2222222222222222,\"#7201a8\"],[0.3333333333333333,\"#9c179e\"],[0.4444444444444444,\"#bd3786\"],[0.5555555555555556,\"#d8576b\"],[0.6666666666666666,\"#ed7953\"],[0.7777777777777778,\"#fb9f3a\"],[0.8888888888888888,\"#fdca26\"],[1.0,\"#f0f921\"]]}],\"choropleth\":[{\"type\":\"choropleth\",\"colorbar\":{\"outlinewidth\":0,\"ticks\":\"\"}}],\"histogram2d\":[{\"type\":\"histogram2d\",\"colorbar\":{\"outlinewidth\":0,\"ticks\":\"\"},\"colorscale\":[[0.0,\"#0d0887\"],[0.1111111111111111,\"#46039f\"],[0.2222222222222222,\"#7201a8\"],[0.3333333333333333,\"#9c179e\"],[0.4444444444444444,\"#bd3786\"],[0.5555555555555556,\"#d8576b\"],[0.6666666666666666,\"#ed7953\"],[0.7777777777777778,\"#fb9f3a\"],[0.8888888888888888,\"#fdca26\"],[1.0,\"#f0f921\"]]}],\"heatmap\":[{\"type\":\"heatmap\",\"colorbar\":{\"outlinewidth\":0,\"ticks\":\"\"},\"colorscale\":[[0.0,\"#0d0887\"],[0.1111111111111111,\"#46039f\"],[0.2222222222222222,\"#7201a8\"],[0.3333333333333333,\"#9c179e\"],[0.4444444444444444,\"#bd3786\"],[0.5555555555555556,\"#d8576b\"],[0.6666666666666666,\"#ed7953\"],[0.7777777777777778,\"#fb9f3a\"],[0.8888888888888888,\"#fdca26\"],[1.0,\"#f0f921\"]]}],\"heatmapgl\":[{\"type\":\"heatmapgl\",\"colorbar\":{\"outlinewidth\":0,\"ticks\":\"\"},\"colorscale\":[[0.0,\"#0d0887\"],[0.1111111111111111,\"#46039f\"],[0.2222222222222222,\"#7201a8\"],[0.3333333333333333,\"#9c179e\"],[0.4444444444444444,\"#bd3786\"],[0.5555555555555556,\"#d8576b\"],[0.6666666666666666,\"#ed7953\"],[0.7777777777777778,\"#fb9f3a\"],[0.8888888888888888,\"#fdca26\"],[1.0,\"#f0f921\"]]}],\"contourcarpet\":[{\"type\":\"contourcarpet\",\"colorbar\":{\"outlinewidth\":0,\"ticks\":\"\"}}],\"contour\":[{\"type\":\"contour\",\"colorbar\":{\"outlinewidth\":0,\"ticks\":\"\"},\"colorscale\":[[0.0,\"#0d0887\"],[0.1111111111111111,\"#46039f\"],[0.2222222222222222,\"#7201a8\"],[0.3333333333333333,\"#9c179e\"],[0.4444444444444444,\"#bd3786\"],[0.5555555555555556,\"#d8576b\"],[0.6666666666666666,\"#ed7953\"],[0.7777777777777778,\"#fb9f3a\"],[0.8888888888888888,\"#fdca26\"],[1.0,\"#f0f921\"]]}],\"surface\":[{\"type\":\"surface\",\"colorbar\":{\"outlinewidth\":0,\"ticks\":\"\"},\"colorscale\":[[0.0,\"#0d0887\"],[0.1111111111111111,\"#46039f\"],[0.2222222222222222,\"#7201a8\"],[0.3333333333333333,\"#9c179e\"],[0.4444444444444444,\"#bd3786\"],[0.5555555555555556,\"#d8576b\"],[0.6666666666666666,\"#ed7953\"],[0.7777777777777778,\"#fb9f3a\"],[0.8888888888888888,\"#fdca26\"],[1.0,\"#f0f921\"]]}],\"mesh3d\":[{\"type\":\"mesh3d\",\"colorbar\":{\"outlinewidth\":0,\"ticks\":\"\"}}],\"scatter\":[{\"fillpattern\":{\"fillmode\":\"overlay\",\"size\":10,\"solidity\":0.2},\"type\":\"scatter\"}],\"parcoords\":[{\"type\":\"parcoords\",\"line\":{\"colorbar\":{\"outlinewidth\":0,\"ticks\":\"\"}}}],\"scatterpolargl\":[{\"type\":\"scatterpolargl\",\"marker\":{\"colorbar\":{\"outlinewidth\":0,\"ticks\":\"\"}}}],\"bar\":[{\"error_x\":{\"color\":\"#2a3f5f\"},\"error_y\":{\"color\":\"#2a3f5f\"},\"marker\":{\"line\":{\"color\":\"#E5ECF6\",\"width\":0.5},\"pattern\":{\"fillmode\":\"overlay\",\"size\":10,\"solidity\":0.2}},\"type\":\"bar\"}],\"scattergeo\":[{\"type\":\"scattergeo\",\"marker\":{\"colorbar\":{\"outlinewidth\":0,\"ticks\":\"\"}}}],\"scatterpolar\":[{\"type\":\"scatterpolar\",\"marker\":{\"colorbar\":{\"outlinewidth\":0,\"ticks\":\"\"}}}],\"histogram\":[{\"marker\":{\"pattern\":{\"fillmode\":\"overlay\",\"size\":10,\"solidity\":0.2}},\"type\":\"histogram\"}],\"scattergl\":[{\"type\":\"scattergl\",\"marker\":{\"colorbar\":{\"outlinewidth\":0,\"ticks\":\"\"}}}],\"scatter3d\":[{\"type\":\"scatter3d\",\"line\":{\"colorbar\":{\"outlinewidth\":0,\"ticks\":\"\"}},\"marker\":{\"colorbar\":{\"outlinewidth\":0,\"ticks\":\"\"}}}],\"scattermapbox\":[{\"type\":\"scattermapbox\",\"marker\":{\"colorbar\":{\"outlinewidth\":0,\"ticks\":\"\"}}}],\"scatterternary\":[{\"type\":\"scatterternary\",\"marker\":{\"colorbar\":{\"outlinewidth\":0,\"ticks\":\"\"}}}],\"scattercarpet\":[{\"type\":\"scattercarpet\",\"marker\":{\"colorbar\":{\"outlinewidth\":0,\"ticks\":\"\"}}}],\"carpet\":[{\"aaxis\":{\"endlinecolor\":\"#2a3f5f\",\"gridcolor\":\"white\",\"linecolor\":\"white\",\"minorgridcolor\":\"white\",\"startlinecolor\":\"#2a3f5f\"},\"baxis\":{\"endlinecolor\":\"#2a3f5f\",\"gridcolor\":\"white\",\"linecolor\":\"white\",\"minorgridcolor\":\"white\",\"startlinecolor\":\"#2a3f5f\"},\"type\":\"carpet\"}],\"table\":[{\"cells\":{\"fill\":{\"color\":\"#EBF0F8\"},\"line\":{\"color\":\"white\"}},\"header\":{\"fill\":{\"color\":\"#C8D4E3\"},\"line\":{\"color\":\"white\"}},\"type\":\"table\"}],\"barpolar\":[{\"marker\":{\"line\":{\"color\":\"#E5ECF6\",\"width\":0.5},\"pattern\":{\"fillmode\":\"overlay\",\"size\":10,\"solidity\":0.2}},\"type\":\"barpolar\"}],\"pie\":[{\"automargin\":true,\"type\":\"pie\"}]},\"layout\":{\"autotypenumbers\":\"strict\",\"colorway\":[\"#636efa\",\"#EF553B\",\"#00cc96\",\"#ab63fa\",\"#FFA15A\",\"#19d3f3\",\"#FF6692\",\"#B6E880\",\"#FF97FF\",\"#FECB52\"],\"font\":{\"color\":\"#2a3f5f\"},\"hovermode\":\"closest\",\"hoverlabel\":{\"align\":\"left\"},\"paper_bgcolor\":\"white\",\"plot_bgcolor\":\"#E5ECF6\",\"polar\":{\"bgcolor\":\"#E5ECF6\",\"angularaxis\":{\"gridcolor\":\"white\",\"linecolor\":\"white\",\"ticks\":\"\"},\"radialaxis\":{\"gridcolor\":\"white\",\"linecolor\":\"white\",\"ticks\":\"\"}},\"ternary\":{\"bgcolor\":\"#E5ECF6\",\"aaxis\":{\"gridcolor\":\"white\",\"linecolor\":\"white\",\"ticks\":\"\"},\"baxis\":{\"gridcolor\":\"white\",\"linecolor\":\"white\",\"ticks\":\"\"},\"caxis\":{\"gridcolor\":\"white\",\"linecolor\":\"white\",\"ticks\":\"\"}},\"coloraxis\":{\"colorbar\":{\"outlinewidth\":0,\"ticks\":\"\"}},\"colorscale\":{\"sequential\":[[0.0,\"#0d0887\"],[0.1111111111111111,\"#46039f\"],[0.2222222222222222,\"#7201a8\"],[0.3333333333333333,\"#9c179e\"],[0.4444444444444444,\"#bd3786\"],[0.5555555555555556,\"#d8576b\"],[0.6666666666666666,\"#ed7953\"],[0.7777777777777778,\"#fb9f3a\"],[0.8888888888888888,\"#fdca26\"],[1.0,\"#f0f921\"]],\"sequentialminus\":[[0.0,\"#0d0887\"],[0.1111111111111111,\"#46039f\"],[0.2222222222222222,\"#7201a8\"],[0.3333333333333333,\"#9c179e\"],[0.4444444444444444,\"#bd3786\"],[0.5555555555555556,\"#d8576b\"],[0.6666666666666666,\"#ed7953\"],[0.7777777777777778,\"#fb9f3a\"],[0.8888888888888888,\"#fdca26\"],[1.0,\"#f0f921\"]],\"diverging\":[[0,\"#8e0152\"],[0.1,\"#c51b7d\"],[0.2,\"#de77ae\"],[0.3,\"#f1b6da\"],[0.4,\"#fde0ef\"],[0.5,\"#f7f7f7\"],[0.6,\"#e6f5d0\"],[0.7,\"#b8e186\"],[0.8,\"#7fbc41\"],[0.9,\"#4d9221\"],[1,\"#276419\"]]},\"xaxis\":{\"gridcolor\":\"white\",\"linecolor\":\"white\",\"ticks\":\"\",\"title\":{\"standoff\":15},\"zerolinecolor\":\"white\",\"automargin\":true,\"zerolinewidth\":2},\"yaxis\":{\"gridcolor\":\"white\",\"linecolor\":\"white\",\"ticks\":\"\",\"title\":{\"standoff\":15},\"zerolinecolor\":\"white\",\"automargin\":true,\"zerolinewidth\":2},\"scene\":{\"xaxis\":{\"backgroundcolor\":\"#E5ECF6\",\"gridcolor\":\"white\",\"linecolor\":\"white\",\"showbackground\":true,\"ticks\":\"\",\"zerolinecolor\":\"white\",\"gridwidth\":2},\"yaxis\":{\"backgroundcolor\":\"#E5ECF6\",\"gridcolor\":\"white\",\"linecolor\":\"white\",\"showbackground\":true,\"ticks\":\"\",\"zerolinecolor\":\"white\",\"gridwidth\":2},\"zaxis\":{\"backgroundcolor\":\"#E5ECF6\",\"gridcolor\":\"white\",\"linecolor\":\"white\",\"showbackground\":true,\"ticks\":\"\",\"zerolinecolor\":\"white\",\"gridwidth\":2}},\"shapedefaults\":{\"line\":{\"color\":\"#2a3f5f\"}},\"annotationdefaults\":{\"arrowcolor\":\"#2a3f5f\",\"arrowhead\":0,\"arrowwidth\":1},\"geo\":{\"bgcolor\":\"white\",\"landcolor\":\"#E5ECF6\",\"subunitcolor\":\"white\",\"showland\":true,\"showlakes\":true,\"lakecolor\":\"white\"},\"title\":{\"x\":0.05},\"mapbox\":{\"style\":\"light\"}}},\"autosize\":false,\"width\":800},                        {\"responsive\": true}                    ).then(function(){\n",
       "                            \n",
       "var gd = document.getElementById('0cfffd89-7ec5-45ca-8dd9-c31000111720');\n",
       "var x = new MutationObserver(function (mutations, observer) {{\n",
       "        var display = window.getComputedStyle(gd).display;\n",
       "        if (!display || display === 'none') {{\n",
       "            console.log([gd, 'removed!']);\n",
       "            Plotly.purge(gd);\n",
       "            observer.disconnect();\n",
       "        }}\n",
       "}});\n",
       "\n",
       "// Listen for the removal of the full notebook cells\n",
       "var notebookContainer = gd.closest('#notebook-container');\n",
       "if (notebookContainer) {{\n",
       "    x.observe(notebookContainer, {childList: true});\n",
       "}}\n",
       "\n",
       "// Listen for the clearing of the current output cell\n",
       "var outputEl = gd.closest('.output');\n",
       "if (outputEl) {{\n",
       "    x.observe(outputEl, {childList: true});\n",
       "}}\n",
       "\n",
       "                        })                };                });            </script>        </div>"
      ]
     },
     "metadata": {},
     "output_type": "display_data"
    }
   ],
   "source": [
    "sim_automated.run(visualise=True, verbose=False, cleverInitialise=False)"
   ]
  },
  {
   "cell_type": "code",
   "execution_count": null,
   "id": "eb96638d",
   "metadata": {},
   "outputs": [],
   "source": []
  }
 ],
 "metadata": {
  "kernelspec": {
   "display_name": "Python 3 (ipykernel)",
   "language": "python",
   "name": "python3"
  },
  "language_info": {
   "codemirror_mode": {
    "name": "ipython",
    "version": 3
   },
   "file_extension": ".py",
   "mimetype": "text/x-python",
   "name": "python",
   "nbconvert_exporter": "python",
   "pygments_lexer": "ipython3",
   "version": "3.9.7"
  }
 },
 "nbformat": 4,
 "nbformat_minor": 5
}
