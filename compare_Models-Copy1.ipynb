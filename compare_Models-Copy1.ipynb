{
 "cells": [
  {
   "cell_type": "code",
   "execution_count": 25,
   "id": "11c884f8-8f81-4477-88d3-71cd212c3a58",
   "metadata": {},
   "outputs": [],
   "source": [
    "from simulations  import sim_randomised, sim_constrained, sim_automated\n",
    "import random\n",
    "import matplotlib.pyplot as plt\n",
    "import numpy as np"
   ]
  },
  {
   "cell_type": "code",
   "execution_count": 2,
   "id": "4054c1b4",
   "metadata": {},
   "outputs": [],
   "source": [
    "%load_ext autoreload\n",
    "%autoreload 2"
   ]
  },
  {
   "cell_type": "code",
   "execution_count": null,
   "id": "81532ca0-e879-4796-9fac-2d508863ef8e",
   "metadata": {
    "scrolled": false
   },
   "outputs": [],
   "source": [
    "simulation = sim_randomised.Env(visualise=True, verbose=False)\n",
    "\n",
    "while simulation.alive:\n",
    "    \n",
    "    #print(list(simulation.possible_actions.items()))\n",
    "\n",
    "    action_order = random.choice(list(simulation.possible_actions.keys()))\n",
    "    action_resource = random.choice(simulation.possible_actions[action_order])\n",
    "    \n",
    "    #print(\"Action is taken: \" , (action_order,action_resource))\n",
    "    #print()\n",
    "    simulation.step((action_order,action_resource))"
   ]
  },
  {
   "cell_type": "code",
   "execution_count": null,
   "id": "3b84977b",
   "metadata": {},
   "outputs": [],
   "source": [
    "for i in range(10):\n",
    "\n",
    "    simulation = sim_constrained.Env(visualise=True, verbose=False,test=True)\n",
    "\n",
    "    while simulation.alive:\n",
    "\n",
    "        #print(list(simulation.possible_actions.items()))\n",
    "\n",
    "        action_order = random.choice(list(simulation.possible_actions.keys()) ) # + [\"wait\"] \n",
    "        \n",
    "        action_resource = random.choice(simulation.possible_actions[action_order]) if action_order != \"wait\" else \"\"\n",
    "\n",
    "        #print(\"Action is taken: \" , (action_order,action_resource))\n",
    "        #print(\"possible actions: \" , simulation.possible_actions)\n",
    "        #print(\"action_list: \" , simulation.action_list.queue)\n",
    "        #print()\n",
    "        simulation.step((action_order,action_resource))\n",
    "    \n",
    "    "
   ]
  },
  {
   "cell_type": "code",
   "execution_count": 23,
   "id": "427ff034",
   "metadata": {
    "scrolled": false
   },
   "outputs": [
    {
     "name": "stdout",
     "output_type": "stream",
     "text": [
      "All products are produced at time:  698\n",
      "From total  20  order,  0  was before their due dates. Success rate is:  0.0 %\n"
     ]
    },
    {
     "data": {
      "application/vnd.plotly.v1+json": {
       "config": {
        "plotlyServerURL": "https://plot.ly"
       },
       "data": [
        {
         "fill": "toself",
         "fillcolor": "rgb(214, 39, 40)",
         "hoverinfo": "name",
         "legendgroup": "rgb(214, 39, 40)",
         "mode": "none",
         "name": "PRODUCT_4",
         "showlegend": true,
         "type": "scatter",
         "x": [
          0,
          41,
          41,
          0,
          0,
          0,
          92,
          92,
          0,
          0,
          0,
          100,
          100,
          0,
          0,
          41,
          141,
          141,
          41,
          41,
          41,
          82,
          82,
          41,
          41,
          82,
          182,
          182,
          82,
          82,
          82,
          123,
          123,
          82,
          82,
          92,
          184,
          184,
          92,
          92,
          100,
          200,
          200,
          100,
          100,
          123,
          164,
          164,
          123,
          123,
          141,
          241,
          241,
          141,
          141,
          141,
          241,
          241,
          141,
          141,
          182,
          282,
          282,
          182,
          182,
          182,
          216,
          216,
          182,
          182,
          241,
          275,
          275,
          241,
          241,
          272,
          382,
          382,
          272,
          272,
          282,
          316,
          316,
          282,
          282,
          326,
          453,
          453,
          326,
          326,
          382,
          427,
          427,
          382,
          382,
          453,
          564,
          564,
          453,
          453,
          473,
          591,
          591,
          473,
          473,
          514,
          624,
          624,
          514,
          514,
          591,
          642,
          642,
          591,
          591,
          642,
          676,
          676,
          642
         ],
         "y": [
          7.6,
          7.6,
          8.4,
          8.4,
          null,
          5.6,
          5.6,
          6.4,
          6.4,
          null,
          4.6,
          4.6,
          5.4,
          5.4,
          null,
          3.6,
          3.6,
          4.4,
          4.4,
          null,
          7.6,
          7.6,
          8.4,
          8.4,
          null,
          2.6,
          2.6,
          3.4,
          3.4,
          null,
          7.6,
          7.6,
          8.4,
          8.4,
          null,
          5.6,
          5.6,
          6.4,
          6.4,
          null,
          4.6,
          4.6,
          5.4,
          5.4,
          null,
          7.6,
          7.6,
          8.4,
          8.4,
          null,
          3.6,
          3.6,
          4.4,
          4.4,
          null,
          1.6,
          1.6,
          2.4,
          2.4,
          null,
          2.6,
          2.6,
          3.4,
          3.4,
          null,
          0.6,
          0.6,
          1.4,
          1.4,
          null,
          0.6,
          0.6,
          1.4,
          1.4,
          null,
          3.6,
          3.6,
          4.4,
          4.4,
          null,
          0.6,
          0.6,
          1.4,
          1.4,
          null,
          2.6,
          2.6,
          3.4,
          3.4,
          null,
          0.6,
          0.6,
          1.4,
          1.4,
          null,
          -0.4,
          -0.4,
          0.4,
          0.4,
          null,
          2.6,
          2.6,
          3.4,
          3.4,
          null,
          3.6,
          3.6,
          4.4,
          4.4,
          null,
          0.6,
          0.6,
          1.4,
          1.4,
          null,
          0.6,
          0.6,
          1.4,
          1.4
         ]
        },
        {
         "fill": "toself",
         "fillcolor": "rgb(255, 127, 14)",
         "hoverinfo": "name",
         "legendgroup": "rgb(255, 127, 14)",
         "mode": "none",
         "name": "PRODUCT_2",
         "showlegend": true,
         "type": "scatter",
         "x": [
          0,
          100,
          100,
          0,
          0,
          100,
          200,
          200,
          100,
          100,
          200,
          300,
          300,
          200,
          200,
          241,
          262,
          262,
          241,
          241,
          262,
          272,
          272,
          262,
          262,
          262,
          282,
          282,
          262,
          262,
          272,
          282,
          282,
          272,
          272,
          300,
          400,
          400,
          300,
          300,
          302,
          326,
          326,
          302,
          302,
          326,
          346,
          346,
          326,
          326,
          414,
          434,
          434,
          414,
          414,
          434,
          454,
          454,
          434
         ],
         "y": [
          6.6,
          6.6,
          7.4,
          7.4,
          null,
          6.6,
          6.6,
          7.4,
          7.4,
          null,
          6.6,
          6.6,
          7.4,
          7.4,
          null,
          3.6,
          3.6,
          4.4,
          4.4,
          null,
          3.6,
          3.6,
          4.4,
          4.4,
          null,
          1.6,
          1.6,
          2.4,
          2.4,
          null,
          -0.4,
          -0.4,
          0.4,
          0.4,
          null,
          6.6,
          6.6,
          7.4,
          7.4,
          null,
          2.6,
          2.6,
          3.4,
          3.4,
          null,
          0.6,
          0.6,
          1.4,
          1.4,
          null,
          3.6,
          3.6,
          4.4,
          4.4,
          null,
          0.6,
          0.6,
          1.4,
          1.4
         ]
        },
        {
         "fill": "toself",
         "fillcolor": "rgb(31, 119, 180)",
         "hoverinfo": "name",
         "legendgroup": "rgb(31, 119, 180)",
         "mode": "none",
         "name": "PRODUCT_1",
         "showlegend": true,
         "type": "scatter",
         "x": [
          164,
          274,
          274,
          164,
          164,
          184,
          294,
          294,
          184,
          184,
          200,
          311,
          311,
          200,
          200,
          274,
          374,
          374,
          274,
          274,
          282,
          302,
          302,
          282,
          282,
          294,
          394,
          394,
          294,
          294,
          302,
          412,
          412,
          302,
          302,
          382,
          414,
          414,
          382,
          382,
          414,
          514,
          514,
          414,
          414,
          434,
          455,
          455,
          434,
          434,
          453,
          473,
          473,
          453,
          453,
          455,
          565,
          565,
          455,
          455,
          485,
          514,
          514,
          485,
          485,
          544,
          655,
          655,
          544,
          544,
          564,
          698,
          698,
          564
         ],
         "y": [
          7.6,
          7.6,
          8.4,
          8.4,
          null,
          5.6,
          5.6,
          6.4,
          6.4,
          null,
          4.6,
          4.6,
          5.4,
          5.4,
          null,
          7.6,
          7.6,
          8.4,
          8.4,
          null,
          2.6,
          2.6,
          3.4,
          3.4,
          null,
          5.6,
          5.6,
          6.4,
          6.4,
          null,
          1.6,
          1.6,
          2.4,
          2.4,
          null,
          3.6,
          3.6,
          4.4,
          4.4,
          null,
          1.6,
          1.6,
          2.4,
          2.4,
          null,
          3.6,
          3.6,
          4.4,
          4.4,
          null,
          2.6,
          2.6,
          3.4,
          3.4,
          null,
          0.6,
          0.6,
          1.4,
          1.4,
          null,
          3.6,
          3.6,
          4.4,
          4.4,
          null,
          1.6,
          1.6,
          2.4,
          2.4,
          null,
          -0.4,
          -0.4,
          0.4,
          0.4
         ]
        },
        {
         "fill": "toself",
         "fillcolor": "rgb(44, 160, 44)",
         "hoverinfo": "name",
         "legendgroup": "rgb(44, 160, 44)",
         "mode": "none",
         "name": "PRODUCT_3",
         "showlegend": true,
         "type": "scatter",
         "x": [
          311,
          331,
          331,
          311,
          311,
          331,
          341,
          341,
          331,
          331,
          341,
          351,
          351,
          341,
          341,
          455,
          475,
          475,
          455,
          455,
          475,
          485,
          485,
          475,
          475,
          514,
          534,
          534,
          514,
          514,
          534,
          544,
          544,
          534,
          534,
          591,
          612,
          612,
          591,
          591,
          655,
          675,
          675,
          655
         ],
         "y": [
          4.6,
          4.6,
          5.4,
          5.4,
          null,
          4.6,
          4.6,
          5.4,
          5.4,
          null,
          4.6,
          4.6,
          5.4,
          5.4,
          null,
          3.6,
          3.6,
          4.4,
          4.4,
          null,
          3.6,
          3.6,
          4.4,
          4.4,
          null,
          1.6,
          1.6,
          2.4,
          2.4,
          null,
          1.6,
          1.6,
          2.4,
          2.4,
          null,
          2.6,
          2.6,
          3.4,
          3.4,
          null,
          1.6,
          1.6,
          2.4,
          2.4
         ]
        },
        {
         "legendgroup": "rgb(214, 39, 40)",
         "marker": {
          "color": "rgb(214, 39, 40)",
          "opacity": 0,
          "size": 1
         },
         "mode": "markers",
         "name": "",
         "showlegend": false,
         "text": [
          null,
          null,
          null,
          null,
          null,
          null,
          null,
          null,
          null,
          null,
          null,
          null,
          null,
          null,
          null,
          null,
          null,
          null,
          null,
          null,
          null,
          null,
          null,
          null,
          null,
          null,
          null,
          null,
          null,
          null,
          null,
          null,
          null,
          null,
          null,
          null,
          null,
          null,
          null,
          null,
          null,
          null,
          null,
          null,
          null,
          null,
          null,
          null
         ],
         "type": "scatter",
         "x": [
          0,
          41,
          0,
          92,
          0,
          100,
          41,
          141,
          41,
          82,
          82,
          182,
          82,
          123,
          92,
          184,
          100,
          200,
          123,
          164,
          141,
          241,
          141,
          241,
          182,
          282,
          182,
          216,
          241,
          275,
          272,
          382,
          282,
          316,
          326,
          453,
          382,
          427,
          453,
          564,
          473,
          591,
          514,
          624,
          591,
          642,
          642,
          676
         ],
         "y": [
          8,
          8,
          6,
          6,
          5,
          5,
          4,
          4,
          8,
          8,
          3,
          3,
          8,
          8,
          6,
          6,
          5,
          5,
          8,
          8,
          4,
          4,
          2,
          2,
          3,
          3,
          1,
          1,
          1,
          1,
          4,
          4,
          1,
          1,
          3,
          3,
          1,
          1,
          0,
          0,
          3,
          3,
          4,
          4,
          1,
          1,
          1,
          1
         ]
        },
        {
         "legendgroup": "rgb(255, 127, 14)",
         "marker": {
          "color": "rgb(255, 127, 14)",
          "opacity": 0,
          "size": 1
         },
         "mode": "markers",
         "name": "",
         "showlegend": false,
         "text": [
          null,
          null,
          null,
          null,
          null,
          null,
          null,
          null,
          null,
          null,
          null,
          null,
          null,
          null,
          null,
          null,
          null,
          null,
          null,
          null,
          null,
          null,
          null,
          null
         ],
         "type": "scatter",
         "x": [
          0,
          100,
          100,
          200,
          200,
          300,
          241,
          262,
          262,
          272,
          262,
          282,
          272,
          282,
          300,
          400,
          302,
          326,
          326,
          346,
          414,
          434,
          434,
          454
         ],
         "y": [
          7,
          7,
          7,
          7,
          7,
          7,
          4,
          4,
          4,
          4,
          2,
          2,
          0,
          0,
          7,
          7,
          3,
          3,
          1,
          1,
          4,
          4,
          1,
          1
         ]
        },
        {
         "legendgroup": "rgb(31, 119, 180)",
         "marker": {
          "color": "rgb(31, 119, 180)",
          "opacity": 0,
          "size": 1
         },
         "mode": "markers",
         "name": "",
         "showlegend": false,
         "text": [
          null,
          null,
          null,
          null,
          null,
          null,
          null,
          null,
          null,
          null,
          null,
          null,
          null,
          null,
          null,
          null,
          null,
          null,
          null,
          null,
          null,
          null,
          null,
          null,
          null,
          null,
          null,
          null,
          null,
          null
         ],
         "type": "scatter",
         "x": [
          164,
          274,
          184,
          294,
          200,
          311,
          274,
          374,
          282,
          302,
          294,
          394,
          302,
          412,
          382,
          414,
          414,
          514,
          434,
          455,
          453,
          473,
          455,
          565,
          485,
          514,
          544,
          655,
          564,
          698
         ],
         "y": [
          8,
          8,
          6,
          6,
          5,
          5,
          8,
          8,
          3,
          3,
          6,
          6,
          2,
          2,
          4,
          4,
          2,
          2,
          4,
          4,
          3,
          3,
          1,
          1,
          4,
          4,
          2,
          2,
          0,
          0
         ]
        },
        {
         "legendgroup": "rgb(44, 160, 44)",
         "marker": {
          "color": "rgb(44, 160, 44)",
          "opacity": 0,
          "size": 1
         },
         "mode": "markers",
         "name": "",
         "showlegend": false,
         "text": [
          null,
          null,
          null,
          null,
          null,
          null,
          null,
          null,
          null,
          null,
          null,
          null,
          null,
          null,
          null,
          null,
          null,
          null
         ],
         "type": "scatter",
         "x": [
          311,
          331,
          331,
          341,
          341,
          351,
          455,
          475,
          475,
          485,
          514,
          534,
          534,
          544,
          591,
          612,
          655,
          675
         ],
         "y": [
          5,
          5,
          5,
          5,
          5,
          5,
          4,
          4,
          4,
          4,
          2,
          2,
          2,
          2,
          3,
          3,
          2,
          2
         ]
        }
       ],
       "layout": {
        "autosize": false,
        "height": 400,
        "hovermode": "closest",
        "showlegend": true,
        "template": {
         "data": {
          "bar": [
           {
            "error_x": {
             "color": "#2a3f5f"
            },
            "error_y": {
             "color": "#2a3f5f"
            },
            "marker": {
             "line": {
              "color": "#E5ECF6",
              "width": 0.5
             },
             "pattern": {
              "fillmode": "overlay",
              "size": 10,
              "solidity": 0.2
             }
            },
            "type": "bar"
           }
          ],
          "barpolar": [
           {
            "marker": {
             "line": {
              "color": "#E5ECF6",
              "width": 0.5
             },
             "pattern": {
              "fillmode": "overlay",
              "size": 10,
              "solidity": 0.2
             }
            },
            "type": "barpolar"
           }
          ],
          "carpet": [
           {
            "aaxis": {
             "endlinecolor": "#2a3f5f",
             "gridcolor": "white",
             "linecolor": "white",
             "minorgridcolor": "white",
             "startlinecolor": "#2a3f5f"
            },
            "baxis": {
             "endlinecolor": "#2a3f5f",
             "gridcolor": "white",
             "linecolor": "white",
             "minorgridcolor": "white",
             "startlinecolor": "#2a3f5f"
            },
            "type": "carpet"
           }
          ],
          "choropleth": [
           {
            "colorbar": {
             "outlinewidth": 0,
             "ticks": ""
            },
            "type": "choropleth"
           }
          ],
          "contour": [
           {
            "colorbar": {
             "outlinewidth": 0,
             "ticks": ""
            },
            "colorscale": [
             [
              0,
              "#0d0887"
             ],
             [
              0.1111111111111111,
              "#46039f"
             ],
             [
              0.2222222222222222,
              "#7201a8"
             ],
             [
              0.3333333333333333,
              "#9c179e"
             ],
             [
              0.4444444444444444,
              "#bd3786"
             ],
             [
              0.5555555555555556,
              "#d8576b"
             ],
             [
              0.6666666666666666,
              "#ed7953"
             ],
             [
              0.7777777777777778,
              "#fb9f3a"
             ],
             [
              0.8888888888888888,
              "#fdca26"
             ],
             [
              1,
              "#f0f921"
             ]
            ],
            "type": "contour"
           }
          ],
          "contourcarpet": [
           {
            "colorbar": {
             "outlinewidth": 0,
             "ticks": ""
            },
            "type": "contourcarpet"
           }
          ],
          "heatmap": [
           {
            "colorbar": {
             "outlinewidth": 0,
             "ticks": ""
            },
            "colorscale": [
             [
              0,
              "#0d0887"
             ],
             [
              0.1111111111111111,
              "#46039f"
             ],
             [
              0.2222222222222222,
              "#7201a8"
             ],
             [
              0.3333333333333333,
              "#9c179e"
             ],
             [
              0.4444444444444444,
              "#bd3786"
             ],
             [
              0.5555555555555556,
              "#d8576b"
             ],
             [
              0.6666666666666666,
              "#ed7953"
             ],
             [
              0.7777777777777778,
              "#fb9f3a"
             ],
             [
              0.8888888888888888,
              "#fdca26"
             ],
             [
              1,
              "#f0f921"
             ]
            ],
            "type": "heatmap"
           }
          ],
          "heatmapgl": [
           {
            "colorbar": {
             "outlinewidth": 0,
             "ticks": ""
            },
            "colorscale": [
             [
              0,
              "#0d0887"
             ],
             [
              0.1111111111111111,
              "#46039f"
             ],
             [
              0.2222222222222222,
              "#7201a8"
             ],
             [
              0.3333333333333333,
              "#9c179e"
             ],
             [
              0.4444444444444444,
              "#bd3786"
             ],
             [
              0.5555555555555556,
              "#d8576b"
             ],
             [
              0.6666666666666666,
              "#ed7953"
             ],
             [
              0.7777777777777778,
              "#fb9f3a"
             ],
             [
              0.8888888888888888,
              "#fdca26"
             ],
             [
              1,
              "#f0f921"
             ]
            ],
            "type": "heatmapgl"
           }
          ],
          "histogram": [
           {
            "marker": {
             "pattern": {
              "fillmode": "overlay",
              "size": 10,
              "solidity": 0.2
             }
            },
            "type": "histogram"
           }
          ],
          "histogram2d": [
           {
            "colorbar": {
             "outlinewidth": 0,
             "ticks": ""
            },
            "colorscale": [
             [
              0,
              "#0d0887"
             ],
             [
              0.1111111111111111,
              "#46039f"
             ],
             [
              0.2222222222222222,
              "#7201a8"
             ],
             [
              0.3333333333333333,
              "#9c179e"
             ],
             [
              0.4444444444444444,
              "#bd3786"
             ],
             [
              0.5555555555555556,
              "#d8576b"
             ],
             [
              0.6666666666666666,
              "#ed7953"
             ],
             [
              0.7777777777777778,
              "#fb9f3a"
             ],
             [
              0.8888888888888888,
              "#fdca26"
             ],
             [
              1,
              "#f0f921"
             ]
            ],
            "type": "histogram2d"
           }
          ],
          "histogram2dcontour": [
           {
            "colorbar": {
             "outlinewidth": 0,
             "ticks": ""
            },
            "colorscale": [
             [
              0,
              "#0d0887"
             ],
             [
              0.1111111111111111,
              "#46039f"
             ],
             [
              0.2222222222222222,
              "#7201a8"
             ],
             [
              0.3333333333333333,
              "#9c179e"
             ],
             [
              0.4444444444444444,
              "#bd3786"
             ],
             [
              0.5555555555555556,
              "#d8576b"
             ],
             [
              0.6666666666666666,
              "#ed7953"
             ],
             [
              0.7777777777777778,
              "#fb9f3a"
             ],
             [
              0.8888888888888888,
              "#fdca26"
             ],
             [
              1,
              "#f0f921"
             ]
            ],
            "type": "histogram2dcontour"
           }
          ],
          "mesh3d": [
           {
            "colorbar": {
             "outlinewidth": 0,
             "ticks": ""
            },
            "type": "mesh3d"
           }
          ],
          "parcoords": [
           {
            "line": {
             "colorbar": {
              "outlinewidth": 0,
              "ticks": ""
             }
            },
            "type": "parcoords"
           }
          ],
          "pie": [
           {
            "automargin": true,
            "type": "pie"
           }
          ],
          "scatter": [
           {
            "marker": {
             "colorbar": {
              "outlinewidth": 0,
              "ticks": ""
             }
            },
            "type": "scatter"
           }
          ],
          "scatter3d": [
           {
            "line": {
             "colorbar": {
              "outlinewidth": 0,
              "ticks": ""
             }
            },
            "marker": {
             "colorbar": {
              "outlinewidth": 0,
              "ticks": ""
             }
            },
            "type": "scatter3d"
           }
          ],
          "scattercarpet": [
           {
            "marker": {
             "colorbar": {
              "outlinewidth": 0,
              "ticks": ""
             }
            },
            "type": "scattercarpet"
           }
          ],
          "scattergeo": [
           {
            "marker": {
             "colorbar": {
              "outlinewidth": 0,
              "ticks": ""
             }
            },
            "type": "scattergeo"
           }
          ],
          "scattergl": [
           {
            "marker": {
             "colorbar": {
              "outlinewidth": 0,
              "ticks": ""
             }
            },
            "type": "scattergl"
           }
          ],
          "scattermapbox": [
           {
            "marker": {
             "colorbar": {
              "outlinewidth": 0,
              "ticks": ""
             }
            },
            "type": "scattermapbox"
           }
          ],
          "scatterpolar": [
           {
            "marker": {
             "colorbar": {
              "outlinewidth": 0,
              "ticks": ""
             }
            },
            "type": "scatterpolar"
           }
          ],
          "scatterpolargl": [
           {
            "marker": {
             "colorbar": {
              "outlinewidth": 0,
              "ticks": ""
             }
            },
            "type": "scatterpolargl"
           }
          ],
          "scatterternary": [
           {
            "marker": {
             "colorbar": {
              "outlinewidth": 0,
              "ticks": ""
             }
            },
            "type": "scatterternary"
           }
          ],
          "surface": [
           {
            "colorbar": {
             "outlinewidth": 0,
             "ticks": ""
            },
            "colorscale": [
             [
              0,
              "#0d0887"
             ],
             [
              0.1111111111111111,
              "#46039f"
             ],
             [
              0.2222222222222222,
              "#7201a8"
             ],
             [
              0.3333333333333333,
              "#9c179e"
             ],
             [
              0.4444444444444444,
              "#bd3786"
             ],
             [
              0.5555555555555556,
              "#d8576b"
             ],
             [
              0.6666666666666666,
              "#ed7953"
             ],
             [
              0.7777777777777778,
              "#fb9f3a"
             ],
             [
              0.8888888888888888,
              "#fdca26"
             ],
             [
              1,
              "#f0f921"
             ]
            ],
            "type": "surface"
           }
          ],
          "table": [
           {
            "cells": {
             "fill": {
              "color": "#EBF0F8"
             },
             "line": {
              "color": "white"
             }
            },
            "header": {
             "fill": {
              "color": "#C8D4E3"
             },
             "line": {
              "color": "white"
             }
            },
            "type": "table"
           }
          ]
         },
         "layout": {
          "annotationdefaults": {
           "arrowcolor": "#2a3f5f",
           "arrowhead": 0,
           "arrowwidth": 1
          },
          "autotypenumbers": "strict",
          "coloraxis": {
           "colorbar": {
            "outlinewidth": 0,
            "ticks": ""
           }
          },
          "colorscale": {
           "diverging": [
            [
             0,
             "#8e0152"
            ],
            [
             0.1,
             "#c51b7d"
            ],
            [
             0.2,
             "#de77ae"
            ],
            [
             0.3,
             "#f1b6da"
            ],
            [
             0.4,
             "#fde0ef"
            ],
            [
             0.5,
             "#f7f7f7"
            ],
            [
             0.6,
             "#e6f5d0"
            ],
            [
             0.7,
             "#b8e186"
            ],
            [
             0.8,
             "#7fbc41"
            ],
            [
             0.9,
             "#4d9221"
            ],
            [
             1,
             "#276419"
            ]
           ],
           "sequential": [
            [
             0,
             "#0d0887"
            ],
            [
             0.1111111111111111,
             "#46039f"
            ],
            [
             0.2222222222222222,
             "#7201a8"
            ],
            [
             0.3333333333333333,
             "#9c179e"
            ],
            [
             0.4444444444444444,
             "#bd3786"
            ],
            [
             0.5555555555555556,
             "#d8576b"
            ],
            [
             0.6666666666666666,
             "#ed7953"
            ],
            [
             0.7777777777777778,
             "#fb9f3a"
            ],
            [
             0.8888888888888888,
             "#fdca26"
            ],
            [
             1,
             "#f0f921"
            ]
           ],
           "sequentialminus": [
            [
             0,
             "#0d0887"
            ],
            [
             0.1111111111111111,
             "#46039f"
            ],
            [
             0.2222222222222222,
             "#7201a8"
            ],
            [
             0.3333333333333333,
             "#9c179e"
            ],
            [
             0.4444444444444444,
             "#bd3786"
            ],
            [
             0.5555555555555556,
             "#d8576b"
            ],
            [
             0.6666666666666666,
             "#ed7953"
            ],
            [
             0.7777777777777778,
             "#fb9f3a"
            ],
            [
             0.8888888888888888,
             "#fdca26"
            ],
            [
             1,
             "#f0f921"
            ]
           ]
          },
          "colorway": [
           "#636efa",
           "#EF553B",
           "#00cc96",
           "#ab63fa",
           "#FFA15A",
           "#19d3f3",
           "#FF6692",
           "#B6E880",
           "#FF97FF",
           "#FECB52"
          ],
          "font": {
           "color": "#2a3f5f"
          },
          "geo": {
           "bgcolor": "white",
           "lakecolor": "white",
           "landcolor": "#E5ECF6",
           "showlakes": true,
           "showland": true,
           "subunitcolor": "white"
          },
          "hoverlabel": {
           "align": "left"
          },
          "hovermode": "closest",
          "mapbox": {
           "style": "light"
          },
          "paper_bgcolor": "white",
          "plot_bgcolor": "#E5ECF6",
          "polar": {
           "angularaxis": {
            "gridcolor": "white",
            "linecolor": "white",
            "ticks": ""
           },
           "bgcolor": "#E5ECF6",
           "radialaxis": {
            "gridcolor": "white",
            "linecolor": "white",
            "ticks": ""
           }
          },
          "scene": {
           "xaxis": {
            "backgroundcolor": "#E5ECF6",
            "gridcolor": "white",
            "gridwidth": 2,
            "linecolor": "white",
            "showbackground": true,
            "ticks": "",
            "zerolinecolor": "white"
           },
           "yaxis": {
            "backgroundcolor": "#E5ECF6",
            "gridcolor": "white",
            "gridwidth": 2,
            "linecolor": "white",
            "showbackground": true,
            "ticks": "",
            "zerolinecolor": "white"
           },
           "zaxis": {
            "backgroundcolor": "#E5ECF6",
            "gridcolor": "white",
            "gridwidth": 2,
            "linecolor": "white",
            "showbackground": true,
            "ticks": "",
            "zerolinecolor": "white"
           }
          },
          "shapedefaults": {
           "line": {
            "color": "#2a3f5f"
           }
          },
          "ternary": {
           "aaxis": {
            "gridcolor": "white",
            "linecolor": "white",
            "ticks": ""
           },
           "baxis": {
            "gridcolor": "white",
            "linecolor": "white",
            "ticks": ""
           },
           "bgcolor": "#E5ECF6",
           "caxis": {
            "gridcolor": "white",
            "linecolor": "white",
            "ticks": ""
           }
          },
          "title": {
           "x": 0.05
          },
          "xaxis": {
           "automargin": true,
           "gridcolor": "white",
           "linecolor": "white",
           "ticks": "",
           "title": {
            "standoff": 15
           },
           "zerolinecolor": "white",
           "zerolinewidth": 2
          },
          "yaxis": {
           "automargin": true,
           "gridcolor": "white",
           "linecolor": "white",
           "ticks": "",
           "title": {
            "standoff": 15
           },
           "zerolinecolor": "white",
           "zerolinewidth": 2
          }
         }
        },
        "title": {
         "text": "Gantt Chart"
        },
        "width": 800,
        "xaxis": {
         "rangeselector": {
          "buttons": [
           {
            "count": 7,
            "label": "1w",
            "step": "day",
            "stepmode": "backward"
           },
           {
            "count": 1,
            "label": "1m",
            "step": "month",
            "stepmode": "backward"
           },
           {
            "count": 6,
            "label": "6m",
            "step": "month",
            "stepmode": "backward"
           },
           {
            "count": 1,
            "label": "YTD",
            "step": "year",
            "stepmode": "todate"
           },
           {
            "count": 1,
            "label": "1y",
            "step": "year",
            "stepmode": "backward"
           },
           {
            "step": "all"
           }
          ]
         },
         "showgrid": false,
         "type": "linear",
         "zeroline": false
        },
        "yaxis": {
         "autorange": false,
         "range": [
          -1,
          10
         ],
         "showgrid": false,
         "ticktext": [
          "RES_3_3",
          "RES_3_2",
          "RES_3_1",
          "RES_2_2",
          "RES_2_1",
          "RES_1_4",
          "RES_1_3",
          "RES_1_2",
          "RES_1_1"
         ],
         "tickvals": [
          0,
          1,
          2,
          3,
          4,
          5,
          6,
          7,
          8
         ],
         "zeroline": false
        }
       }
      },
      "text/html": [
       "<div>                            <div id=\"e53d34ba-a1f1-4249-a55d-ddb8ed26b6e3\" class=\"plotly-graph-div\" style=\"height:400px; width:800px;\"></div>            <script type=\"text/javascript\">                require([\"plotly\"], function(Plotly) {                    window.PLOTLYENV=window.PLOTLYENV || {};                                    if (document.getElementById(\"e53d34ba-a1f1-4249-a55d-ddb8ed26b6e3\")) {                    Plotly.newPlot(                        \"e53d34ba-a1f1-4249-a55d-ddb8ed26b6e3\",                        [{\"fill\":\"toself\",\"fillcolor\":\"rgb(214, 39, 40)\",\"hoverinfo\":\"name\",\"legendgroup\":\"rgb(214, 39, 40)\",\"mode\":\"none\",\"name\":\"PRODUCT_4\",\"showlegend\":true,\"x\":[0,41,41,0,0,0,92,92,0,0,0,100,100,0,0,41,141,141,41,41,41,82,82,41,41,82,182,182,82,82,82,123,123,82,82,92,184,184,92,92,100,200,200,100,100,123,164,164,123,123,141,241,241,141,141,141,241,241,141,141,182,282,282,182,182,182,216,216,182,182,241,275,275,241,241,272,382,382,272,272,282,316,316,282,282,326,453,453,326,326,382,427,427,382,382,453,564,564,453,453,473,591,591,473,473,514,624,624,514,514,591,642,642,591,591,642,676,676,642],\"y\":[7.6,7.6,8.4,8.4,null,5.6,5.6,6.4,6.4,null,4.6,4.6,5.4,5.4,null,3.6,3.6,4.4,4.4,null,7.6,7.6,8.4,8.4,null,2.6,2.6,3.4,3.4,null,7.6,7.6,8.4,8.4,null,5.6,5.6,6.4,6.4,null,4.6,4.6,5.4,5.4,null,7.6,7.6,8.4,8.4,null,3.6,3.6,4.4,4.4,null,1.6,1.6,2.4,2.4,null,2.6,2.6,3.4,3.4,null,0.6,0.6,1.4,1.4,null,0.6,0.6,1.4,1.4,null,3.6,3.6,4.4,4.4,null,0.6,0.6,1.4,1.4,null,2.6,2.6,3.4,3.4,null,0.6,0.6,1.4,1.4,null,-0.4,-0.4,0.4,0.4,null,2.6,2.6,3.4,3.4,null,3.6,3.6,4.4,4.4,null,0.6,0.6,1.4,1.4,null,0.6,0.6,1.4,1.4],\"type\":\"scatter\"},{\"fill\":\"toself\",\"fillcolor\":\"rgb(255, 127, 14)\",\"hoverinfo\":\"name\",\"legendgroup\":\"rgb(255, 127, 14)\",\"mode\":\"none\",\"name\":\"PRODUCT_2\",\"showlegend\":true,\"x\":[0,100,100,0,0,100,200,200,100,100,200,300,300,200,200,241,262,262,241,241,262,272,272,262,262,262,282,282,262,262,272,282,282,272,272,300,400,400,300,300,302,326,326,302,302,326,346,346,326,326,414,434,434,414,414,434,454,454,434],\"y\":[6.6,6.6,7.4,7.4,null,6.6,6.6,7.4,7.4,null,6.6,6.6,7.4,7.4,null,3.6,3.6,4.4,4.4,null,3.6,3.6,4.4,4.4,null,1.6,1.6,2.4,2.4,null,-0.4,-0.4,0.4,0.4,null,6.6,6.6,7.4,7.4,null,2.6,2.6,3.4,3.4,null,0.6,0.6,1.4,1.4,null,3.6,3.6,4.4,4.4,null,0.6,0.6,1.4,1.4],\"type\":\"scatter\"},{\"fill\":\"toself\",\"fillcolor\":\"rgb(31, 119, 180)\",\"hoverinfo\":\"name\",\"legendgroup\":\"rgb(31, 119, 180)\",\"mode\":\"none\",\"name\":\"PRODUCT_1\",\"showlegend\":true,\"x\":[164,274,274,164,164,184,294,294,184,184,200,311,311,200,200,274,374,374,274,274,282,302,302,282,282,294,394,394,294,294,302,412,412,302,302,382,414,414,382,382,414,514,514,414,414,434,455,455,434,434,453,473,473,453,453,455,565,565,455,455,485,514,514,485,485,544,655,655,544,544,564,698,698,564],\"y\":[7.6,7.6,8.4,8.4,null,5.6,5.6,6.4,6.4,null,4.6,4.6,5.4,5.4,null,7.6,7.6,8.4,8.4,null,2.6,2.6,3.4,3.4,null,5.6,5.6,6.4,6.4,null,1.6,1.6,2.4,2.4,null,3.6,3.6,4.4,4.4,null,1.6,1.6,2.4,2.4,null,3.6,3.6,4.4,4.4,null,2.6,2.6,3.4,3.4,null,0.6,0.6,1.4,1.4,null,3.6,3.6,4.4,4.4,null,1.6,1.6,2.4,2.4,null,-0.4,-0.4,0.4,0.4],\"type\":\"scatter\"},{\"fill\":\"toself\",\"fillcolor\":\"rgb(44, 160, 44)\",\"hoverinfo\":\"name\",\"legendgroup\":\"rgb(44, 160, 44)\",\"mode\":\"none\",\"name\":\"PRODUCT_3\",\"showlegend\":true,\"x\":[311,331,331,311,311,331,341,341,331,331,341,351,351,341,341,455,475,475,455,455,475,485,485,475,475,514,534,534,514,514,534,544,544,534,534,591,612,612,591,591,655,675,675,655],\"y\":[4.6,4.6,5.4,5.4,null,4.6,4.6,5.4,5.4,null,4.6,4.6,5.4,5.4,null,3.6,3.6,4.4,4.4,null,3.6,3.6,4.4,4.4,null,1.6,1.6,2.4,2.4,null,1.6,1.6,2.4,2.4,null,2.6,2.6,3.4,3.4,null,1.6,1.6,2.4,2.4],\"type\":\"scatter\"},{\"legendgroup\":\"rgb(214, 39, 40)\",\"marker\":{\"color\":\"rgb(214, 39, 40)\",\"opacity\":0,\"size\":1},\"mode\":\"markers\",\"name\":\"\",\"showlegend\":false,\"text\":[null,null,null,null,null,null,null,null,null,null,null,null,null,null,null,null,null,null,null,null,null,null,null,null,null,null,null,null,null,null,null,null,null,null,null,null,null,null,null,null,null,null,null,null,null,null,null,null],\"x\":[0,41,0,92,0,100,41,141,41,82,82,182,82,123,92,184,100,200,123,164,141,241,141,241,182,282,182,216,241,275,272,382,282,316,326,453,382,427,453,564,473,591,514,624,591,642,642,676],\"y\":[8,8,6,6,5,5,4,4,8,8,3,3,8,8,6,6,5,5,8,8,4,4,2,2,3,3,1,1,1,1,4,4,1,1,3,3,1,1,0,0,3,3,4,4,1,1,1,1],\"type\":\"scatter\"},{\"legendgroup\":\"rgb(255, 127, 14)\",\"marker\":{\"color\":\"rgb(255, 127, 14)\",\"opacity\":0,\"size\":1},\"mode\":\"markers\",\"name\":\"\",\"showlegend\":false,\"text\":[null,null,null,null,null,null,null,null,null,null,null,null,null,null,null,null,null,null,null,null,null,null,null,null],\"x\":[0,100,100,200,200,300,241,262,262,272,262,282,272,282,300,400,302,326,326,346,414,434,434,454],\"y\":[7,7,7,7,7,7,4,4,4,4,2,2,0,0,7,7,3,3,1,1,4,4,1,1],\"type\":\"scatter\"},{\"legendgroup\":\"rgb(31, 119, 180)\",\"marker\":{\"color\":\"rgb(31, 119, 180)\",\"opacity\":0,\"size\":1},\"mode\":\"markers\",\"name\":\"\",\"showlegend\":false,\"text\":[null,null,null,null,null,null,null,null,null,null,null,null,null,null,null,null,null,null,null,null,null,null,null,null,null,null,null,null,null,null],\"x\":[164,274,184,294,200,311,274,374,282,302,294,394,302,412,382,414,414,514,434,455,453,473,455,565,485,514,544,655,564,698],\"y\":[8,8,6,6,5,5,8,8,3,3,6,6,2,2,4,4,2,2,4,4,3,3,1,1,4,4,2,2,0,0],\"type\":\"scatter\"},{\"legendgroup\":\"rgb(44, 160, 44)\",\"marker\":{\"color\":\"rgb(44, 160, 44)\",\"opacity\":0,\"size\":1},\"mode\":\"markers\",\"name\":\"\",\"showlegend\":false,\"text\":[null,null,null,null,null,null,null,null,null,null,null,null,null,null,null,null,null,null],\"x\":[311,331,331,341,341,351,455,475,475,485,514,534,534,544,591,612,655,675],\"y\":[5,5,5,5,5,5,4,4,4,4,2,2,2,2,3,3,2,2],\"type\":\"scatter\"}],                        {\"height\":400,\"hovermode\":\"closest\",\"showlegend\":true,\"title\":{\"text\":\"Gantt Chart\"},\"xaxis\":{\"rangeselector\":{\"buttons\":[{\"count\":7,\"label\":\"1w\",\"step\":\"day\",\"stepmode\":\"backward\"},{\"count\":1,\"label\":\"1m\",\"step\":\"month\",\"stepmode\":\"backward\"},{\"count\":6,\"label\":\"6m\",\"step\":\"month\",\"stepmode\":\"backward\"},{\"count\":1,\"label\":\"YTD\",\"step\":\"year\",\"stepmode\":\"todate\"},{\"count\":1,\"label\":\"1y\",\"step\":\"year\",\"stepmode\":\"backward\"},{\"step\":\"all\"}]},\"showgrid\":false,\"type\":\"linear\",\"zeroline\":false},\"yaxis\":{\"autorange\":false,\"range\":[-1,10],\"showgrid\":false,\"ticktext\":[\"RES_3_3\",\"RES_3_2\",\"RES_3_1\",\"RES_2_2\",\"RES_2_1\",\"RES_1_4\",\"RES_1_3\",\"RES_1_2\",\"RES_1_1\"],\"tickvals\":[0,1,2,3,4,5,6,7,8],\"zeroline\":false},\"template\":{\"data\":{\"bar\":[{\"error_x\":{\"color\":\"#2a3f5f\"},\"error_y\":{\"color\":\"#2a3f5f\"},\"marker\":{\"line\":{\"color\":\"#E5ECF6\",\"width\":0.5},\"pattern\":{\"fillmode\":\"overlay\",\"size\":10,\"solidity\":0.2}},\"type\":\"bar\"}],\"barpolar\":[{\"marker\":{\"line\":{\"color\":\"#E5ECF6\",\"width\":0.5},\"pattern\":{\"fillmode\":\"overlay\",\"size\":10,\"solidity\":0.2}},\"type\":\"barpolar\"}],\"carpet\":[{\"aaxis\":{\"endlinecolor\":\"#2a3f5f\",\"gridcolor\":\"white\",\"linecolor\":\"white\",\"minorgridcolor\":\"white\",\"startlinecolor\":\"#2a3f5f\"},\"baxis\":{\"endlinecolor\":\"#2a3f5f\",\"gridcolor\":\"white\",\"linecolor\":\"white\",\"minorgridcolor\":\"white\",\"startlinecolor\":\"#2a3f5f\"},\"type\":\"carpet\"}],\"choropleth\":[{\"colorbar\":{\"outlinewidth\":0,\"ticks\":\"\"},\"type\":\"choropleth\"}],\"contour\":[{\"colorbar\":{\"outlinewidth\":0,\"ticks\":\"\"},\"colorscale\":[[0.0,\"#0d0887\"],[0.1111111111111111,\"#46039f\"],[0.2222222222222222,\"#7201a8\"],[0.3333333333333333,\"#9c179e\"],[0.4444444444444444,\"#bd3786\"],[0.5555555555555556,\"#d8576b\"],[0.6666666666666666,\"#ed7953\"],[0.7777777777777778,\"#fb9f3a\"],[0.8888888888888888,\"#fdca26\"],[1.0,\"#f0f921\"]],\"type\":\"contour\"}],\"contourcarpet\":[{\"colorbar\":{\"outlinewidth\":0,\"ticks\":\"\"},\"type\":\"contourcarpet\"}],\"heatmap\":[{\"colorbar\":{\"outlinewidth\":0,\"ticks\":\"\"},\"colorscale\":[[0.0,\"#0d0887\"],[0.1111111111111111,\"#46039f\"],[0.2222222222222222,\"#7201a8\"],[0.3333333333333333,\"#9c179e\"],[0.4444444444444444,\"#bd3786\"],[0.5555555555555556,\"#d8576b\"],[0.6666666666666666,\"#ed7953\"],[0.7777777777777778,\"#fb9f3a\"],[0.8888888888888888,\"#fdca26\"],[1.0,\"#f0f921\"]],\"type\":\"heatmap\"}],\"heatmapgl\":[{\"colorbar\":{\"outlinewidth\":0,\"ticks\":\"\"},\"colorscale\":[[0.0,\"#0d0887\"],[0.1111111111111111,\"#46039f\"],[0.2222222222222222,\"#7201a8\"],[0.3333333333333333,\"#9c179e\"],[0.4444444444444444,\"#bd3786\"],[0.5555555555555556,\"#d8576b\"],[0.6666666666666666,\"#ed7953\"],[0.7777777777777778,\"#fb9f3a\"],[0.8888888888888888,\"#fdca26\"],[1.0,\"#f0f921\"]],\"type\":\"heatmapgl\"}],\"histogram\":[{\"marker\":{\"pattern\":{\"fillmode\":\"overlay\",\"size\":10,\"solidity\":0.2}},\"type\":\"histogram\"}],\"histogram2d\":[{\"colorbar\":{\"outlinewidth\":0,\"ticks\":\"\"},\"colorscale\":[[0.0,\"#0d0887\"],[0.1111111111111111,\"#46039f\"],[0.2222222222222222,\"#7201a8\"],[0.3333333333333333,\"#9c179e\"],[0.4444444444444444,\"#bd3786\"],[0.5555555555555556,\"#d8576b\"],[0.6666666666666666,\"#ed7953\"],[0.7777777777777778,\"#fb9f3a\"],[0.8888888888888888,\"#fdca26\"],[1.0,\"#f0f921\"]],\"type\":\"histogram2d\"}],\"histogram2dcontour\":[{\"colorbar\":{\"outlinewidth\":0,\"ticks\":\"\"},\"colorscale\":[[0.0,\"#0d0887\"],[0.1111111111111111,\"#46039f\"],[0.2222222222222222,\"#7201a8\"],[0.3333333333333333,\"#9c179e\"],[0.4444444444444444,\"#bd3786\"],[0.5555555555555556,\"#d8576b\"],[0.6666666666666666,\"#ed7953\"],[0.7777777777777778,\"#fb9f3a\"],[0.8888888888888888,\"#fdca26\"],[1.0,\"#f0f921\"]],\"type\":\"histogram2dcontour\"}],\"mesh3d\":[{\"colorbar\":{\"outlinewidth\":0,\"ticks\":\"\"},\"type\":\"mesh3d\"}],\"parcoords\":[{\"line\":{\"colorbar\":{\"outlinewidth\":0,\"ticks\":\"\"}},\"type\":\"parcoords\"}],\"pie\":[{\"automargin\":true,\"type\":\"pie\"}],\"scatter\":[{\"marker\":{\"colorbar\":{\"outlinewidth\":0,\"ticks\":\"\"}},\"type\":\"scatter\"}],\"scatter3d\":[{\"line\":{\"colorbar\":{\"outlinewidth\":0,\"ticks\":\"\"}},\"marker\":{\"colorbar\":{\"outlinewidth\":0,\"ticks\":\"\"}},\"type\":\"scatter3d\"}],\"scattercarpet\":[{\"marker\":{\"colorbar\":{\"outlinewidth\":0,\"ticks\":\"\"}},\"type\":\"scattercarpet\"}],\"scattergeo\":[{\"marker\":{\"colorbar\":{\"outlinewidth\":0,\"ticks\":\"\"}},\"type\":\"scattergeo\"}],\"scattergl\":[{\"marker\":{\"colorbar\":{\"outlinewidth\":0,\"ticks\":\"\"}},\"type\":\"scattergl\"}],\"scattermapbox\":[{\"marker\":{\"colorbar\":{\"outlinewidth\":0,\"ticks\":\"\"}},\"type\":\"scattermapbox\"}],\"scatterpolar\":[{\"marker\":{\"colorbar\":{\"outlinewidth\":0,\"ticks\":\"\"}},\"type\":\"scatterpolar\"}],\"scatterpolargl\":[{\"marker\":{\"colorbar\":{\"outlinewidth\":0,\"ticks\":\"\"}},\"type\":\"scatterpolargl\"}],\"scatterternary\":[{\"marker\":{\"colorbar\":{\"outlinewidth\":0,\"ticks\":\"\"}},\"type\":\"scatterternary\"}],\"surface\":[{\"colorbar\":{\"outlinewidth\":0,\"ticks\":\"\"},\"colorscale\":[[0.0,\"#0d0887\"],[0.1111111111111111,\"#46039f\"],[0.2222222222222222,\"#7201a8\"],[0.3333333333333333,\"#9c179e\"],[0.4444444444444444,\"#bd3786\"],[0.5555555555555556,\"#d8576b\"],[0.6666666666666666,\"#ed7953\"],[0.7777777777777778,\"#fb9f3a\"],[0.8888888888888888,\"#fdca26\"],[1.0,\"#f0f921\"]],\"type\":\"surface\"}],\"table\":[{\"cells\":{\"fill\":{\"color\":\"#EBF0F8\"},\"line\":{\"color\":\"white\"}},\"header\":{\"fill\":{\"color\":\"#C8D4E3\"},\"line\":{\"color\":\"white\"}},\"type\":\"table\"}]},\"layout\":{\"annotationdefaults\":{\"arrowcolor\":\"#2a3f5f\",\"arrowhead\":0,\"arrowwidth\":1},\"autotypenumbers\":\"strict\",\"coloraxis\":{\"colorbar\":{\"outlinewidth\":0,\"ticks\":\"\"}},\"colorscale\":{\"diverging\":[[0,\"#8e0152\"],[0.1,\"#c51b7d\"],[0.2,\"#de77ae\"],[0.3,\"#f1b6da\"],[0.4,\"#fde0ef\"],[0.5,\"#f7f7f7\"],[0.6,\"#e6f5d0\"],[0.7,\"#b8e186\"],[0.8,\"#7fbc41\"],[0.9,\"#4d9221\"],[1,\"#276419\"]],\"sequential\":[[0.0,\"#0d0887\"],[0.1111111111111111,\"#46039f\"],[0.2222222222222222,\"#7201a8\"],[0.3333333333333333,\"#9c179e\"],[0.4444444444444444,\"#bd3786\"],[0.5555555555555556,\"#d8576b\"],[0.6666666666666666,\"#ed7953\"],[0.7777777777777778,\"#fb9f3a\"],[0.8888888888888888,\"#fdca26\"],[1.0,\"#f0f921\"]],\"sequentialminus\":[[0.0,\"#0d0887\"],[0.1111111111111111,\"#46039f\"],[0.2222222222222222,\"#7201a8\"],[0.3333333333333333,\"#9c179e\"],[0.4444444444444444,\"#bd3786\"],[0.5555555555555556,\"#d8576b\"],[0.6666666666666666,\"#ed7953\"],[0.7777777777777778,\"#fb9f3a\"],[0.8888888888888888,\"#fdca26\"],[1.0,\"#f0f921\"]]},\"colorway\":[\"#636efa\",\"#EF553B\",\"#00cc96\",\"#ab63fa\",\"#FFA15A\",\"#19d3f3\",\"#FF6692\",\"#B6E880\",\"#FF97FF\",\"#FECB52\"],\"font\":{\"color\":\"#2a3f5f\"},\"geo\":{\"bgcolor\":\"white\",\"lakecolor\":\"white\",\"landcolor\":\"#E5ECF6\",\"showlakes\":true,\"showland\":true,\"subunitcolor\":\"white\"},\"hoverlabel\":{\"align\":\"left\"},\"hovermode\":\"closest\",\"mapbox\":{\"style\":\"light\"},\"paper_bgcolor\":\"white\",\"plot_bgcolor\":\"#E5ECF6\",\"polar\":{\"angularaxis\":{\"gridcolor\":\"white\",\"linecolor\":\"white\",\"ticks\":\"\"},\"bgcolor\":\"#E5ECF6\",\"radialaxis\":{\"gridcolor\":\"white\",\"linecolor\":\"white\",\"ticks\":\"\"}},\"scene\":{\"xaxis\":{\"backgroundcolor\":\"#E5ECF6\",\"gridcolor\":\"white\",\"gridwidth\":2,\"linecolor\":\"white\",\"showbackground\":true,\"ticks\":\"\",\"zerolinecolor\":\"white\"},\"yaxis\":{\"backgroundcolor\":\"#E5ECF6\",\"gridcolor\":\"white\",\"gridwidth\":2,\"linecolor\":\"white\",\"showbackground\":true,\"ticks\":\"\",\"zerolinecolor\":\"white\"},\"zaxis\":{\"backgroundcolor\":\"#E5ECF6\",\"gridcolor\":\"white\",\"gridwidth\":2,\"linecolor\":\"white\",\"showbackground\":true,\"ticks\":\"\",\"zerolinecolor\":\"white\"}},\"shapedefaults\":{\"line\":{\"color\":\"#2a3f5f\"}},\"ternary\":{\"aaxis\":{\"gridcolor\":\"white\",\"linecolor\":\"white\",\"ticks\":\"\"},\"baxis\":{\"gridcolor\":\"white\",\"linecolor\":\"white\",\"ticks\":\"\"},\"bgcolor\":\"#E5ECF6\",\"caxis\":{\"gridcolor\":\"white\",\"linecolor\":\"white\",\"ticks\":\"\"}},\"title\":{\"x\":0.05},\"xaxis\":{\"automargin\":true,\"gridcolor\":\"white\",\"linecolor\":\"white\",\"ticks\":\"\",\"title\":{\"standoff\":15},\"zerolinecolor\":\"white\",\"zerolinewidth\":2},\"yaxis\":{\"automargin\":true,\"gridcolor\":\"white\",\"linecolor\":\"white\",\"ticks\":\"\",\"title\":{\"standoff\":15},\"zerolinecolor\":\"white\",\"zerolinewidth\":2}}},\"autosize\":false,\"width\":800},                        {\"responsive\": true}                    ).then(function(){\n",
       "                            \n",
       "var gd = document.getElementById('e53d34ba-a1f1-4249-a55d-ddb8ed26b6e3');\n",
       "var x = new MutationObserver(function (mutations, observer) {{\n",
       "        var display = window.getComputedStyle(gd).display;\n",
       "        if (!display || display === 'none') {{\n",
       "            console.log([gd, 'removed!']);\n",
       "            Plotly.purge(gd);\n",
       "            observer.disconnect();\n",
       "        }}\n",
       "}});\n",
       "\n",
       "// Listen for the removal of the full notebook cells\n",
       "var notebookContainer = gd.closest('#notebook-container');\n",
       "if (notebookContainer) {{\n",
       "    x.observe(notebookContainer, {childList: true});\n",
       "}}\n",
       "\n",
       "// Listen for the clearing of the current output cell\n",
       "var outputEl = gd.closest('.output');\n",
       "if (outputEl) {{\n",
       "    x.observe(outputEl, {childList: true});\n",
       "}}\n",
       "\n",
       "                        })                };                });            </script>        </div>"
      ]
     },
     "metadata": {},
     "output_type": "display_data"
    }
   ],
   "source": [
    "sim_automated.run(visualise=True, verbose=False, cleverInitialise=True)"
   ]
  },
  {
   "cell_type": "code",
   "execution_count": 24,
   "id": "a921530d",
   "metadata": {},
   "outputs": [
    {
     "name": "stdout",
     "output_type": "stream",
     "text": [
      "All products are produced at time:  743\n",
      "From total  20  order,  0  was before their due dates. Success rate is:  0.0 %\n"
     ]
    },
    {
     "data": {
      "application/vnd.plotly.v1+json": {
       "config": {
        "plotlyServerURL": "https://plot.ly"
       },
       "data": [
        {
         "fill": "toself",
         "fillcolor": "rgb(214, 39, 40)",
         "hoverinfo": "name",
         "legendgroup": "rgb(214, 39, 40)",
         "mode": "none",
         "name": "PRODUCT_4",
         "showlegend": true,
         "type": "scatter",
         "x": [
          0,
          41,
          41,
          0,
          0,
          0,
          92,
          92,
          0,
          0,
          0,
          100,
          100,
          0,
          0,
          41,
          141,
          141,
          41,
          41,
          92,
          192,
          192,
          92,
          92,
          92,
          184,
          184,
          92,
          92,
          100,
          210,
          210,
          100,
          100,
          141,
          241,
          241,
          141,
          141,
          183,
          293,
          293,
          183,
          183,
          192,
          292,
          292,
          192,
          192,
          192,
          292,
          292,
          192,
          192,
          292,
          392,
          392,
          292,
          292,
          293,
          393,
          393,
          293,
          293,
          312,
          430,
          430,
          312,
          312,
          327,
          437,
          437,
          327,
          327,
          364,
          475,
          475,
          364,
          364,
          400,
          451,
          451,
          400,
          400,
          437,
          547,
          547,
          437,
          437,
          451,
          551,
          551,
          451,
          451,
          475,
          575,
          575,
          475,
          475,
          512,
          643,
          643,
          512,
          512,
          590,
          705,
          705,
          590,
          590,
          595,
          646,
          646,
          595,
          595,
          643,
          743,
          743,
          643
         ],
         "y": [
          7.6,
          7.6,
          8.4,
          8.4,
          null,
          5.6,
          5.6,
          6.4,
          6.4,
          null,
          4.6,
          4.6,
          5.4,
          5.4,
          null,
          3.6,
          3.6,
          4.4,
          4.4,
          null,
          2.6,
          2.6,
          3.4,
          3.4,
          null,
          5.6,
          5.6,
          6.4,
          6.4,
          null,
          6.6,
          6.6,
          7.4,
          7.4,
          null,
          1.6,
          1.6,
          2.4,
          2.4,
          null,
          3.6,
          3.6,
          4.4,
          4.4,
          null,
          2.6,
          2.6,
          3.4,
          3.4,
          null,
          -0.4,
          -0.4,
          0.4,
          0.4,
          null,
          1.6,
          1.6,
          2.4,
          2.4,
          null,
          -0.4,
          -0.4,
          0.4,
          0.4,
          null,
          2.6,
          2.6,
          3.4,
          3.4,
          null,
          6.6,
          6.6,
          7.4,
          7.4,
          null,
          4.6,
          4.6,
          5.4,
          5.4,
          null,
          7.6,
          7.6,
          8.4,
          8.4,
          null,
          3.6,
          3.6,
          4.4,
          4.4,
          null,
          2.6,
          2.6,
          3.4,
          3.4,
          null,
          3.6,
          3.6,
          4.4,
          4.4,
          null,
          1.6,
          1.6,
          2.4,
          2.4,
          null,
          -0.4,
          -0.4,
          0.4,
          0.4,
          null,
          0.6,
          0.6,
          1.4,
          1.4,
          null,
          1.6,
          1.6,
          2.4,
          2.4
         ]
        },
        {
         "fill": "toself",
         "fillcolor": "rgb(255, 127, 14)",
         "hoverinfo": "name",
         "legendgroup": "rgb(255, 127, 14)",
         "mode": "none",
         "name": "PRODUCT_2",
         "showlegend": true,
         "type": "scatter",
         "x": [
          0,
          100,
          100,
          0,
          0,
          100,
          210,
          210,
          100,
          100,
          141,
          162,
          162,
          141,
          141,
          162,
          172,
          172,
          162,
          162,
          184,
          294,
          294,
          184,
          184,
          276,
          400,
          400,
          276,
          276,
          362,
          383,
          383,
          362,
          362,
          383,
          393,
          393,
          383,
          383,
          400,
          421,
          421,
          400,
          400,
          412,
          433,
          433,
          412,
          412,
          423,
          470,
          470,
          423,
          423,
          470,
          480,
          480,
          470
         ],
         "y": [
          6.6,
          6.6,
          7.4,
          7.4,
          null,
          4.6,
          4.6,
          5.4,
          5.4,
          null,
          3.6,
          3.6,
          4.4,
          4.4,
          null,
          0.6,
          0.6,
          1.4,
          1.4,
          null,
          5.6,
          5.6,
          6.4,
          6.4,
          null,
          7.6,
          7.6,
          8.4,
          8.4,
          null,
          3.6,
          3.6,
          4.4,
          4.4,
          null,
          3.6,
          3.6,
          4.4,
          4.4,
          null,
          3.6,
          3.6,
          4.4,
          4.4,
          null,
          0.6,
          0.6,
          1.4,
          1.4,
          null,
          -0.4,
          -0.4,
          0.4,
          0.4,
          null,
          -0.4,
          -0.4,
          0.4,
          0.4
         ]
        },
        {
         "fill": "toself",
         "fillcolor": "rgb(31, 119, 180)",
         "hoverinfo": "name",
         "legendgroup": "rgb(31, 119, 180)",
         "mode": "none",
         "name": "PRODUCT_1",
         "showlegend": true,
         "type": "scatter",
         "x": [
          41,
          151,
          151,
          41,
          41,
          151,
          251,
          251,
          151,
          151,
          162,
          183,
          183,
          162,
          162,
          183,
          293,
          293,
          183,
          183,
          210,
          302,
          302,
          210,
          210,
          210,
          344,
          344,
          210,
          210,
          292,
          312,
          312,
          292,
          292,
          294,
          418,
          418,
          294,
          294,
          312,
          412,
          412,
          312,
          312,
          313,
          342,
          342,
          313,
          313,
          392,
          512,
          512,
          392,
          392,
          413,
          434,
          434,
          413,
          413,
          418,
          428,
          428,
          418,
          418,
          453,
          595,
          595,
          453,
          453,
          480,
          590,
          590,
          480
         ],
         "y": [
          7.6,
          7.6,
          8.4,
          8.4,
          null,
          7.6,
          7.6,
          8.4,
          8.4,
          null,
          3.6,
          3.6,
          4.4,
          4.4,
          null,
          0.6,
          0.6,
          1.4,
          1.4,
          null,
          6.6,
          6.6,
          7.4,
          7.4,
          null,
          4.6,
          4.6,
          5.4,
          5.4,
          null,
          2.6,
          2.6,
          3.4,
          3.4,
          null,
          5.6,
          5.6,
          6.4,
          6.4,
          null,
          0.6,
          0.6,
          1.4,
          1.4,
          null,
          3.6,
          3.6,
          4.4,
          4.4,
          null,
          1.6,
          1.6,
          2.4,
          2.4,
          null,
          3.6,
          3.6,
          4.4,
          4.4,
          null,
          3.6,
          3.6,
          4.4,
          4.4,
          null,
          0.6,
          0.6,
          1.4,
          1.4,
          null,
          -0.4,
          -0.4,
          0.4,
          0.4
         ]
        },
        {
         "fill": "toself",
         "fillcolor": "rgb(44, 160, 44)",
         "hoverinfo": "name",
         "legendgroup": "rgb(44, 160, 44)",
         "mode": "none",
         "name": "PRODUCT_3",
         "showlegend": true,
         "type": "scatter",
         "x": [
          251,
          276,
          276,
          251,
          251,
          293,
          313,
          313,
          293,
          293,
          302,
          327,
          327,
          302,
          302,
          342,
          362,
          362,
          342,
          342,
          344,
          364,
          364,
          344,
          344,
          393,
          413,
          413,
          393,
          393,
          393,
          413,
          413,
          393,
          393,
          413,
          423,
          423,
          413,
          413,
          433,
          453,
          453,
          433
         ],
         "y": [
          7.6,
          7.6,
          8.4,
          8.4,
          null,
          3.6,
          3.6,
          4.4,
          4.4,
          null,
          6.6,
          6.6,
          7.4,
          7.4,
          null,
          3.6,
          3.6,
          4.4,
          4.4,
          null,
          4.6,
          4.6,
          5.4,
          5.4,
          null,
          3.6,
          3.6,
          4.4,
          4.4,
          null,
          -0.4,
          -0.4,
          0.4,
          0.4,
          null,
          -0.4,
          -0.4,
          0.4,
          0.4,
          null,
          0.6,
          0.6,
          1.4,
          1.4
         ]
        },
        {
         "legendgroup": "rgb(214, 39, 40)",
         "marker": {
          "color": "rgb(214, 39, 40)",
          "opacity": 0,
          "size": 1
         },
         "mode": "markers",
         "name": "",
         "showlegend": false,
         "text": [
          null,
          null,
          null,
          null,
          null,
          null,
          null,
          null,
          null,
          null,
          null,
          null,
          null,
          null,
          null,
          null,
          null,
          null,
          null,
          null,
          null,
          null,
          null,
          null,
          null,
          null,
          null,
          null,
          null,
          null,
          null,
          null,
          null,
          null,
          null,
          null,
          null,
          null,
          null,
          null,
          null,
          null,
          null,
          null,
          null,
          null,
          null,
          null
         ],
         "type": "scatter",
         "x": [
          0,
          41,
          0,
          92,
          0,
          100,
          41,
          141,
          92,
          192,
          92,
          184,
          100,
          210,
          141,
          241,
          183,
          293,
          192,
          292,
          192,
          292,
          292,
          392,
          293,
          393,
          312,
          430,
          327,
          437,
          364,
          475,
          400,
          451,
          437,
          547,
          451,
          551,
          475,
          575,
          512,
          643,
          590,
          705,
          595,
          646,
          643,
          743
         ],
         "y": [
          8,
          8,
          6,
          6,
          5,
          5,
          4,
          4,
          3,
          3,
          6,
          6,
          7,
          7,
          2,
          2,
          4,
          4,
          3,
          3,
          0,
          0,
          2,
          2,
          0,
          0,
          3,
          3,
          7,
          7,
          5,
          5,
          8,
          8,
          4,
          4,
          3,
          3,
          4,
          4,
          2,
          2,
          0,
          0,
          1,
          1,
          2,
          2
         ]
        },
        {
         "legendgroup": "rgb(255, 127, 14)",
         "marker": {
          "color": "rgb(255, 127, 14)",
          "opacity": 0,
          "size": 1
         },
         "mode": "markers",
         "name": "",
         "showlegend": false,
         "text": [
          null,
          null,
          null,
          null,
          null,
          null,
          null,
          null,
          null,
          null,
          null,
          null,
          null,
          null,
          null,
          null,
          null,
          null,
          null,
          null,
          null,
          null,
          null,
          null
         ],
         "type": "scatter",
         "x": [
          0,
          100,
          100,
          210,
          141,
          162,
          162,
          172,
          184,
          294,
          276,
          400,
          362,
          383,
          383,
          393,
          400,
          421,
          412,
          433,
          423,
          470,
          470,
          480
         ],
         "y": [
          7,
          7,
          5,
          5,
          4,
          4,
          1,
          1,
          6,
          6,
          8,
          8,
          4,
          4,
          4,
          4,
          4,
          4,
          1,
          1,
          0,
          0,
          0,
          0
         ]
        },
        {
         "legendgroup": "rgb(31, 119, 180)",
         "marker": {
          "color": "rgb(31, 119, 180)",
          "opacity": 0,
          "size": 1
         },
         "mode": "markers",
         "name": "",
         "showlegend": false,
         "text": [
          null,
          null,
          null,
          null,
          null,
          null,
          null,
          null,
          null,
          null,
          null,
          null,
          null,
          null,
          null,
          null,
          null,
          null,
          null,
          null,
          null,
          null,
          null,
          null,
          null,
          null,
          null,
          null,
          null,
          null
         ],
         "type": "scatter",
         "x": [
          41,
          151,
          151,
          251,
          162,
          183,
          183,
          293,
          210,
          302,
          210,
          344,
          292,
          312,
          294,
          418,
          312,
          412,
          313,
          342,
          392,
          512,
          413,
          434,
          418,
          428,
          453,
          595,
          480,
          590
         ],
         "y": [
          8,
          8,
          8,
          8,
          4,
          4,
          1,
          1,
          7,
          7,
          5,
          5,
          3,
          3,
          6,
          6,
          1,
          1,
          4,
          4,
          2,
          2,
          4,
          4,
          4,
          4,
          1,
          1,
          0,
          0
         ]
        },
        {
         "legendgroup": "rgb(44, 160, 44)",
         "marker": {
          "color": "rgb(44, 160, 44)",
          "opacity": 0,
          "size": 1
         },
         "mode": "markers",
         "name": "",
         "showlegend": false,
         "text": [
          null,
          null,
          null,
          null,
          null,
          null,
          null,
          null,
          null,
          null,
          null,
          null,
          null,
          null,
          null,
          null,
          null,
          null
         ],
         "type": "scatter",
         "x": [
          251,
          276,
          293,
          313,
          302,
          327,
          342,
          362,
          344,
          364,
          393,
          413,
          393,
          413,
          413,
          423,
          433,
          453
         ],
         "y": [
          8,
          8,
          4,
          4,
          7,
          7,
          4,
          4,
          5,
          5,
          4,
          4,
          0,
          0,
          0,
          0,
          1,
          1
         ]
        }
       ],
       "layout": {
        "autosize": false,
        "height": 400,
        "hovermode": "closest",
        "showlegend": true,
        "template": {
         "data": {
          "bar": [
           {
            "error_x": {
             "color": "#2a3f5f"
            },
            "error_y": {
             "color": "#2a3f5f"
            },
            "marker": {
             "line": {
              "color": "#E5ECF6",
              "width": 0.5
             },
             "pattern": {
              "fillmode": "overlay",
              "size": 10,
              "solidity": 0.2
             }
            },
            "type": "bar"
           }
          ],
          "barpolar": [
           {
            "marker": {
             "line": {
              "color": "#E5ECF6",
              "width": 0.5
             },
             "pattern": {
              "fillmode": "overlay",
              "size": 10,
              "solidity": 0.2
             }
            },
            "type": "barpolar"
           }
          ],
          "carpet": [
           {
            "aaxis": {
             "endlinecolor": "#2a3f5f",
             "gridcolor": "white",
             "linecolor": "white",
             "minorgridcolor": "white",
             "startlinecolor": "#2a3f5f"
            },
            "baxis": {
             "endlinecolor": "#2a3f5f",
             "gridcolor": "white",
             "linecolor": "white",
             "minorgridcolor": "white",
             "startlinecolor": "#2a3f5f"
            },
            "type": "carpet"
           }
          ],
          "choropleth": [
           {
            "colorbar": {
             "outlinewidth": 0,
             "ticks": ""
            },
            "type": "choropleth"
           }
          ],
          "contour": [
           {
            "colorbar": {
             "outlinewidth": 0,
             "ticks": ""
            },
            "colorscale": [
             [
              0,
              "#0d0887"
             ],
             [
              0.1111111111111111,
              "#46039f"
             ],
             [
              0.2222222222222222,
              "#7201a8"
             ],
             [
              0.3333333333333333,
              "#9c179e"
             ],
             [
              0.4444444444444444,
              "#bd3786"
             ],
             [
              0.5555555555555556,
              "#d8576b"
             ],
             [
              0.6666666666666666,
              "#ed7953"
             ],
             [
              0.7777777777777778,
              "#fb9f3a"
             ],
             [
              0.8888888888888888,
              "#fdca26"
             ],
             [
              1,
              "#f0f921"
             ]
            ],
            "type": "contour"
           }
          ],
          "contourcarpet": [
           {
            "colorbar": {
             "outlinewidth": 0,
             "ticks": ""
            },
            "type": "contourcarpet"
           }
          ],
          "heatmap": [
           {
            "colorbar": {
             "outlinewidth": 0,
             "ticks": ""
            },
            "colorscale": [
             [
              0,
              "#0d0887"
             ],
             [
              0.1111111111111111,
              "#46039f"
             ],
             [
              0.2222222222222222,
              "#7201a8"
             ],
             [
              0.3333333333333333,
              "#9c179e"
             ],
             [
              0.4444444444444444,
              "#bd3786"
             ],
             [
              0.5555555555555556,
              "#d8576b"
             ],
             [
              0.6666666666666666,
              "#ed7953"
             ],
             [
              0.7777777777777778,
              "#fb9f3a"
             ],
             [
              0.8888888888888888,
              "#fdca26"
             ],
             [
              1,
              "#f0f921"
             ]
            ],
            "type": "heatmap"
           }
          ],
          "heatmapgl": [
           {
            "colorbar": {
             "outlinewidth": 0,
             "ticks": ""
            },
            "colorscale": [
             [
              0,
              "#0d0887"
             ],
             [
              0.1111111111111111,
              "#46039f"
             ],
             [
              0.2222222222222222,
              "#7201a8"
             ],
             [
              0.3333333333333333,
              "#9c179e"
             ],
             [
              0.4444444444444444,
              "#bd3786"
             ],
             [
              0.5555555555555556,
              "#d8576b"
             ],
             [
              0.6666666666666666,
              "#ed7953"
             ],
             [
              0.7777777777777778,
              "#fb9f3a"
             ],
             [
              0.8888888888888888,
              "#fdca26"
             ],
             [
              1,
              "#f0f921"
             ]
            ],
            "type": "heatmapgl"
           }
          ],
          "histogram": [
           {
            "marker": {
             "pattern": {
              "fillmode": "overlay",
              "size": 10,
              "solidity": 0.2
             }
            },
            "type": "histogram"
           }
          ],
          "histogram2d": [
           {
            "colorbar": {
             "outlinewidth": 0,
             "ticks": ""
            },
            "colorscale": [
             [
              0,
              "#0d0887"
             ],
             [
              0.1111111111111111,
              "#46039f"
             ],
             [
              0.2222222222222222,
              "#7201a8"
             ],
             [
              0.3333333333333333,
              "#9c179e"
             ],
             [
              0.4444444444444444,
              "#bd3786"
             ],
             [
              0.5555555555555556,
              "#d8576b"
             ],
             [
              0.6666666666666666,
              "#ed7953"
             ],
             [
              0.7777777777777778,
              "#fb9f3a"
             ],
             [
              0.8888888888888888,
              "#fdca26"
             ],
             [
              1,
              "#f0f921"
             ]
            ],
            "type": "histogram2d"
           }
          ],
          "histogram2dcontour": [
           {
            "colorbar": {
             "outlinewidth": 0,
             "ticks": ""
            },
            "colorscale": [
             [
              0,
              "#0d0887"
             ],
             [
              0.1111111111111111,
              "#46039f"
             ],
             [
              0.2222222222222222,
              "#7201a8"
             ],
             [
              0.3333333333333333,
              "#9c179e"
             ],
             [
              0.4444444444444444,
              "#bd3786"
             ],
             [
              0.5555555555555556,
              "#d8576b"
             ],
             [
              0.6666666666666666,
              "#ed7953"
             ],
             [
              0.7777777777777778,
              "#fb9f3a"
             ],
             [
              0.8888888888888888,
              "#fdca26"
             ],
             [
              1,
              "#f0f921"
             ]
            ],
            "type": "histogram2dcontour"
           }
          ],
          "mesh3d": [
           {
            "colorbar": {
             "outlinewidth": 0,
             "ticks": ""
            },
            "type": "mesh3d"
           }
          ],
          "parcoords": [
           {
            "line": {
             "colorbar": {
              "outlinewidth": 0,
              "ticks": ""
             }
            },
            "type": "parcoords"
           }
          ],
          "pie": [
           {
            "automargin": true,
            "type": "pie"
           }
          ],
          "scatter": [
           {
            "marker": {
             "colorbar": {
              "outlinewidth": 0,
              "ticks": ""
             }
            },
            "type": "scatter"
           }
          ],
          "scatter3d": [
           {
            "line": {
             "colorbar": {
              "outlinewidth": 0,
              "ticks": ""
             }
            },
            "marker": {
             "colorbar": {
              "outlinewidth": 0,
              "ticks": ""
             }
            },
            "type": "scatter3d"
           }
          ],
          "scattercarpet": [
           {
            "marker": {
             "colorbar": {
              "outlinewidth": 0,
              "ticks": ""
             }
            },
            "type": "scattercarpet"
           }
          ],
          "scattergeo": [
           {
            "marker": {
             "colorbar": {
              "outlinewidth": 0,
              "ticks": ""
             }
            },
            "type": "scattergeo"
           }
          ],
          "scattergl": [
           {
            "marker": {
             "colorbar": {
              "outlinewidth": 0,
              "ticks": ""
             }
            },
            "type": "scattergl"
           }
          ],
          "scattermapbox": [
           {
            "marker": {
             "colorbar": {
              "outlinewidth": 0,
              "ticks": ""
             }
            },
            "type": "scattermapbox"
           }
          ],
          "scatterpolar": [
           {
            "marker": {
             "colorbar": {
              "outlinewidth": 0,
              "ticks": ""
             }
            },
            "type": "scatterpolar"
           }
          ],
          "scatterpolargl": [
           {
            "marker": {
             "colorbar": {
              "outlinewidth": 0,
              "ticks": ""
             }
            },
            "type": "scatterpolargl"
           }
          ],
          "scatterternary": [
           {
            "marker": {
             "colorbar": {
              "outlinewidth": 0,
              "ticks": ""
             }
            },
            "type": "scatterternary"
           }
          ],
          "surface": [
           {
            "colorbar": {
             "outlinewidth": 0,
             "ticks": ""
            },
            "colorscale": [
             [
              0,
              "#0d0887"
             ],
             [
              0.1111111111111111,
              "#46039f"
             ],
             [
              0.2222222222222222,
              "#7201a8"
             ],
             [
              0.3333333333333333,
              "#9c179e"
             ],
             [
              0.4444444444444444,
              "#bd3786"
             ],
             [
              0.5555555555555556,
              "#d8576b"
             ],
             [
              0.6666666666666666,
              "#ed7953"
             ],
             [
              0.7777777777777778,
              "#fb9f3a"
             ],
             [
              0.8888888888888888,
              "#fdca26"
             ],
             [
              1,
              "#f0f921"
             ]
            ],
            "type": "surface"
           }
          ],
          "table": [
           {
            "cells": {
             "fill": {
              "color": "#EBF0F8"
             },
             "line": {
              "color": "white"
             }
            },
            "header": {
             "fill": {
              "color": "#C8D4E3"
             },
             "line": {
              "color": "white"
             }
            },
            "type": "table"
           }
          ]
         },
         "layout": {
          "annotationdefaults": {
           "arrowcolor": "#2a3f5f",
           "arrowhead": 0,
           "arrowwidth": 1
          },
          "autotypenumbers": "strict",
          "coloraxis": {
           "colorbar": {
            "outlinewidth": 0,
            "ticks": ""
           }
          },
          "colorscale": {
           "diverging": [
            [
             0,
             "#8e0152"
            ],
            [
             0.1,
             "#c51b7d"
            ],
            [
             0.2,
             "#de77ae"
            ],
            [
             0.3,
             "#f1b6da"
            ],
            [
             0.4,
             "#fde0ef"
            ],
            [
             0.5,
             "#f7f7f7"
            ],
            [
             0.6,
             "#e6f5d0"
            ],
            [
             0.7,
             "#b8e186"
            ],
            [
             0.8,
             "#7fbc41"
            ],
            [
             0.9,
             "#4d9221"
            ],
            [
             1,
             "#276419"
            ]
           ],
           "sequential": [
            [
             0,
             "#0d0887"
            ],
            [
             0.1111111111111111,
             "#46039f"
            ],
            [
             0.2222222222222222,
             "#7201a8"
            ],
            [
             0.3333333333333333,
             "#9c179e"
            ],
            [
             0.4444444444444444,
             "#bd3786"
            ],
            [
             0.5555555555555556,
             "#d8576b"
            ],
            [
             0.6666666666666666,
             "#ed7953"
            ],
            [
             0.7777777777777778,
             "#fb9f3a"
            ],
            [
             0.8888888888888888,
             "#fdca26"
            ],
            [
             1,
             "#f0f921"
            ]
           ],
           "sequentialminus": [
            [
             0,
             "#0d0887"
            ],
            [
             0.1111111111111111,
             "#46039f"
            ],
            [
             0.2222222222222222,
             "#7201a8"
            ],
            [
             0.3333333333333333,
             "#9c179e"
            ],
            [
             0.4444444444444444,
             "#bd3786"
            ],
            [
             0.5555555555555556,
             "#d8576b"
            ],
            [
             0.6666666666666666,
             "#ed7953"
            ],
            [
             0.7777777777777778,
             "#fb9f3a"
            ],
            [
             0.8888888888888888,
             "#fdca26"
            ],
            [
             1,
             "#f0f921"
            ]
           ]
          },
          "colorway": [
           "#636efa",
           "#EF553B",
           "#00cc96",
           "#ab63fa",
           "#FFA15A",
           "#19d3f3",
           "#FF6692",
           "#B6E880",
           "#FF97FF",
           "#FECB52"
          ],
          "font": {
           "color": "#2a3f5f"
          },
          "geo": {
           "bgcolor": "white",
           "lakecolor": "white",
           "landcolor": "#E5ECF6",
           "showlakes": true,
           "showland": true,
           "subunitcolor": "white"
          },
          "hoverlabel": {
           "align": "left"
          },
          "hovermode": "closest",
          "mapbox": {
           "style": "light"
          },
          "paper_bgcolor": "white",
          "plot_bgcolor": "#E5ECF6",
          "polar": {
           "angularaxis": {
            "gridcolor": "white",
            "linecolor": "white",
            "ticks": ""
           },
           "bgcolor": "#E5ECF6",
           "radialaxis": {
            "gridcolor": "white",
            "linecolor": "white",
            "ticks": ""
           }
          },
          "scene": {
           "xaxis": {
            "backgroundcolor": "#E5ECF6",
            "gridcolor": "white",
            "gridwidth": 2,
            "linecolor": "white",
            "showbackground": true,
            "ticks": "",
            "zerolinecolor": "white"
           },
           "yaxis": {
            "backgroundcolor": "#E5ECF6",
            "gridcolor": "white",
            "gridwidth": 2,
            "linecolor": "white",
            "showbackground": true,
            "ticks": "",
            "zerolinecolor": "white"
           },
           "zaxis": {
            "backgroundcolor": "#E5ECF6",
            "gridcolor": "white",
            "gridwidth": 2,
            "linecolor": "white",
            "showbackground": true,
            "ticks": "",
            "zerolinecolor": "white"
           }
          },
          "shapedefaults": {
           "line": {
            "color": "#2a3f5f"
           }
          },
          "ternary": {
           "aaxis": {
            "gridcolor": "white",
            "linecolor": "white",
            "ticks": ""
           },
           "baxis": {
            "gridcolor": "white",
            "linecolor": "white",
            "ticks": ""
           },
           "bgcolor": "#E5ECF6",
           "caxis": {
            "gridcolor": "white",
            "linecolor": "white",
            "ticks": ""
           }
          },
          "title": {
           "x": 0.05
          },
          "xaxis": {
           "automargin": true,
           "gridcolor": "white",
           "linecolor": "white",
           "ticks": "",
           "title": {
            "standoff": 15
           },
           "zerolinecolor": "white",
           "zerolinewidth": 2
          },
          "yaxis": {
           "automargin": true,
           "gridcolor": "white",
           "linecolor": "white",
           "ticks": "",
           "title": {
            "standoff": 15
           },
           "zerolinecolor": "white",
           "zerolinewidth": 2
          }
         }
        },
        "title": {
         "text": "Gantt Chart"
        },
        "width": 800,
        "xaxis": {
         "rangeselector": {
          "buttons": [
           {
            "count": 7,
            "label": "1w",
            "step": "day",
            "stepmode": "backward"
           },
           {
            "count": 1,
            "label": "1m",
            "step": "month",
            "stepmode": "backward"
           },
           {
            "count": 6,
            "label": "6m",
            "step": "month",
            "stepmode": "backward"
           },
           {
            "count": 1,
            "label": "YTD",
            "step": "year",
            "stepmode": "todate"
           },
           {
            "count": 1,
            "label": "1y",
            "step": "year",
            "stepmode": "backward"
           },
           {
            "step": "all"
           }
          ]
         },
         "showgrid": false,
         "type": "linear",
         "zeroline": false
        },
        "yaxis": {
         "autorange": false,
         "range": [
          -1,
          10
         ],
         "showgrid": false,
         "ticktext": [
          "RES_3_3",
          "RES_3_2",
          "RES_3_1",
          "RES_2_2",
          "RES_2_1",
          "RES_1_4",
          "RES_1_3",
          "RES_1_2",
          "RES_1_1"
         ],
         "tickvals": [
          0,
          1,
          2,
          3,
          4,
          5,
          6,
          7,
          8
         ],
         "zeroline": false
        }
       }
      },
      "text/html": [
       "<div>                            <div id=\"4368de91-4d37-4407-8d5c-18bed5e73e61\" class=\"plotly-graph-div\" style=\"height:400px; width:800px;\"></div>            <script type=\"text/javascript\">                require([\"plotly\"], function(Plotly) {                    window.PLOTLYENV=window.PLOTLYENV || {};                                    if (document.getElementById(\"4368de91-4d37-4407-8d5c-18bed5e73e61\")) {                    Plotly.newPlot(                        \"4368de91-4d37-4407-8d5c-18bed5e73e61\",                        [{\"fill\":\"toself\",\"fillcolor\":\"rgb(214, 39, 40)\",\"hoverinfo\":\"name\",\"legendgroup\":\"rgb(214, 39, 40)\",\"mode\":\"none\",\"name\":\"PRODUCT_4\",\"showlegend\":true,\"x\":[0,41,41,0,0,0,92,92,0,0,0,100,100,0,0,41,141,141,41,41,92,192,192,92,92,92,184,184,92,92,100,210,210,100,100,141,241,241,141,141,183,293,293,183,183,192,292,292,192,192,192,292,292,192,192,292,392,392,292,292,293,393,393,293,293,312,430,430,312,312,327,437,437,327,327,364,475,475,364,364,400,451,451,400,400,437,547,547,437,437,451,551,551,451,451,475,575,575,475,475,512,643,643,512,512,590,705,705,590,590,595,646,646,595,595,643,743,743,643],\"y\":[7.6,7.6,8.4,8.4,null,5.6,5.6,6.4,6.4,null,4.6,4.6,5.4,5.4,null,3.6,3.6,4.4,4.4,null,2.6,2.6,3.4,3.4,null,5.6,5.6,6.4,6.4,null,6.6,6.6,7.4,7.4,null,1.6,1.6,2.4,2.4,null,3.6,3.6,4.4,4.4,null,2.6,2.6,3.4,3.4,null,-0.4,-0.4,0.4,0.4,null,1.6,1.6,2.4,2.4,null,-0.4,-0.4,0.4,0.4,null,2.6,2.6,3.4,3.4,null,6.6,6.6,7.4,7.4,null,4.6,4.6,5.4,5.4,null,7.6,7.6,8.4,8.4,null,3.6,3.6,4.4,4.4,null,2.6,2.6,3.4,3.4,null,3.6,3.6,4.4,4.4,null,1.6,1.6,2.4,2.4,null,-0.4,-0.4,0.4,0.4,null,0.6,0.6,1.4,1.4,null,1.6,1.6,2.4,2.4],\"type\":\"scatter\"},{\"fill\":\"toself\",\"fillcolor\":\"rgb(255, 127, 14)\",\"hoverinfo\":\"name\",\"legendgroup\":\"rgb(255, 127, 14)\",\"mode\":\"none\",\"name\":\"PRODUCT_2\",\"showlegend\":true,\"x\":[0,100,100,0,0,100,210,210,100,100,141,162,162,141,141,162,172,172,162,162,184,294,294,184,184,276,400,400,276,276,362,383,383,362,362,383,393,393,383,383,400,421,421,400,400,412,433,433,412,412,423,470,470,423,423,470,480,480,470],\"y\":[6.6,6.6,7.4,7.4,null,4.6,4.6,5.4,5.4,null,3.6,3.6,4.4,4.4,null,0.6,0.6,1.4,1.4,null,5.6,5.6,6.4,6.4,null,7.6,7.6,8.4,8.4,null,3.6,3.6,4.4,4.4,null,3.6,3.6,4.4,4.4,null,3.6,3.6,4.4,4.4,null,0.6,0.6,1.4,1.4,null,-0.4,-0.4,0.4,0.4,null,-0.4,-0.4,0.4,0.4],\"type\":\"scatter\"},{\"fill\":\"toself\",\"fillcolor\":\"rgb(31, 119, 180)\",\"hoverinfo\":\"name\",\"legendgroup\":\"rgb(31, 119, 180)\",\"mode\":\"none\",\"name\":\"PRODUCT_1\",\"showlegend\":true,\"x\":[41,151,151,41,41,151,251,251,151,151,162,183,183,162,162,183,293,293,183,183,210,302,302,210,210,210,344,344,210,210,292,312,312,292,292,294,418,418,294,294,312,412,412,312,312,313,342,342,313,313,392,512,512,392,392,413,434,434,413,413,418,428,428,418,418,453,595,595,453,453,480,590,590,480],\"y\":[7.6,7.6,8.4,8.4,null,7.6,7.6,8.4,8.4,null,3.6,3.6,4.4,4.4,null,0.6,0.6,1.4,1.4,null,6.6,6.6,7.4,7.4,null,4.6,4.6,5.4,5.4,null,2.6,2.6,3.4,3.4,null,5.6,5.6,6.4,6.4,null,0.6,0.6,1.4,1.4,null,3.6,3.6,4.4,4.4,null,1.6,1.6,2.4,2.4,null,3.6,3.6,4.4,4.4,null,3.6,3.6,4.4,4.4,null,0.6,0.6,1.4,1.4,null,-0.4,-0.4,0.4,0.4],\"type\":\"scatter\"},{\"fill\":\"toself\",\"fillcolor\":\"rgb(44, 160, 44)\",\"hoverinfo\":\"name\",\"legendgroup\":\"rgb(44, 160, 44)\",\"mode\":\"none\",\"name\":\"PRODUCT_3\",\"showlegend\":true,\"x\":[251,276,276,251,251,293,313,313,293,293,302,327,327,302,302,342,362,362,342,342,344,364,364,344,344,393,413,413,393,393,393,413,413,393,393,413,423,423,413,413,433,453,453,433],\"y\":[7.6,7.6,8.4,8.4,null,3.6,3.6,4.4,4.4,null,6.6,6.6,7.4,7.4,null,3.6,3.6,4.4,4.4,null,4.6,4.6,5.4,5.4,null,3.6,3.6,4.4,4.4,null,-0.4,-0.4,0.4,0.4,null,-0.4,-0.4,0.4,0.4,null,0.6,0.6,1.4,1.4],\"type\":\"scatter\"},{\"legendgroup\":\"rgb(214, 39, 40)\",\"marker\":{\"color\":\"rgb(214, 39, 40)\",\"opacity\":0,\"size\":1},\"mode\":\"markers\",\"name\":\"\",\"showlegend\":false,\"text\":[null,null,null,null,null,null,null,null,null,null,null,null,null,null,null,null,null,null,null,null,null,null,null,null,null,null,null,null,null,null,null,null,null,null,null,null,null,null,null,null,null,null,null,null,null,null,null,null],\"x\":[0,41,0,92,0,100,41,141,92,192,92,184,100,210,141,241,183,293,192,292,192,292,292,392,293,393,312,430,327,437,364,475,400,451,437,547,451,551,475,575,512,643,590,705,595,646,643,743],\"y\":[8,8,6,6,5,5,4,4,3,3,6,6,7,7,2,2,4,4,3,3,0,0,2,2,0,0,3,3,7,7,5,5,8,8,4,4,3,3,4,4,2,2,0,0,1,1,2,2],\"type\":\"scatter\"},{\"legendgroup\":\"rgb(255, 127, 14)\",\"marker\":{\"color\":\"rgb(255, 127, 14)\",\"opacity\":0,\"size\":1},\"mode\":\"markers\",\"name\":\"\",\"showlegend\":false,\"text\":[null,null,null,null,null,null,null,null,null,null,null,null,null,null,null,null,null,null,null,null,null,null,null,null],\"x\":[0,100,100,210,141,162,162,172,184,294,276,400,362,383,383,393,400,421,412,433,423,470,470,480],\"y\":[7,7,5,5,4,4,1,1,6,6,8,8,4,4,4,4,4,4,1,1,0,0,0,0],\"type\":\"scatter\"},{\"legendgroup\":\"rgb(31, 119, 180)\",\"marker\":{\"color\":\"rgb(31, 119, 180)\",\"opacity\":0,\"size\":1},\"mode\":\"markers\",\"name\":\"\",\"showlegend\":false,\"text\":[null,null,null,null,null,null,null,null,null,null,null,null,null,null,null,null,null,null,null,null,null,null,null,null,null,null,null,null,null,null],\"x\":[41,151,151,251,162,183,183,293,210,302,210,344,292,312,294,418,312,412,313,342,392,512,413,434,418,428,453,595,480,590],\"y\":[8,8,8,8,4,4,1,1,7,7,5,5,3,3,6,6,1,1,4,4,2,2,4,4,4,4,1,1,0,0],\"type\":\"scatter\"},{\"legendgroup\":\"rgb(44, 160, 44)\",\"marker\":{\"color\":\"rgb(44, 160, 44)\",\"opacity\":0,\"size\":1},\"mode\":\"markers\",\"name\":\"\",\"showlegend\":false,\"text\":[null,null,null,null,null,null,null,null,null,null,null,null,null,null,null,null,null,null],\"x\":[251,276,293,313,302,327,342,362,344,364,393,413,393,413,413,423,433,453],\"y\":[8,8,4,4,7,7,4,4,5,5,4,4,0,0,0,0,1,1],\"type\":\"scatter\"}],                        {\"height\":400,\"hovermode\":\"closest\",\"showlegend\":true,\"title\":{\"text\":\"Gantt Chart\"},\"xaxis\":{\"rangeselector\":{\"buttons\":[{\"count\":7,\"label\":\"1w\",\"step\":\"day\",\"stepmode\":\"backward\"},{\"count\":1,\"label\":\"1m\",\"step\":\"month\",\"stepmode\":\"backward\"},{\"count\":6,\"label\":\"6m\",\"step\":\"month\",\"stepmode\":\"backward\"},{\"count\":1,\"label\":\"YTD\",\"step\":\"year\",\"stepmode\":\"todate\"},{\"count\":1,\"label\":\"1y\",\"step\":\"year\",\"stepmode\":\"backward\"},{\"step\":\"all\"}]},\"showgrid\":false,\"type\":\"linear\",\"zeroline\":false},\"yaxis\":{\"autorange\":false,\"range\":[-1,10],\"showgrid\":false,\"ticktext\":[\"RES_3_3\",\"RES_3_2\",\"RES_3_1\",\"RES_2_2\",\"RES_2_1\",\"RES_1_4\",\"RES_1_3\",\"RES_1_2\",\"RES_1_1\"],\"tickvals\":[0,1,2,3,4,5,6,7,8],\"zeroline\":false},\"template\":{\"data\":{\"bar\":[{\"error_x\":{\"color\":\"#2a3f5f\"},\"error_y\":{\"color\":\"#2a3f5f\"},\"marker\":{\"line\":{\"color\":\"#E5ECF6\",\"width\":0.5},\"pattern\":{\"fillmode\":\"overlay\",\"size\":10,\"solidity\":0.2}},\"type\":\"bar\"}],\"barpolar\":[{\"marker\":{\"line\":{\"color\":\"#E5ECF6\",\"width\":0.5},\"pattern\":{\"fillmode\":\"overlay\",\"size\":10,\"solidity\":0.2}},\"type\":\"barpolar\"}],\"carpet\":[{\"aaxis\":{\"endlinecolor\":\"#2a3f5f\",\"gridcolor\":\"white\",\"linecolor\":\"white\",\"minorgridcolor\":\"white\",\"startlinecolor\":\"#2a3f5f\"},\"baxis\":{\"endlinecolor\":\"#2a3f5f\",\"gridcolor\":\"white\",\"linecolor\":\"white\",\"minorgridcolor\":\"white\",\"startlinecolor\":\"#2a3f5f\"},\"type\":\"carpet\"}],\"choropleth\":[{\"colorbar\":{\"outlinewidth\":0,\"ticks\":\"\"},\"type\":\"choropleth\"}],\"contour\":[{\"colorbar\":{\"outlinewidth\":0,\"ticks\":\"\"},\"colorscale\":[[0.0,\"#0d0887\"],[0.1111111111111111,\"#46039f\"],[0.2222222222222222,\"#7201a8\"],[0.3333333333333333,\"#9c179e\"],[0.4444444444444444,\"#bd3786\"],[0.5555555555555556,\"#d8576b\"],[0.6666666666666666,\"#ed7953\"],[0.7777777777777778,\"#fb9f3a\"],[0.8888888888888888,\"#fdca26\"],[1.0,\"#f0f921\"]],\"type\":\"contour\"}],\"contourcarpet\":[{\"colorbar\":{\"outlinewidth\":0,\"ticks\":\"\"},\"type\":\"contourcarpet\"}],\"heatmap\":[{\"colorbar\":{\"outlinewidth\":0,\"ticks\":\"\"},\"colorscale\":[[0.0,\"#0d0887\"],[0.1111111111111111,\"#46039f\"],[0.2222222222222222,\"#7201a8\"],[0.3333333333333333,\"#9c179e\"],[0.4444444444444444,\"#bd3786\"],[0.5555555555555556,\"#d8576b\"],[0.6666666666666666,\"#ed7953\"],[0.7777777777777778,\"#fb9f3a\"],[0.8888888888888888,\"#fdca26\"],[1.0,\"#f0f921\"]],\"type\":\"heatmap\"}],\"heatmapgl\":[{\"colorbar\":{\"outlinewidth\":0,\"ticks\":\"\"},\"colorscale\":[[0.0,\"#0d0887\"],[0.1111111111111111,\"#46039f\"],[0.2222222222222222,\"#7201a8\"],[0.3333333333333333,\"#9c179e\"],[0.4444444444444444,\"#bd3786\"],[0.5555555555555556,\"#d8576b\"],[0.6666666666666666,\"#ed7953\"],[0.7777777777777778,\"#fb9f3a\"],[0.8888888888888888,\"#fdca26\"],[1.0,\"#f0f921\"]],\"type\":\"heatmapgl\"}],\"histogram\":[{\"marker\":{\"pattern\":{\"fillmode\":\"overlay\",\"size\":10,\"solidity\":0.2}},\"type\":\"histogram\"}],\"histogram2d\":[{\"colorbar\":{\"outlinewidth\":0,\"ticks\":\"\"},\"colorscale\":[[0.0,\"#0d0887\"],[0.1111111111111111,\"#46039f\"],[0.2222222222222222,\"#7201a8\"],[0.3333333333333333,\"#9c179e\"],[0.4444444444444444,\"#bd3786\"],[0.5555555555555556,\"#d8576b\"],[0.6666666666666666,\"#ed7953\"],[0.7777777777777778,\"#fb9f3a\"],[0.8888888888888888,\"#fdca26\"],[1.0,\"#f0f921\"]],\"type\":\"histogram2d\"}],\"histogram2dcontour\":[{\"colorbar\":{\"outlinewidth\":0,\"ticks\":\"\"},\"colorscale\":[[0.0,\"#0d0887\"],[0.1111111111111111,\"#46039f\"],[0.2222222222222222,\"#7201a8\"],[0.3333333333333333,\"#9c179e\"],[0.4444444444444444,\"#bd3786\"],[0.5555555555555556,\"#d8576b\"],[0.6666666666666666,\"#ed7953\"],[0.7777777777777778,\"#fb9f3a\"],[0.8888888888888888,\"#fdca26\"],[1.0,\"#f0f921\"]],\"type\":\"histogram2dcontour\"}],\"mesh3d\":[{\"colorbar\":{\"outlinewidth\":0,\"ticks\":\"\"},\"type\":\"mesh3d\"}],\"parcoords\":[{\"line\":{\"colorbar\":{\"outlinewidth\":0,\"ticks\":\"\"}},\"type\":\"parcoords\"}],\"pie\":[{\"automargin\":true,\"type\":\"pie\"}],\"scatter\":[{\"marker\":{\"colorbar\":{\"outlinewidth\":0,\"ticks\":\"\"}},\"type\":\"scatter\"}],\"scatter3d\":[{\"line\":{\"colorbar\":{\"outlinewidth\":0,\"ticks\":\"\"}},\"marker\":{\"colorbar\":{\"outlinewidth\":0,\"ticks\":\"\"}},\"type\":\"scatter3d\"}],\"scattercarpet\":[{\"marker\":{\"colorbar\":{\"outlinewidth\":0,\"ticks\":\"\"}},\"type\":\"scattercarpet\"}],\"scattergeo\":[{\"marker\":{\"colorbar\":{\"outlinewidth\":0,\"ticks\":\"\"}},\"type\":\"scattergeo\"}],\"scattergl\":[{\"marker\":{\"colorbar\":{\"outlinewidth\":0,\"ticks\":\"\"}},\"type\":\"scattergl\"}],\"scattermapbox\":[{\"marker\":{\"colorbar\":{\"outlinewidth\":0,\"ticks\":\"\"}},\"type\":\"scattermapbox\"}],\"scatterpolar\":[{\"marker\":{\"colorbar\":{\"outlinewidth\":0,\"ticks\":\"\"}},\"type\":\"scatterpolar\"}],\"scatterpolargl\":[{\"marker\":{\"colorbar\":{\"outlinewidth\":0,\"ticks\":\"\"}},\"type\":\"scatterpolargl\"}],\"scatterternary\":[{\"marker\":{\"colorbar\":{\"outlinewidth\":0,\"ticks\":\"\"}},\"type\":\"scatterternary\"}],\"surface\":[{\"colorbar\":{\"outlinewidth\":0,\"ticks\":\"\"},\"colorscale\":[[0.0,\"#0d0887\"],[0.1111111111111111,\"#46039f\"],[0.2222222222222222,\"#7201a8\"],[0.3333333333333333,\"#9c179e\"],[0.4444444444444444,\"#bd3786\"],[0.5555555555555556,\"#d8576b\"],[0.6666666666666666,\"#ed7953\"],[0.7777777777777778,\"#fb9f3a\"],[0.8888888888888888,\"#fdca26\"],[1.0,\"#f0f921\"]],\"type\":\"surface\"}],\"table\":[{\"cells\":{\"fill\":{\"color\":\"#EBF0F8\"},\"line\":{\"color\":\"white\"}},\"header\":{\"fill\":{\"color\":\"#C8D4E3\"},\"line\":{\"color\":\"white\"}},\"type\":\"table\"}]},\"layout\":{\"annotationdefaults\":{\"arrowcolor\":\"#2a3f5f\",\"arrowhead\":0,\"arrowwidth\":1},\"autotypenumbers\":\"strict\",\"coloraxis\":{\"colorbar\":{\"outlinewidth\":0,\"ticks\":\"\"}},\"colorscale\":{\"diverging\":[[0,\"#8e0152\"],[0.1,\"#c51b7d\"],[0.2,\"#de77ae\"],[0.3,\"#f1b6da\"],[0.4,\"#fde0ef\"],[0.5,\"#f7f7f7\"],[0.6,\"#e6f5d0\"],[0.7,\"#b8e186\"],[0.8,\"#7fbc41\"],[0.9,\"#4d9221\"],[1,\"#276419\"]],\"sequential\":[[0.0,\"#0d0887\"],[0.1111111111111111,\"#46039f\"],[0.2222222222222222,\"#7201a8\"],[0.3333333333333333,\"#9c179e\"],[0.4444444444444444,\"#bd3786\"],[0.5555555555555556,\"#d8576b\"],[0.6666666666666666,\"#ed7953\"],[0.7777777777777778,\"#fb9f3a\"],[0.8888888888888888,\"#fdca26\"],[1.0,\"#f0f921\"]],\"sequentialminus\":[[0.0,\"#0d0887\"],[0.1111111111111111,\"#46039f\"],[0.2222222222222222,\"#7201a8\"],[0.3333333333333333,\"#9c179e\"],[0.4444444444444444,\"#bd3786\"],[0.5555555555555556,\"#d8576b\"],[0.6666666666666666,\"#ed7953\"],[0.7777777777777778,\"#fb9f3a\"],[0.8888888888888888,\"#fdca26\"],[1.0,\"#f0f921\"]]},\"colorway\":[\"#636efa\",\"#EF553B\",\"#00cc96\",\"#ab63fa\",\"#FFA15A\",\"#19d3f3\",\"#FF6692\",\"#B6E880\",\"#FF97FF\",\"#FECB52\"],\"font\":{\"color\":\"#2a3f5f\"},\"geo\":{\"bgcolor\":\"white\",\"lakecolor\":\"white\",\"landcolor\":\"#E5ECF6\",\"showlakes\":true,\"showland\":true,\"subunitcolor\":\"white\"},\"hoverlabel\":{\"align\":\"left\"},\"hovermode\":\"closest\",\"mapbox\":{\"style\":\"light\"},\"paper_bgcolor\":\"white\",\"plot_bgcolor\":\"#E5ECF6\",\"polar\":{\"angularaxis\":{\"gridcolor\":\"white\",\"linecolor\":\"white\",\"ticks\":\"\"},\"bgcolor\":\"#E5ECF6\",\"radialaxis\":{\"gridcolor\":\"white\",\"linecolor\":\"white\",\"ticks\":\"\"}},\"scene\":{\"xaxis\":{\"backgroundcolor\":\"#E5ECF6\",\"gridcolor\":\"white\",\"gridwidth\":2,\"linecolor\":\"white\",\"showbackground\":true,\"ticks\":\"\",\"zerolinecolor\":\"white\"},\"yaxis\":{\"backgroundcolor\":\"#E5ECF6\",\"gridcolor\":\"white\",\"gridwidth\":2,\"linecolor\":\"white\",\"showbackground\":true,\"ticks\":\"\",\"zerolinecolor\":\"white\"},\"zaxis\":{\"backgroundcolor\":\"#E5ECF6\",\"gridcolor\":\"white\",\"gridwidth\":2,\"linecolor\":\"white\",\"showbackground\":true,\"ticks\":\"\",\"zerolinecolor\":\"white\"}},\"shapedefaults\":{\"line\":{\"color\":\"#2a3f5f\"}},\"ternary\":{\"aaxis\":{\"gridcolor\":\"white\",\"linecolor\":\"white\",\"ticks\":\"\"},\"baxis\":{\"gridcolor\":\"white\",\"linecolor\":\"white\",\"ticks\":\"\"},\"bgcolor\":\"#E5ECF6\",\"caxis\":{\"gridcolor\":\"white\",\"linecolor\":\"white\",\"ticks\":\"\"}},\"title\":{\"x\":0.05},\"xaxis\":{\"automargin\":true,\"gridcolor\":\"white\",\"linecolor\":\"white\",\"ticks\":\"\",\"title\":{\"standoff\":15},\"zerolinecolor\":\"white\",\"zerolinewidth\":2},\"yaxis\":{\"automargin\":true,\"gridcolor\":\"white\",\"linecolor\":\"white\",\"ticks\":\"\",\"title\":{\"standoff\":15},\"zerolinecolor\":\"white\",\"zerolinewidth\":2}}},\"autosize\":false,\"width\":800},                        {\"responsive\": true}                    ).then(function(){\n",
       "                            \n",
       "var gd = document.getElementById('4368de91-4d37-4407-8d5c-18bed5e73e61');\n",
       "var x = new MutationObserver(function (mutations, observer) {{\n",
       "        var display = window.getComputedStyle(gd).display;\n",
       "        if (!display || display === 'none') {{\n",
       "            console.log([gd, 'removed!']);\n",
       "            Plotly.purge(gd);\n",
       "            observer.disconnect();\n",
       "        }}\n",
       "}});\n",
       "\n",
       "// Listen for the removal of the full notebook cells\n",
       "var notebookContainer = gd.closest('#notebook-container');\n",
       "if (notebookContainer) {{\n",
       "    x.observe(notebookContainer, {childList: true});\n",
       "}}\n",
       "\n",
       "// Listen for the clearing of the current output cell\n",
       "var outputEl = gd.closest('.output');\n",
       "if (outputEl) {{\n",
       "    x.observe(outputEl, {childList: true});\n",
       "}}\n",
       "\n",
       "                        })                };                });            </script>        </div>"
      ]
     },
     "metadata": {},
     "output_type": "display_data"
    }
   ],
   "source": [
    "sim_automated.run(visualise=True, verbose=False, cleverInitialise=False)"
   ]
  },
  {
   "cell_type": "code",
   "execution_count": 40,
   "id": "94ea3527",
   "metadata": {},
   "outputs": [
    {
     "data": {
      "image/png": "[encoded data removed]",
      "text/plain": [
       "<Figure size 720x504 with 1 Axes>"
      ]
     },
     "metadata": {
      "needs_background": "light"
     },
     "output_type": "display_data"
    }
   ],
   "source": [
    "data1_noF_noS = [612, 658 ,605,742 ,1117 ,1414 ,1227 ,1208]\n",
    "data2_noF_noS = [612, 658 ,605,742 ,1117 ,1414 ,1227 ,1208]\n",
    "data3_noF_noS = [612, 658 ,605,742 ,1117 ,1414 ,1227 ,1208]\n",
    "data4_noF_noS = [612, 658 ,605,742 ,1117 ,1414 ,1227 ,1208]\n",
    "data1 = [data1_noF_noS,   data2_noF_noS,  data3_noF_noS, data4_noF_noS]\n",
    "\n",
    "labels = ['Optimal','Heuristic','PPO Model','Graph_state Model' ]\n",
    "\n",
    "fig = plt.figure(figsize =(10, 7))\n",
    " \n",
    "# Creating axes instance\n",
    "ax = fig.add_axes([0, 0, 1, 1])\n",
    " \n",
    "# Creating plot\n",
    "bp = ax.boxplot(data1, labels = labels)\n",
    " \n",
    "# show plot\n",
    "plt.show()"
   ]
  },
  {
   "cell_type": "code",
   "execution_count": 41,
   "id": "f65cca76",
   "metadata": {},
   "outputs": [
    {
     "data": {
      "image/png": "[encoded data removed]",
      "text/plain": [
       "<Figure size 720x504 with 1 Axes>"
      ]
     },
     "metadata": {
      "needs_background": "light"
     },
     "output_type": "display_data"
    }
   ],
   "source": [
    "data1_noF_yesS = [488, 402, 660, 488, 938, 938, 680, 594]\n",
    "data2_noF_yesS = [488, 403, 662, 489, 992, 972, 703, 617]\n",
    "data3_noF_yesS = [595, 530, 757, 607, 1097, 1077, 809, 723]\n",
    "data4_noF_yesS = [574, 497, 767, 606, 1075, 1110, 765, 711]\n",
    "data2 = [data1_noF_yesS, data2_noF_yesS, data3_noF_yesS, data4_noF_yesS]\n",
    "\n",
    "fig = plt.figure(figsize =(10, 7))\n",
    " \n",
    "# Creating axes instance\n",
    "ax = fig.add_axes([0, 0, 1, 1])\n",
    " \n",
    "# Creating plot\n",
    "bp = ax.boxplot(data2,labels=labels)\n",
    " \n",
    "# show plot\n",
    "plt.show()"
   ]
  },
  {
   "cell_type": "code",
   "execution_count": 42,
   "id": "19989028",
   "metadata": {},
   "outputs": [
    {
     "data": {
      "image/png": "[encoded data removed]",
      "text/plain": [
       "<Figure size 720x504 with 1 Axes>"
      ]
     },
     "metadata": {
      "needs_background": "light"
     },
     "output_type": "display_data"
    }
   ],
   "source": [
    "data1_yesF_noS = [342, 305, 322, 306, 468, 422, 410, 360]\n",
    "data2_yesF_noS = [396, 378, 363, 326, 495, 471, 554, 428]\n",
    "data3_yesF_noS = [438, 379, 376, 384, 526, 483, 515, 515]\n",
    "data4_yesF_noS = [398, 366, 384, 378, 513, 490, 534, 461]\n",
    "data3 = [data1_yesF_noS, data2_yesF_noS, data3_yesF_noS, data4_yesF_noS]\n",
    "\n",
    "fig = plt.figure(figsize =(10, 7))\n",
    " \n",
    "# Creating axes instance\n",
    "ax = fig.add_axes([0, 0, 1, 1])\n",
    " \n",
    "# Creating plot\n",
    "bp = ax.boxplot(data3, labels=labels)\n",
    " \n",
    "# show plot\n",
    "plt.show()"
   ]
  },
  {
   "cell_type": "code",
   "execution_count": 43,
   "id": "d781292d",
   "metadata": {},
   "outputs": [
    {
     "data": {
      "image/png": "[encoded data removed]",
      "text/plain": [
       "<Figure size 720x504 with 1 Axes>"
      ]
     },
     "metadata": {
      "needs_background": "light"
     },
     "output_type": "display_data"
    }
   ],
   "source": [
    "data1_yesF_yesS = [200, 196, 226, 284, 587, 549, 331, 557]\n",
    "data2_yesF_yesS = [202, 227, 241, 300, 711, 768, 441, 698]\n",
    "data3_yesF_yesS = [273, 272, 284, 346, 864, 870, 613, 742]\n",
    "data4_yesF_yesS = [268, 220, 261, 316, 853, 807, 534, 742]\n",
    "data4 = [data1_yesF_yesS, data2_yesF_yesS, data3_yesF_yesS, data4_yesF_yesS]\n",
    "\n",
    "fig = plt.figure(figsize =(10, 7))\n",
    " \n",
    "# Creating axes instance\n",
    "ax = fig.add_axes([0, 0, 1, 1])\n",
    " \n",
    "# Creating plot\n",
    "bp = ax.boxplot(data4,labels=labels)\n",
    " \n",
    "# show plot\n",
    "plt.show()"
   ]
  },
  {
   "cell_type": "code",
   "execution_count": null,
   "id": "fdfc101f",
   "metadata": {},
   "outputs": [],
   "source": []
  }
 ],
 "metadata": {
  "kernelspec": {
   "display_name": "Python 3 (ipykernel)",
   "language": "python",
   "name": "python3"
  },
  "language_info": {
   "codemirror_mode": {
    "name": "ipython",
    "version": 3
   },
   "file_extension": ".py",
   "mimetype": "text/x-python",
   "name": "python",
   "nbconvert_exporter": "python",
   "pygments_lexer": "ipython3",
   "version": "3.8.13"
  }
 },
 "nbformat": 4,
 "nbformat_minor": 5
}
